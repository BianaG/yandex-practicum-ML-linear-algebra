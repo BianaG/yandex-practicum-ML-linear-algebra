{
 "cells": [
  {
   "cell_type": "markdown",
   "metadata": {},
   "source": [
    "# Statement"
   ]
  },
  {
   "cell_type": "markdown",
   "metadata": {},
   "source": [
    "Insurance company wants to solve several tasks with the help of Machine Learning.\n",
    "\n",
    "- Task 1: Find customers who are similar to a given customer. This will help the company's agents with marketing.\n",
    "- Task 2: Predict whether a new customer is likely to receive an insurance benefit. Can a prediction model do better than a dummy model?\n",
    "- Task 3: Predict the number of insurance benefits a new customer is likely to receive using a linear regression model.\n",
    "- Task 4: Protect clients' personal data without breaking the model from the previous task."
   ]
  },
  {
   "cell_type": "markdown",
   "metadata": {},
   "source": [
    "# Data Preprocessing & Exploration\n",
    "\n",
    "## Initialization"
   ]
  },
  {
   "cell_type": "code",
   "execution_count": 2,
   "metadata": {},
   "outputs": [
    {
     "name": "stdout",
     "output_type": "stream",
     "text": [
      "Collecting sidetable\n",
      "  Downloading sidetable-0.9.0-py3-none-any.whl (17 kB)\n",
      "Requirement already satisfied: pandas>=1.0 in /opt/conda/lib/python3.9/site-packages (from sidetable) (1.2.4)\n",
      "Requirement already satisfied: python-dateutil>=2.7.3 in /opt/conda/lib/python3.9/site-packages (from pandas>=1.0->sidetable) (2.8.1)\n",
      "Requirement already satisfied: pytz>=2017.3 in /opt/conda/lib/python3.9/site-packages (from pandas>=1.0->sidetable) (2021.1)\n",
      "Requirement already satisfied: numpy>=1.16.5 in /opt/conda/lib/python3.9/site-packages (from pandas>=1.0->sidetable) (1.21.1)\n",
      "Requirement already satisfied: six>=1.5 in /opt/conda/lib/python3.9/site-packages (from python-dateutil>=2.7.3->pandas>=1.0->sidetable) (1.16.0)\n",
      "Installing collected packages: sidetable\n",
      "Successfully installed sidetable-0.9.0\n"
     ]
    }
   ],
   "source": [
    "import numpy as np\n",
    "import pandas as pd\n",
    "import math\n",
    "import sidetable as stb\n",
    "\n",
    "import seaborn as sns\n",
    "import matplotlib.pyplot as plt\n",
    "\n",
    "from sklearn.linear_model import LinearRegression\n",
    "from sklearn.metrics import mean_squared_error, r2_score\n",
    "import sklearn.neighbors\n",
    "import sklearn.preprocessing\n",
    "from sklearn.neighbors import NearestNeighbors\n",
    "from sklearn.preprocessing import MaxAbsScaler\n",
    "from sklearn.neighbors import KNeighborsClassifier\n",
    "from sklearn.utils import shuffle\n",
    "\n",
    "from sklearn.model_selection import train_test_split\n",
    "\n",
    "from IPython.display import display\n",
    "\n",
    "import warnings\n",
    "\n",
    "warnings.filterwarnings('ignore')"
   ]
  },
  {
   "cell_type": "markdown",
   "metadata": {},
   "source": [
    "## Load Data"
   ]
  },
  {
   "cell_type": "markdown",
   "metadata": {},
   "source": [
    "Load data and conduct a basic check that it's free from obvious issues."
   ]
  },
  {
   "cell_type": "code",
   "execution_count": 3,
   "metadata": {},
   "outputs": [],
   "source": [
    "try:\n",
    "    df = pd.read_csv('insurance_us.csv')\n",
    "except:\n",
    "    df = pd.read_csv('/datasets/insurance_us.csv')"
   ]
  },
  {
   "cell_type": "markdown",
   "metadata": {},
   "source": [
    "We rename the colums to make the code look more consistent with its style."
   ]
  },
  {
   "cell_type": "code",
   "execution_count": 4,
   "metadata": {},
   "outputs": [],
   "source": [
    "df = df.rename(columns={'Gender': 'gender', 'Age': 'age', 'Salary': 'income', 'Family members': 'family_members', 'Insurance benefits': 'insurance_benefits'})"
   ]
  },
  {
   "cell_type": "code",
   "execution_count": 5,
   "metadata": {},
   "outputs": [
    {
     "data": {
      "text/html": [
       "<div>\n",
       "<style scoped>\n",
       "    .dataframe tbody tr th:only-of-type {\n",
       "        vertical-align: middle;\n",
       "    }\n",
       "\n",
       "    .dataframe tbody tr th {\n",
       "        vertical-align: top;\n",
       "    }\n",
       "\n",
       "    .dataframe thead th {\n",
       "        text-align: right;\n",
       "    }\n",
       "</style>\n",
       "<table border=\"1\" class=\"dataframe\">\n",
       "  <thead>\n",
       "    <tr style=\"text-align: right;\">\n",
       "      <th></th>\n",
       "      <th>gender</th>\n",
       "      <th>age</th>\n",
       "      <th>income</th>\n",
       "      <th>family_members</th>\n",
       "      <th>insurance_benefits</th>\n",
       "    </tr>\n",
       "  </thead>\n",
       "  <tbody>\n",
       "    <tr>\n",
       "      <th>605</th>\n",
       "      <td>1</td>\n",
       "      <td>31.0</td>\n",
       "      <td>52000.0</td>\n",
       "      <td>2</td>\n",
       "      <td>0</td>\n",
       "    </tr>\n",
       "    <tr>\n",
       "      <th>4104</th>\n",
       "      <td>0</td>\n",
       "      <td>22.0</td>\n",
       "      <td>48600.0</td>\n",
       "      <td>1</td>\n",
       "      <td>0</td>\n",
       "    </tr>\n",
       "    <tr>\n",
       "      <th>3039</th>\n",
       "      <td>1</td>\n",
       "      <td>21.0</td>\n",
       "      <td>22600.0</td>\n",
       "      <td>2</td>\n",
       "      <td>0</td>\n",
       "    </tr>\n",
       "    <tr>\n",
       "      <th>4993</th>\n",
       "      <td>1</td>\n",
       "      <td>32.0</td>\n",
       "      <td>36000.0</td>\n",
       "      <td>1</td>\n",
       "      <td>0</td>\n",
       "    </tr>\n",
       "    <tr>\n",
       "      <th>3336</th>\n",
       "      <td>1</td>\n",
       "      <td>24.0</td>\n",
       "      <td>36500.0</td>\n",
       "      <td>3</td>\n",
       "      <td>0</td>\n",
       "    </tr>\n",
       "    <tr>\n",
       "      <th>97</th>\n",
       "      <td>1</td>\n",
       "      <td>23.0</td>\n",
       "      <td>31500.0</td>\n",
       "      <td>1</td>\n",
       "      <td>0</td>\n",
       "    </tr>\n",
       "    <tr>\n",
       "      <th>4939</th>\n",
       "      <td>0</td>\n",
       "      <td>28.0</td>\n",
       "      <td>30400.0</td>\n",
       "      <td>0</td>\n",
       "      <td>0</td>\n",
       "    </tr>\n",
       "    <tr>\n",
       "      <th>1001</th>\n",
       "      <td>1</td>\n",
       "      <td>32.0</td>\n",
       "      <td>29700.0</td>\n",
       "      <td>2</td>\n",
       "      <td>0</td>\n",
       "    </tr>\n",
       "    <tr>\n",
       "      <th>987</th>\n",
       "      <td>0</td>\n",
       "      <td>26.0</td>\n",
       "      <td>41000.0</td>\n",
       "      <td>0</td>\n",
       "      <td>0</td>\n",
       "    </tr>\n",
       "    <tr>\n",
       "      <th>4076</th>\n",
       "      <td>0</td>\n",
       "      <td>34.0</td>\n",
       "      <td>39300.0</td>\n",
       "      <td>2</td>\n",
       "      <td>0</td>\n",
       "    </tr>\n",
       "  </tbody>\n",
       "</table>\n",
       "</div>"
      ],
      "text/plain": [
       "      gender   age   income  family_members  insurance_benefits\n",
       "605        1  31.0  52000.0               2                   0\n",
       "4104       0  22.0  48600.0               1                   0\n",
       "3039       1  21.0  22600.0               2                   0\n",
       "4993       1  32.0  36000.0               1                   0\n",
       "3336       1  24.0  36500.0               3                   0\n",
       "97         1  23.0  31500.0               1                   0\n",
       "4939       0  28.0  30400.0               0                   0\n",
       "1001       1  32.0  29700.0               2                   0\n",
       "987        0  26.0  41000.0               0                   0\n",
       "4076       0  34.0  39300.0               2                   0"
      ]
     },
     "execution_count": 5,
     "metadata": {},
     "output_type": "execute_result"
    }
   ],
   "source": [
    "df.sample(10)"
   ]
  },
  {
   "cell_type": "code",
   "execution_count": 6,
   "metadata": {},
   "outputs": [
    {
     "name": "stdout",
     "output_type": "stream",
     "text": [
      "<class 'pandas.core.frame.DataFrame'>\n",
      "RangeIndex: 5000 entries, 0 to 4999\n",
      "Data columns (total 5 columns):\n",
      " #   Column              Non-Null Count  Dtype  \n",
      "---  ------              --------------  -----  \n",
      " 0   gender              5000 non-null   int64  \n",
      " 1   age                 5000 non-null   float64\n",
      " 2   income              5000 non-null   float64\n",
      " 3   family_members      5000 non-null   int64  \n",
      " 4   insurance_benefits  5000 non-null   int64  \n",
      "dtypes: float64(2), int64(3)\n",
      "memory usage: 195.4 KB\n"
     ]
    }
   ],
   "source": [
    "df.info()"
   ]
  },
  {
   "cell_type": "code",
   "execution_count": 7,
   "metadata": {},
   "outputs": [],
   "source": [
    "# we may want to fix the age type (from float to int) though this is not critical\n",
    "\n",
    "# write your conversion here if you choose:\n",
    "df['age'] = df['age'].astype('int')"
   ]
  },
  {
   "cell_type": "code",
   "execution_count": 8,
   "metadata": {},
   "outputs": [
    {
     "name": "stdout",
     "output_type": "stream",
     "text": [
      "<class 'pandas.core.frame.DataFrame'>\n",
      "RangeIndex: 5000 entries, 0 to 4999\n",
      "Data columns (total 5 columns):\n",
      " #   Column              Non-Null Count  Dtype  \n",
      "---  ------              --------------  -----  \n",
      " 0   gender              5000 non-null   int64  \n",
      " 1   age                 5000 non-null   int64  \n",
      " 2   income              5000 non-null   float64\n",
      " 3   family_members      5000 non-null   int64  \n",
      " 4   insurance_benefits  5000 non-null   int64  \n",
      "dtypes: float64(1), int64(4)\n",
      "memory usage: 195.4 KB\n"
     ]
    }
   ],
   "source": [
    "# check to see that the conversion was successful\n",
    "df.info()"
   ]
  },
  {
   "cell_type": "markdown",
   "metadata": {},
   "source": [
    "The conversion was done successfully."
   ]
  },
  {
   "cell_type": "code",
   "execution_count": 9,
   "metadata": {},
   "outputs": [],
   "source": [
    "# now have a look at the data's descriptive statistics. \n",
    "# Does everything look okay?"
   ]
  },
  {
   "cell_type": "code",
   "execution_count": 10,
   "metadata": {},
   "outputs": [
    {
     "data": {
      "image/png": "[encoded data removed]",
      "text/plain": [
       "<Figure size 1440x1080 with 5 Axes>"
      ]
     },
     "metadata": {
      "needs_background": "light"
     },
     "output_type": "display_data"
    }
   ],
   "source": [
    "col = df.columns\n",
    "fig = plt.figure(figsize =(20, 15))\n",
    "fig.subplots_adjust(hspace=0.4, wspace=0.4)\n",
    "fig.suptitle('Features Distribution', fontsize=15, y=1)\n",
    "for i in range(1, len(col)+1):\n",
    "    m = str(df[col[i-1]].median())\n",
    "    ax = fig.add_subplot(2, 3, i)\n",
    "    sns.kdeplot(df[col[i -1 ]], fill=True, label=col[i -1])\n",
    "    plt.axvline(x = df[col[i-1]].mean(),\n",
    "            color='red',\n",
    "            ls='--', \n",
    "            lw=1.5,\n",
    "            label= 'Median:' + ' ' + m)\n",
    "    plt.legend(fontsize=10)\n",
    "    plt.ylabel('Density', fontsize=10)"
   ]
  },
  {
   "cell_type": "markdown",
   "metadata": {},
   "source": [
    "The average customer is a woman or a man, at age 30 with an income of 40,000, married/in a relationship and 0 insurance benefits. Also,  we see that all variables, except gender, have few outliers. For example:\n",
    "* **age** - The plot has a tail to the left, which means that probably some customers are significantly older than most of the customers. \n",
    "* **income** - The income feature has an almost perfect normal distribution. We can see in the plot that this feature has tails both from the right and from the left. Therefore there are probably customers whose income is much smaller or much greater than the average customer income.\n",
    "* **family_members** - We see in the plot that this feature has a relatively long tail, which implies that there are some customers with much greater families than the average customer.\n",
    "* **insurance_benafits** - The plot tells us that there is a long tail to the right, which implies that there is a small number of customers that got a great number of insurance benefits as opposed to most customers.\n",
    "\n",
    "Let's check for outliers."
   ]
  },
  {
   "cell_type": "code",
   "execution_count": 11,
   "metadata": {},
   "outputs": [
    {
     "data": {
      "image/png": "[encoded data removed]",
      "text/plain": [
       "<Figure size 1440x1080 with 5 Axes>"
      ]
     },
     "metadata": {
      "needs_background": "light"
     },
     "output_type": "display_data"
    }
   ],
   "source": [
    "col = df.columns\n",
    "fig = plt.figure(figsize =(20, 15))\n",
    "fig.subplots_adjust(hspace=0.4, wspace=0.4)\n",
    "fig.suptitle('Features Outliers', fontsize=15, y=1)\n",
    "for i in range(1,len(col)+1):\n",
    "    ax = fig.add_subplot(2, 3, i)\n",
    "    df.boxplot(col[i-1])\n",
    "    Q1 = df[col[i-1]].quantile(0.25)\n",
    "    Q3 = df[col[i-1]].quantile(0.75)\n",
    "    plt.hlines(y=[Q1,Q3], xmin = 0.9, xmax = 1.1, color = 'red')"
   ]
  },
  {
   "cell_type": "markdown",
   "metadata": {},
   "source": [
    "As we mentioned earlier most of the features have outliers. All the values of the target variable that are greater than 0 are mentioned as outliers. Let's check the amount of each value with the value_counts() method before removing the outliers. Because it is our target variable, if we will delete all the outliers that were mentioned in the box plot, we will stay only with the value 0 in the target variable. So before deciding how to act, we need to check it more thoroughly."
   ]
  },
  {
   "cell_type": "code",
   "execution_count": 12,
   "metadata": {},
   "outputs": [
    {
     "data": {
      "text/plain": [
       "0    0.8872\n",
       "1    0.0846\n",
       "2    0.0230\n",
       "3    0.0036\n",
       "4    0.0014\n",
       "5    0.0002\n",
       "Name: insurance_benefits, dtype: float64"
      ]
     },
     "execution_count": 12,
     "metadata": {},
     "output_type": "execute_result"
    }
   ],
   "source": [
    "df.insurance_benefits.value_counts() / len(df)"
   ]
  },
  {
   "cell_type": "markdown",
   "metadata": {},
   "source": [
    "We see that 88% present of our data has 0 insurance benefits, which means that the other values have a small share in the dataset. Yet, it's the target variable, so deleting all the outliers will leave us only with the value 0 in the target variable, which will decrease the learning ability. **We will delete the outliers of all the features, except the target variable**. We will see if this process will delete also some of the target variable outliers."
   ]
  },
  {
   "cell_type": "markdown",
   "metadata": {},
   "source": [
    "**Outliers Removal**"
   ]
  },
  {
   "cell_type": "code",
   "execution_count": 13,
   "metadata": {},
   "outputs": [],
   "source": [
    "# Building a function for outlier removal\n",
    "def outlier_removal(data, original_data):\n",
    "    col = data.columns\n",
    "    for i in range(len(col)):\n",
    "        \n",
    "        # Finding the range of quantiles Q1 and Q3\n",
    "        q1 = data[col[i]].quantile(0.25)\n",
    "        q3 = data[col[i]].quantile(0.75)\n",
    "        iqr = q3 - q1\n",
    "        box_max_0 = math.floor(q3 + 1.5*iqr)\n",
    "        box_min_0 = math.ceil(q1 - 1.5*iqr)\n",
    "        \n",
    "        # Removing the values that exceed the quantiles range\n",
    "        data.drop(data[(data[col[i]] > box_max_0) | (data[col[i]] < box_min_0)].index, inplace = True)\n",
    "        \n",
    "        # Removing outliers from the original dataset\n",
    "        original_data.drop(original_data[(original_data[col[i]] > box_max_0) | \n",
    "                                         (original_data[col[i]] < box_min_0)].index, inplace = True)\n",
    "        \n",
    "        # Checking if there is 'new' outliers and removing them\n",
    "        q1 = data[col[i]].quantile(0.25)\n",
    "        q3 = data[col[i]].quantile(0.75)\n",
    "        iqr = q3 - q1\n",
    "        box_max_new = math.floor(q3 + 1.5*iqr)\n",
    "        box_min_new = math.ceil(q1 - 1.5*iqr)\n",
    "        \n",
    "        while box_max_new < box_max_0:\n",
    "            data.drop(data[(data[col[i]] > box_max_new) | (data[col[i]] < box_min_new)].index, inplace = True)\n",
    "            original_data.drop(original_data[(original_data[col[i]] > box_max_new) | \n",
    "                                         (original_data[col[i]] < box_min_new)].index, inplace = True)\n",
    "            box_max_0 = box_max_new\n",
    "            \n",
    "            q1 = data[col[i]].quantile(0.25)\n",
    "            q3 = data[col[i]].quantile(0.75)\n",
    "            iqr = q3 - q1\n",
    "            box_max_new = math.floor(q3 + 1.5*iqr)\n",
    "            box_min_new = math.ceil(q1 - 1.5*iqr)\n",
    "            \n",
    "            \n",
    "            \n",
    "                \n",
    "    # Plotting the boxplot again to check the outlier removal\n",
    "    fig = plt.figure(figsize =(15, 15))\n",
    "    fig.subplots_adjust(hspace=0.4, wspace=0.4)\n",
    "    col_test = original_data.columns\n",
    "    for j in range(1,len(col_test)+1):\n",
    "        ax = fig.add_subplot(3, 2, j)\n",
    "        original_data.boxplot(col_test[j-1])\n",
    "        Q1 = original_data[col_test[j-1]].quantile(0.25)\n",
    "        Q3 = original_data[col_test[j-1]].quantile(0.75)\n",
    "        plt.hlines(y=[Q1,Q3], xmin = 0.9, xmax = 1.1, color = 'red')\n",
    "        "
   ]
  },
  {
   "cell_type": "code",
   "execution_count": 14,
   "metadata": {},
   "outputs": [],
   "source": [
    "# Filtering the features for the removal of the outlier\n",
    "df_outliers = df.drop('insurance_benefits', axis = 1)"
   ]
  },
  {
   "cell_type": "code",
   "execution_count": 15,
   "metadata": {},
   "outputs": [
    {
     "data": {
      "image/png": "[encoded data removed]",
      "text/plain": [
       "<Figure size 1080x1080 with 5 Axes>"
      ]
     },
     "metadata": {
      "needs_background": "light"
     },
     "output_type": "display_data"
    }
   ],
   "source": [
    "outlier_removal(df_outliers, df)"
   ]
  },
  {
   "cell_type": "markdown",
   "metadata": {},
   "source": [
    "The outliers removal was done successfully. \n",
    "\n",
    "As we suspected, the removal of outliers in all the features except the target variable, removed also some of the target variable's outliers. Now we have clean features without outliers, and a target variable with some extreme values (1, 2 and 3), which are exactly what we want to predict (if all customers had 0 insurance benefits, we wouldn't have anything to predict)."
   ]
  },
  {
   "cell_type": "markdown",
   "metadata": {},
   "source": [
    "**Duplicates**"
   ]
  },
  {
   "cell_type": "code",
   "execution_count": 16,
   "metadata": {},
   "outputs": [
    {
     "data": {
      "text/plain": [
       "153"
      ]
     },
     "execution_count": 16,
     "metadata": {},
     "output_type": "execute_result"
    }
   ],
   "source": [
    "# Checking for duplicates\n",
    "df.duplicated().sum()"
   ]
  },
  {
   "cell_type": "code",
   "execution_count": 17,
   "metadata": {},
   "outputs": [
    {
     "data": {
      "text/plain": [
       "0"
      ]
     },
     "execution_count": 17,
     "metadata": {},
     "output_type": "execute_result"
    }
   ],
   "source": [
    "# Deleting duplicate rows\n",
    "df.drop_duplicates(inplace = True)\n",
    "\n",
    "# Verifying the duplicate removal was done correctly\n",
    "df.duplicated().sum()"
   ]
  },
  {
   "cell_type": "markdown",
   "metadata": {},
   "source": [
    "**Missing values**"
   ]
  },
  {
   "cell_type": "code",
   "execution_count": 18,
   "metadata": {},
   "outputs": [
    {
     "data": {
      "text/html": [
       "<style  type=\"text/css\" >\n",
       "</style><table id=\"T_6ff85_\" ><thead>    <tr>        <th class=\"blank level0\" ></th>        <th class=\"col_heading level0 col0\" >missing</th>        <th class=\"col_heading level0 col1\" >total</th>        <th class=\"col_heading level0 col2\" >percent</th>    </tr></thead><tbody>\n",
       "                <tr>\n",
       "                        <th id=\"T_6ff85_level0_row0\" class=\"row_heading level0 row0\" >gender</th>\n",
       "                        <td id=\"T_6ff85_row0_col0\" class=\"data row0 col0\" >0</td>\n",
       "                        <td id=\"T_6ff85_row0_col1\" class=\"data row0 col1\" >4,788</td>\n",
       "                        <td id=\"T_6ff85_row0_col2\" class=\"data row0 col2\" >0.00%</td>\n",
       "            </tr>\n",
       "            <tr>\n",
       "                        <th id=\"T_6ff85_level0_row1\" class=\"row_heading level0 row1\" >age</th>\n",
       "                        <td id=\"T_6ff85_row1_col0\" class=\"data row1 col0\" >0</td>\n",
       "                        <td id=\"T_6ff85_row1_col1\" class=\"data row1 col1\" >4,788</td>\n",
       "                        <td id=\"T_6ff85_row1_col2\" class=\"data row1 col2\" >0.00%</td>\n",
       "            </tr>\n",
       "            <tr>\n",
       "                        <th id=\"T_6ff85_level0_row2\" class=\"row_heading level0 row2\" >income</th>\n",
       "                        <td id=\"T_6ff85_row2_col0\" class=\"data row2 col0\" >0</td>\n",
       "                        <td id=\"T_6ff85_row2_col1\" class=\"data row2 col1\" >4,788</td>\n",
       "                        <td id=\"T_6ff85_row2_col2\" class=\"data row2 col2\" >0.00%</td>\n",
       "            </tr>\n",
       "            <tr>\n",
       "                        <th id=\"T_6ff85_level0_row3\" class=\"row_heading level0 row3\" >family_members</th>\n",
       "                        <td id=\"T_6ff85_row3_col0\" class=\"data row3 col0\" >0</td>\n",
       "                        <td id=\"T_6ff85_row3_col1\" class=\"data row3 col1\" >4,788</td>\n",
       "                        <td id=\"T_6ff85_row3_col2\" class=\"data row3 col2\" >0.00%</td>\n",
       "            </tr>\n",
       "            <tr>\n",
       "                        <th id=\"T_6ff85_level0_row4\" class=\"row_heading level0 row4\" >insurance_benefits</th>\n",
       "                        <td id=\"T_6ff85_row4_col0\" class=\"data row4 col0\" >0</td>\n",
       "                        <td id=\"T_6ff85_row4_col1\" class=\"data row4 col1\" >4,788</td>\n",
       "                        <td id=\"T_6ff85_row4_col2\" class=\"data row4 col2\" >0.00%</td>\n",
       "            </tr>\n",
       "    </tbody></table>"
      ],
      "text/plain": [
       "<pandas.io.formats.style.Styler at 0x7fdd55fc51f0>"
      ]
     },
     "execution_count": 18,
     "metadata": {},
     "output_type": "execute_result"
    }
   ],
   "source": [
    "df.stb.missing(style = True)"
   ]
  },
  {
   "cell_type": "code",
   "execution_count": 19,
   "metadata": {},
   "outputs": [],
   "source": [
    "# Resetting the indices after removing the outliers and duplicates\n",
    "df.reset_index(inplace = True, drop = True)"
   ]
  },
  {
   "cell_type": "markdown",
   "metadata": {},
   "source": [
    "**Summary**\n",
    "\n",
    "We checked the distribution of the features and removed their outliers. We discovered that all variables, including the target variable, have outliers. We decided to delete all the features outliers, but leave the target variable as it is. The removal of feature outliers removed some of the target variable outliers also. Also, we found duplicates and deleted them. In the end, we reset the indices of the data frame to keep all the records in order. Now we have a clean, free of missing values, outliers, and duplicated dataset. "
   ]
  },
  {
   "cell_type": "markdown",
   "metadata": {},
   "source": [
    "## EDA"
   ]
  },
  {
   "cell_type": "markdown",
   "metadata": {},
   "source": [
    "Let's quickly check whether there are certain groups of customers by looking at the pair plot."
   ]
  },
  {
   "cell_type": "code",
   "execution_count": 20,
   "metadata": {},
   "outputs": [
    {
     "data": {
      "image/png": "[encoded data removed]",
      "text/plain": [
       "<Figure size 864x864 with 30 Axes>"
      ]
     },
     "metadata": {
      "needs_background": "light"
     },
     "output_type": "display_data"
    }
   ],
   "source": [
    "g = sns.pairplot(df, kind='hist')\n",
    "g.fig.set_size_inches(12, 12)"
   ]
  },
  {
   "cell_type": "markdown",
   "metadata": {},
   "source": [
    "Ok, it is a bit difficult to spot obvious groups (clusters) as it is difficult to combine several variables simultaneously (to analyze multivariate distributions). That's where LA and ML can be quite handy."
   ]
  },
  {
   "cell_type": "markdown",
   "metadata": {},
   "source": [
    "# Task 1. Similar Customers"
   ]
  },
  {
   "cell_type": "markdown",
   "metadata": {},
   "source": [
    "In the language of ML, it is necessary to develop a procedure that returns k nearest neighbors (objects) for a given object based on the distance between the objects.\n",
    "\n",
    "To solve the task, we can try different distance metrics."
   ]
  },
  {
   "cell_type": "markdown",
   "metadata": {},
   "source": [
    "Write a function that returns k nearest neighbors for an $n^{th}$ object based on a specified distance metric. The number of received insurance benefits should not be taken into account for this task. \n",
    "\n",
    "You can use a ready implementation of the kNN algorithm from scikit-learn (check [the link](https://scikit-learn.org/stable/modules/generated/sklearn.neighbors.NearestNeighbors.html#sklearn.neighbors.NearestNeighbors)) or use your own.\n",
    "\n",
    "Test it for four combination of two cases\n",
    "- Scaling\n",
    "  - the data is not scaled\n",
    "  - the data is scaled with the [MaxAbsScaler](https://scikit-learn.org/stable/modules/generated/sklearn.preprocessing.MaxAbsScaler.html) scaler\n",
    "- Distance Metrics\n",
    "  - Euclidean\n",
    "  - Manhattan\n",
    "\n",
    "Answer these questions:\n",
    "- Does the data being not scaled affect the kNN algorithm? If so, how does that appear?\n",
    "- How similar are the results using the Manhattan distance metric (regardless of the scaling)?"
   ]
  },
  {
   "cell_type": "code",
   "execution_count": 21,
   "metadata": {},
   "outputs": [],
   "source": [
    "feature_names = ['gender', 'age', 'income', 'family_members']"
   ]
  },
  {
   "cell_type": "code",
   "execution_count": 22,
   "metadata": {},
   "outputs": [],
   "source": [
    "def get_knn(df, n, k, metric):\n",
    "    \n",
    "    \"\"\"\n",
    "    Returns k nearest neighbors\n",
    "\n",
    "    :param df: pandas DataFrame used to find similar objects within\n",
    "    :param n: object no for which the nearest neighbours are looked for\n",
    "    :param k: the number of the nearest neighbours to return\n",
    "    :param metric: name of distance metric\n",
    "    \"\"\"\n",
    "\n",
    "    nbrs = NearestNeighbors(n_neighbors = k, metric = metric).fit(df[feature_names])\n",
    "    nbrs_distances, nbrs_indices = nbrs.kneighbors([df.iloc[n][feature_names]], k, return_distance=True)\n",
    "    \n",
    "    df_res = pd.concat([\n",
    "        df.iloc[nbrs_indices[0]], \n",
    "        pd.DataFrame(nbrs_distances.T, index=nbrs_indices[0], columns=['distance'])\n",
    "        ], axis=1)\n",
    "    \n",
    "    return  df_res"
   ]
  },
  {
   "cell_type": "markdown",
   "metadata": {},
   "source": [
    "Scaling the data."
   ]
  },
  {
   "cell_type": "code",
   "execution_count": 23,
   "metadata": {},
   "outputs": [],
   "source": [
    "feature_names = ['gender', 'age', 'income', 'family_members']\n",
    "\n",
    "transformer_mas = sklearn.preprocessing.MaxAbsScaler().fit(df[feature_names].to_numpy())\n",
    "\n",
    "df_scaled = df.copy()\n",
    "df_scaled.loc[:, feature_names] = transformer_mas.transform(df[feature_names].to_numpy())"
   ]
  },
  {
   "cell_type": "code",
   "execution_count": 24,
   "metadata": {},
   "outputs": [
    {
     "data": {
      "text/html": [
       "<div>\n",
       "<style scoped>\n",
       "    .dataframe tbody tr th:only-of-type {\n",
       "        vertical-align: middle;\n",
       "    }\n",
       "\n",
       "    .dataframe tbody tr th {\n",
       "        vertical-align: top;\n",
       "    }\n",
       "\n",
       "    .dataframe thead th {\n",
       "        text-align: right;\n",
       "    }\n",
       "</style>\n",
       "<table border=\"1\" class=\"dataframe\">\n",
       "  <thead>\n",
       "    <tr style=\"text-align: right;\">\n",
       "      <th></th>\n",
       "      <th>gender</th>\n",
       "      <th>age</th>\n",
       "      <th>income</th>\n",
       "      <th>family_members</th>\n",
       "      <th>insurance_benefits</th>\n",
       "    </tr>\n",
       "  </thead>\n",
       "  <tbody>\n",
       "    <tr>\n",
       "      <th>2939</th>\n",
       "      <td>0.0</td>\n",
       "      <td>0.375000</td>\n",
       "      <td>0.683258</td>\n",
       "      <td>0.0</td>\n",
       "      <td>0</td>\n",
       "    </tr>\n",
       "    <tr>\n",
       "      <th>3062</th>\n",
       "      <td>0.0</td>\n",
       "      <td>0.607143</td>\n",
       "      <td>0.689291</td>\n",
       "      <td>0.0</td>\n",
       "      <td>0</td>\n",
       "    </tr>\n",
       "    <tr>\n",
       "      <th>1838</th>\n",
       "      <td>0.0</td>\n",
       "      <td>0.464286</td>\n",
       "      <td>0.687783</td>\n",
       "      <td>0.0</td>\n",
       "      <td>0</td>\n",
       "    </tr>\n",
       "    <tr>\n",
       "      <th>4080</th>\n",
       "      <td>0.0</td>\n",
       "      <td>0.732143</td>\n",
       "      <td>0.779789</td>\n",
       "      <td>0.6</td>\n",
       "      <td>0</td>\n",
       "    </tr>\n",
       "    <tr>\n",
       "      <th>1399</th>\n",
       "      <td>0.0</td>\n",
       "      <td>0.642857</td>\n",
       "      <td>0.366516</td>\n",
       "      <td>0.0</td>\n",
       "      <td>0</td>\n",
       "    </tr>\n",
       "  </tbody>\n",
       "</table>\n",
       "</div>"
      ],
      "text/plain": [
       "      gender       age    income  family_members  insurance_benefits\n",
       "2939     0.0  0.375000  0.683258             0.0                   0\n",
       "3062     0.0  0.607143  0.689291             0.0                   0\n",
       "1838     0.0  0.464286  0.687783             0.0                   0\n",
       "4080     0.0  0.732143  0.779789             0.6                   0\n",
       "1399     0.0  0.642857  0.366516             0.0                   0"
      ]
     },
     "execution_count": 24,
     "metadata": {},
     "output_type": "execute_result"
    }
   ],
   "source": [
    "df_scaled.sample(5)"
   ]
  },
  {
   "cell_type": "markdown",
   "metadata": {},
   "source": [
    "Now, let's get similar records for a given one for every combination"
   ]
  },
  {
   "cell_type": "markdown",
   "metadata": {},
   "source": [
    "We will receive records for the customer documented in the dataset as index 23."
   ]
  },
  {
   "cell_type": "markdown",
   "metadata": {},
   "source": [
    "**Not Scaled Data + Euclidean Distance**"
   ]
  },
  {
   "cell_type": "code",
   "execution_count": 25,
   "metadata": {},
   "outputs": [
    {
     "data": {
      "text/html": [
       "<div>\n",
       "<style scoped>\n",
       "    .dataframe tbody tr th:only-of-type {\n",
       "        vertical-align: middle;\n",
       "    }\n",
       "\n",
       "    .dataframe tbody tr th {\n",
       "        vertical-align: top;\n",
       "    }\n",
       "\n",
       "    .dataframe thead th {\n",
       "        text-align: right;\n",
       "    }\n",
       "</style>\n",
       "<table border=\"1\" class=\"dataframe\">\n",
       "  <thead>\n",
       "    <tr style=\"text-align: right;\">\n",
       "      <th></th>\n",
       "      <th>gender</th>\n",
       "      <th>age</th>\n",
       "      <th>income</th>\n",
       "      <th>family_members</th>\n",
       "      <th>distance</th>\n",
       "    </tr>\n",
       "  </thead>\n",
       "  <tbody>\n",
       "    <tr>\n",
       "      <th>23</th>\n",
       "      <td>0</td>\n",
       "      <td>33</td>\n",
       "      <td>48700.0</td>\n",
       "      <td>2</td>\n",
       "      <td>0.000000</td>\n",
       "    </tr>\n",
       "    <tr>\n",
       "      <th>1798</th>\n",
       "      <td>0</td>\n",
       "      <td>33</td>\n",
       "      <td>48700.0</td>\n",
       "      <td>1</td>\n",
       "      <td>1.000000</td>\n",
       "    </tr>\n",
       "    <tr>\n",
       "      <th>2741</th>\n",
       "      <td>0</td>\n",
       "      <td>32</td>\n",
       "      <td>48700.0</td>\n",
       "      <td>2</td>\n",
       "      <td>1.000000</td>\n",
       "    </tr>\n",
       "    <tr>\n",
       "      <th>2114</th>\n",
       "      <td>1</td>\n",
       "      <td>32</td>\n",
       "      <td>48700.0</td>\n",
       "      <td>1</td>\n",
       "      <td>1.732051</td>\n",
       "    </tr>\n",
       "    <tr>\n",
       "      <th>272</th>\n",
       "      <td>0</td>\n",
       "      <td>35</td>\n",
       "      <td>48700.0</td>\n",
       "      <td>1</td>\n",
       "      <td>2.236068</td>\n",
       "    </tr>\n",
       "    <tr>\n",
       "      <th>4252</th>\n",
       "      <td>1</td>\n",
       "      <td>36</td>\n",
       "      <td>48700.0</td>\n",
       "      <td>1</td>\n",
       "      <td>3.316625</td>\n",
       "    </tr>\n",
       "    <tr>\n",
       "      <th>845</th>\n",
       "      <td>1</td>\n",
       "      <td>38</td>\n",
       "      <td>48700.0</td>\n",
       "      <td>0</td>\n",
       "      <td>5.477226</td>\n",
       "    </tr>\n",
       "    <tr>\n",
       "      <th>1935</th>\n",
       "      <td>0</td>\n",
       "      <td>27</td>\n",
       "      <td>48700.0</td>\n",
       "      <td>0</td>\n",
       "      <td>6.324555</td>\n",
       "    </tr>\n",
       "    <tr>\n",
       "      <th>1907</th>\n",
       "      <td>0</td>\n",
       "      <td>26</td>\n",
       "      <td>48700.0</td>\n",
       "      <td>2</td>\n",
       "      <td>7.000000</td>\n",
       "    </tr>\n",
       "    <tr>\n",
       "      <th>4548</th>\n",
       "      <td>1</td>\n",
       "      <td>25</td>\n",
       "      <td>48700.0</td>\n",
       "      <td>2</td>\n",
       "      <td>8.062258</td>\n",
       "    </tr>\n",
       "    <tr>\n",
       "      <th>214</th>\n",
       "      <td>1</td>\n",
       "      <td>25</td>\n",
       "      <td>48700.0</td>\n",
       "      <td>3</td>\n",
       "      <td>8.124038</td>\n",
       "    </tr>\n",
       "    <tr>\n",
       "      <th>3040</th>\n",
       "      <td>0</td>\n",
       "      <td>43</td>\n",
       "      <td>48700.0</td>\n",
       "      <td>0</td>\n",
       "      <td>10.198039</td>\n",
       "    </tr>\n",
       "    <tr>\n",
       "      <th>785</th>\n",
       "      <td>1</td>\n",
       "      <td>20</td>\n",
       "      <td>48700.0</td>\n",
       "      <td>0</td>\n",
       "      <td>13.190906</td>\n",
       "    </tr>\n",
       "    <tr>\n",
       "      <th>1640</th>\n",
       "      <td>0</td>\n",
       "      <td>34</td>\n",
       "      <td>48800.0</td>\n",
       "      <td>1</td>\n",
       "      <td>100.010000</td>\n",
       "    </tr>\n",
       "    <tr>\n",
       "      <th>1524</th>\n",
       "      <td>0</td>\n",
       "      <td>31</td>\n",
       "      <td>48800.0</td>\n",
       "      <td>1</td>\n",
       "      <td>100.024997</td>\n",
       "    </tr>\n",
       "  </tbody>\n",
       "</table>\n",
       "</div>"
      ],
      "text/plain": [
       "      gender  age   income  family_members    distance\n",
       "23         0   33  48700.0               2    0.000000\n",
       "1798       0   33  48700.0               1    1.000000\n",
       "2741       0   32  48700.0               2    1.000000\n",
       "2114       1   32  48700.0               1    1.732051\n",
       "272        0   35  48700.0               1    2.236068\n",
       "4252       1   36  48700.0               1    3.316625\n",
       "845        1   38  48700.0               0    5.477226\n",
       "1935       0   27  48700.0               0    6.324555\n",
       "1907       0   26  48700.0               2    7.000000\n",
       "4548       1   25  48700.0               2    8.062258\n",
       "214        1   25  48700.0               3    8.124038\n",
       "3040       0   43  48700.0               0   10.198039\n",
       "785        1   20  48700.0               0   13.190906\n",
       "1640       0   34  48800.0               1  100.010000\n",
       "1524       0   31  48800.0               1  100.024997"
      ]
     },
     "execution_count": 25,
     "metadata": {},
     "output_type": "execute_result"
    }
   ],
   "source": [
    "not_scaled_euclidean = get_knn(df[feature_names], 23, 15, 'euclidean')\n",
    "not_scaled_euclidean"
   ]
  },
  {
   "cell_type": "markdown",
   "metadata": {},
   "source": [
    "**Not Scaled Data + Manhatten Distance**"
   ]
  },
  {
   "cell_type": "code",
   "execution_count": 26,
   "metadata": {},
   "outputs": [
    {
     "data": {
      "text/html": [
       "<div>\n",
       "<style scoped>\n",
       "    .dataframe tbody tr th:only-of-type {\n",
       "        vertical-align: middle;\n",
       "    }\n",
       "\n",
       "    .dataframe tbody tr th {\n",
       "        vertical-align: top;\n",
       "    }\n",
       "\n",
       "    .dataframe thead th {\n",
       "        text-align: right;\n",
       "    }\n",
       "</style>\n",
       "<table border=\"1\" class=\"dataframe\">\n",
       "  <thead>\n",
       "    <tr style=\"text-align: right;\">\n",
       "      <th></th>\n",
       "      <th>gender</th>\n",
       "      <th>age</th>\n",
       "      <th>income</th>\n",
       "      <th>family_members</th>\n",
       "      <th>distance</th>\n",
       "    </tr>\n",
       "  </thead>\n",
       "  <tbody>\n",
       "    <tr>\n",
       "      <th>23</th>\n",
       "      <td>0</td>\n",
       "      <td>33</td>\n",
       "      <td>48700.0</td>\n",
       "      <td>2</td>\n",
       "      <td>0.0</td>\n",
       "    </tr>\n",
       "    <tr>\n",
       "      <th>1798</th>\n",
       "      <td>0</td>\n",
       "      <td>33</td>\n",
       "      <td>48700.0</td>\n",
       "      <td>1</td>\n",
       "      <td>1.0</td>\n",
       "    </tr>\n",
       "    <tr>\n",
       "      <th>2741</th>\n",
       "      <td>0</td>\n",
       "      <td>32</td>\n",
       "      <td>48700.0</td>\n",
       "      <td>2</td>\n",
       "      <td>1.0</td>\n",
       "    </tr>\n",
       "    <tr>\n",
       "      <th>272</th>\n",
       "      <td>0</td>\n",
       "      <td>35</td>\n",
       "      <td>48700.0</td>\n",
       "      <td>1</td>\n",
       "      <td>3.0</td>\n",
       "    </tr>\n",
       "    <tr>\n",
       "      <th>2114</th>\n",
       "      <td>1</td>\n",
       "      <td>32</td>\n",
       "      <td>48700.0</td>\n",
       "      <td>1</td>\n",
       "      <td>3.0</td>\n",
       "    </tr>\n",
       "    <tr>\n",
       "      <th>4252</th>\n",
       "      <td>1</td>\n",
       "      <td>36</td>\n",
       "      <td>48700.0</td>\n",
       "      <td>1</td>\n",
       "      <td>5.0</td>\n",
       "    </tr>\n",
       "    <tr>\n",
       "      <th>1907</th>\n",
       "      <td>0</td>\n",
       "      <td>26</td>\n",
       "      <td>48700.0</td>\n",
       "      <td>2</td>\n",
       "      <td>7.0</td>\n",
       "    </tr>\n",
       "    <tr>\n",
       "      <th>845</th>\n",
       "      <td>1</td>\n",
       "      <td>38</td>\n",
       "      <td>48700.0</td>\n",
       "      <td>0</td>\n",
       "      <td>8.0</td>\n",
       "    </tr>\n",
       "    <tr>\n",
       "      <th>1935</th>\n",
       "      <td>0</td>\n",
       "      <td>27</td>\n",
       "      <td>48700.0</td>\n",
       "      <td>0</td>\n",
       "      <td>8.0</td>\n",
       "    </tr>\n",
       "    <tr>\n",
       "      <th>4548</th>\n",
       "      <td>1</td>\n",
       "      <td>25</td>\n",
       "      <td>48700.0</td>\n",
       "      <td>2</td>\n",
       "      <td>9.0</td>\n",
       "    </tr>\n",
       "    <tr>\n",
       "      <th>214</th>\n",
       "      <td>1</td>\n",
       "      <td>25</td>\n",
       "      <td>48700.0</td>\n",
       "      <td>3</td>\n",
       "      <td>10.0</td>\n",
       "    </tr>\n",
       "    <tr>\n",
       "      <th>3040</th>\n",
       "      <td>0</td>\n",
       "      <td>43</td>\n",
       "      <td>48700.0</td>\n",
       "      <td>0</td>\n",
       "      <td>12.0</td>\n",
       "    </tr>\n",
       "    <tr>\n",
       "      <th>785</th>\n",
       "      <td>1</td>\n",
       "      <td>20</td>\n",
       "      <td>48700.0</td>\n",
       "      <td>0</td>\n",
       "      <td>16.0</td>\n",
       "    </tr>\n",
       "    <tr>\n",
       "      <th>1640</th>\n",
       "      <td>0</td>\n",
       "      <td>34</td>\n",
       "      <td>48800.0</td>\n",
       "      <td>1</td>\n",
       "      <td>102.0</td>\n",
       "    </tr>\n",
       "    <tr>\n",
       "      <th>1524</th>\n",
       "      <td>0</td>\n",
       "      <td>31</td>\n",
       "      <td>48800.0</td>\n",
       "      <td>1</td>\n",
       "      <td>103.0</td>\n",
       "    </tr>\n",
       "  </tbody>\n",
       "</table>\n",
       "</div>"
      ],
      "text/plain": [
       "      gender  age   income  family_members  distance\n",
       "23         0   33  48700.0               2       0.0\n",
       "1798       0   33  48700.0               1       1.0\n",
       "2741       0   32  48700.0               2       1.0\n",
       "272        0   35  48700.0               1       3.0\n",
       "2114       1   32  48700.0               1       3.0\n",
       "4252       1   36  48700.0               1       5.0\n",
       "1907       0   26  48700.0               2       7.0\n",
       "845        1   38  48700.0               0       8.0\n",
       "1935       0   27  48700.0               0       8.0\n",
       "4548       1   25  48700.0               2       9.0\n",
       "214        1   25  48700.0               3      10.0\n",
       "3040       0   43  48700.0               0      12.0\n",
       "785        1   20  48700.0               0      16.0\n",
       "1640       0   34  48800.0               1     102.0\n",
       "1524       0   31  48800.0               1     103.0"
      ]
     },
     "execution_count": 26,
     "metadata": {},
     "output_type": "execute_result"
    }
   ],
   "source": [
    "not_scaled_manhattan = get_knn(df[feature_names], 23, 15, 'manhattan')\n",
    "not_scaled_manhattan"
   ]
  },
  {
   "cell_type": "markdown",
   "metadata": {},
   "source": [
    "**Scaled Data + Euclidean Distance**"
   ]
  },
  {
   "cell_type": "code",
   "execution_count": 27,
   "metadata": {},
   "outputs": [
    {
     "data": {
      "text/html": [
       "<div>\n",
       "<style scoped>\n",
       "    .dataframe tbody tr th:only-of-type {\n",
       "        vertical-align: middle;\n",
       "    }\n",
       "\n",
       "    .dataframe tbody tr th {\n",
       "        vertical-align: top;\n",
       "    }\n",
       "\n",
       "    .dataframe thead th {\n",
       "        text-align: right;\n",
       "    }\n",
       "</style>\n",
       "<table border=\"1\" class=\"dataframe\">\n",
       "  <thead>\n",
       "    <tr style=\"text-align: right;\">\n",
       "      <th></th>\n",
       "      <th>gender</th>\n",
       "      <th>age</th>\n",
       "      <th>income</th>\n",
       "      <th>family_members</th>\n",
       "      <th>distance</th>\n",
       "    </tr>\n",
       "  </thead>\n",
       "  <tbody>\n",
       "    <tr>\n",
       "      <th>23</th>\n",
       "      <td>0.0</td>\n",
       "      <td>0.589286</td>\n",
       "      <td>0.734540</td>\n",
       "      <td>0.4</td>\n",
       "      <td>0.000000</td>\n",
       "    </tr>\n",
       "    <tr>\n",
       "      <th>2741</th>\n",
       "      <td>0.0</td>\n",
       "      <td>0.571429</td>\n",
       "      <td>0.734540</td>\n",
       "      <td>0.4</td>\n",
       "      <td>0.017857</td>\n",
       "    </tr>\n",
       "    <tr>\n",
       "      <th>3334</th>\n",
       "      <td>0.0</td>\n",
       "      <td>0.589286</td>\n",
       "      <td>0.754148</td>\n",
       "      <td>0.4</td>\n",
       "      <td>0.019608</td>\n",
       "    </tr>\n",
       "    <tr>\n",
       "      <th>2898</th>\n",
       "      <td>0.0</td>\n",
       "      <td>0.571429</td>\n",
       "      <td>0.714932</td>\n",
       "      <td>0.4</td>\n",
       "      <td>0.026521</td>\n",
       "    </tr>\n",
       "    <tr>\n",
       "      <th>2483</th>\n",
       "      <td>0.0</td>\n",
       "      <td>0.589286</td>\n",
       "      <td>0.763198</td>\n",
       "      <td>0.4</td>\n",
       "      <td>0.028658</td>\n",
       "    </tr>\n",
       "    <tr>\n",
       "      <th>402</th>\n",
       "      <td>0.0</td>\n",
       "      <td>0.607143</td>\n",
       "      <td>0.758673</td>\n",
       "      <td>0.4</td>\n",
       "      <td>0.030021</td>\n",
       "    </tr>\n",
       "    <tr>\n",
       "      <th>1610</th>\n",
       "      <td>0.0</td>\n",
       "      <td>0.607143</td>\n",
       "      <td>0.705882</td>\n",
       "      <td>0.4</td>\n",
       "      <td>0.033766</td>\n",
       "    </tr>\n",
       "    <tr>\n",
       "      <th>1349</th>\n",
       "      <td>0.0</td>\n",
       "      <td>0.625000</td>\n",
       "      <td>0.740573</td>\n",
       "      <td>0.4</td>\n",
       "      <td>0.036220</td>\n",
       "    </tr>\n",
       "    <tr>\n",
       "      <th>2059</th>\n",
       "      <td>0.0</td>\n",
       "      <td>0.625000</td>\n",
       "      <td>0.749623</td>\n",
       "      <td>0.4</td>\n",
       "      <td>0.038769</td>\n",
       "    </tr>\n",
       "    <tr>\n",
       "      <th>1485</th>\n",
       "      <td>0.0</td>\n",
       "      <td>0.607143</td>\n",
       "      <td>0.698341</td>\n",
       "      <td>0.4</td>\n",
       "      <td>0.040364</td>\n",
       "    </tr>\n",
       "    <tr>\n",
       "      <th>1601</th>\n",
       "      <td>0.0</td>\n",
       "      <td>0.553571</td>\n",
       "      <td>0.713424</td>\n",
       "      <td>0.4</td>\n",
       "      <td>0.041490</td>\n",
       "    </tr>\n",
       "    <tr>\n",
       "      <th>873</th>\n",
       "      <td>0.0</td>\n",
       "      <td>0.625000</td>\n",
       "      <td>0.698341</td>\n",
       "      <td>0.4</td>\n",
       "      <td>0.050852</td>\n",
       "    </tr>\n",
       "    <tr>\n",
       "      <th>3954</th>\n",
       "      <td>0.0</td>\n",
       "      <td>0.625000</td>\n",
       "      <td>0.773756</td>\n",
       "      <td>0.4</td>\n",
       "      <td>0.053041</td>\n",
       "    </tr>\n",
       "    <tr>\n",
       "      <th>3086</th>\n",
       "      <td>0.0</td>\n",
       "      <td>0.535714</td>\n",
       "      <td>0.736048</td>\n",
       "      <td>0.4</td>\n",
       "      <td>0.053593</td>\n",
       "    </tr>\n",
       "    <tr>\n",
       "      <th>372</th>\n",
       "      <td>0.0</td>\n",
       "      <td>0.642857</td>\n",
       "      <td>0.730015</td>\n",
       "      <td>0.4</td>\n",
       "      <td>0.053762</td>\n",
       "    </tr>\n",
       "  </tbody>\n",
       "</table>\n",
       "</div>"
      ],
      "text/plain": [
       "      gender       age    income  family_members  distance\n",
       "23       0.0  0.589286  0.734540             0.4  0.000000\n",
       "2741     0.0  0.571429  0.734540             0.4  0.017857\n",
       "3334     0.0  0.589286  0.754148             0.4  0.019608\n",
       "2898     0.0  0.571429  0.714932             0.4  0.026521\n",
       "2483     0.0  0.589286  0.763198             0.4  0.028658\n",
       "402      0.0  0.607143  0.758673             0.4  0.030021\n",
       "1610     0.0  0.607143  0.705882             0.4  0.033766\n",
       "1349     0.0  0.625000  0.740573             0.4  0.036220\n",
       "2059     0.0  0.625000  0.749623             0.4  0.038769\n",
       "1485     0.0  0.607143  0.698341             0.4  0.040364\n",
       "1601     0.0  0.553571  0.713424             0.4  0.041490\n",
       "873      0.0  0.625000  0.698341             0.4  0.050852\n",
       "3954     0.0  0.625000  0.773756             0.4  0.053041\n",
       "3086     0.0  0.535714  0.736048             0.4  0.053593\n",
       "372      0.0  0.642857  0.730015             0.4  0.053762"
      ]
     },
     "execution_count": 27,
     "metadata": {},
     "output_type": "execute_result"
    }
   ],
   "source": [
    "scaled_euclidean = get_knn(df_scaled[feature_names], 23, 15, 'euclidean')\n",
    "scaled_euclidean"
   ]
  },
  {
   "cell_type": "markdown",
   "metadata": {},
   "source": [
    "**Scaled Data + Manhatten Distance**"
   ]
  },
  {
   "cell_type": "code",
   "execution_count": 28,
   "metadata": {},
   "outputs": [
    {
     "data": {
      "text/html": [
       "<div>\n",
       "<style scoped>\n",
       "    .dataframe tbody tr th:only-of-type {\n",
       "        vertical-align: middle;\n",
       "    }\n",
       "\n",
       "    .dataframe tbody tr th {\n",
       "        vertical-align: top;\n",
       "    }\n",
       "\n",
       "    .dataframe thead th {\n",
       "        text-align: right;\n",
       "    }\n",
       "</style>\n",
       "<table border=\"1\" class=\"dataframe\">\n",
       "  <thead>\n",
       "    <tr style=\"text-align: right;\">\n",
       "      <th></th>\n",
       "      <th>gender</th>\n",
       "      <th>age</th>\n",
       "      <th>income</th>\n",
       "      <th>family_members</th>\n",
       "      <th>distance</th>\n",
       "    </tr>\n",
       "  </thead>\n",
       "  <tbody>\n",
       "    <tr>\n",
       "      <th>23</th>\n",
       "      <td>0.0</td>\n",
       "      <td>0.589286</td>\n",
       "      <td>0.734540</td>\n",
       "      <td>0.4</td>\n",
       "      <td>0.000000</td>\n",
       "    </tr>\n",
       "    <tr>\n",
       "      <th>2741</th>\n",
       "      <td>0.0</td>\n",
       "      <td>0.571429</td>\n",
       "      <td>0.734540</td>\n",
       "      <td>0.4</td>\n",
       "      <td>0.017857</td>\n",
       "    </tr>\n",
       "    <tr>\n",
       "      <th>3334</th>\n",
       "      <td>0.0</td>\n",
       "      <td>0.589286</td>\n",
       "      <td>0.754148</td>\n",
       "      <td>0.4</td>\n",
       "      <td>0.019608</td>\n",
       "    </tr>\n",
       "    <tr>\n",
       "      <th>2483</th>\n",
       "      <td>0.0</td>\n",
       "      <td>0.589286</td>\n",
       "      <td>0.763198</td>\n",
       "      <td>0.4</td>\n",
       "      <td>0.028658</td>\n",
       "    </tr>\n",
       "    <tr>\n",
       "      <th>2898</th>\n",
       "      <td>0.0</td>\n",
       "      <td>0.571429</td>\n",
       "      <td>0.714932</td>\n",
       "      <td>0.4</td>\n",
       "      <td>0.037465</td>\n",
       "    </tr>\n",
       "    <tr>\n",
       "      <th>1349</th>\n",
       "      <td>0.0</td>\n",
       "      <td>0.625000</td>\n",
       "      <td>0.740573</td>\n",
       "      <td>0.4</td>\n",
       "      <td>0.041747</td>\n",
       "    </tr>\n",
       "    <tr>\n",
       "      <th>402</th>\n",
       "      <td>0.0</td>\n",
       "      <td>0.607143</td>\n",
       "      <td>0.758673</td>\n",
       "      <td>0.4</td>\n",
       "      <td>0.041990</td>\n",
       "    </tr>\n",
       "    <tr>\n",
       "      <th>1610</th>\n",
       "      <td>0.0</td>\n",
       "      <td>0.607143</td>\n",
       "      <td>0.705882</td>\n",
       "      <td>0.4</td>\n",
       "      <td>0.046515</td>\n",
       "    </tr>\n",
       "    <tr>\n",
       "      <th>2059</th>\n",
       "      <td>0.0</td>\n",
       "      <td>0.625000</td>\n",
       "      <td>0.749623</td>\n",
       "      <td>0.4</td>\n",
       "      <td>0.050797</td>\n",
       "    </tr>\n",
       "    <tr>\n",
       "      <th>1485</th>\n",
       "      <td>0.0</td>\n",
       "      <td>0.607143</td>\n",
       "      <td>0.698341</td>\n",
       "      <td>0.4</td>\n",
       "      <td>0.054056</td>\n",
       "    </tr>\n",
       "    <tr>\n",
       "      <th>3086</th>\n",
       "      <td>0.0</td>\n",
       "      <td>0.535714</td>\n",
       "      <td>0.736048</td>\n",
       "      <td>0.4</td>\n",
       "      <td>0.055080</td>\n",
       "    </tr>\n",
       "    <tr>\n",
       "      <th>1601</th>\n",
       "      <td>0.0</td>\n",
       "      <td>0.553571</td>\n",
       "      <td>0.713424</td>\n",
       "      <td>0.4</td>\n",
       "      <td>0.056830</td>\n",
       "    </tr>\n",
       "    <tr>\n",
       "      <th>372</th>\n",
       "      <td>0.0</td>\n",
       "      <td>0.642857</td>\n",
       "      <td>0.730015</td>\n",
       "      <td>0.4</td>\n",
       "      <td>0.058096</td>\n",
       "    </tr>\n",
       "    <tr>\n",
       "      <th>3275</th>\n",
       "      <td>0.0</td>\n",
       "      <td>0.589286</td>\n",
       "      <td>0.793363</td>\n",
       "      <td>0.4</td>\n",
       "      <td>0.058824</td>\n",
       "    </tr>\n",
       "    <tr>\n",
       "      <th>4406</th>\n",
       "      <td>0.0</td>\n",
       "      <td>0.642857</td>\n",
       "      <td>0.720965</td>\n",
       "      <td>0.4</td>\n",
       "      <td>0.067146</td>\n",
       "    </tr>\n",
       "  </tbody>\n",
       "</table>\n",
       "</div>"
      ],
      "text/plain": [
       "      gender       age    income  family_members  distance\n",
       "23       0.0  0.589286  0.734540             0.4  0.000000\n",
       "2741     0.0  0.571429  0.734540             0.4  0.017857\n",
       "3334     0.0  0.589286  0.754148             0.4  0.019608\n",
       "2483     0.0  0.589286  0.763198             0.4  0.028658\n",
       "2898     0.0  0.571429  0.714932             0.4  0.037465\n",
       "1349     0.0  0.625000  0.740573             0.4  0.041747\n",
       "402      0.0  0.607143  0.758673             0.4  0.041990\n",
       "1610     0.0  0.607143  0.705882             0.4  0.046515\n",
       "2059     0.0  0.625000  0.749623             0.4  0.050797\n",
       "1485     0.0  0.607143  0.698341             0.4  0.054056\n",
       "3086     0.0  0.535714  0.736048             0.4  0.055080\n",
       "1601     0.0  0.553571  0.713424             0.4  0.056830\n",
       "372      0.0  0.642857  0.730015             0.4  0.058096\n",
       "3275     0.0  0.589286  0.793363             0.4  0.058824\n",
       "4406     0.0  0.642857  0.720965             0.4  0.067146"
      ]
     },
     "execution_count": 28,
     "metadata": {},
     "output_type": "execute_result"
    }
   ],
   "source": [
    "scaled_manhattan = get_knn(df_scaled[feature_names], 23, 15, 'manhattan')\n",
    "scaled_manhattan"
   ]
  },
  {
   "cell_type": "code",
   "execution_count": 29,
   "metadata": {},
   "outputs": [],
   "source": [
    "distance_df = pd.DataFrame({'not_scaled_euclidean': not_scaled_euclidean['distance'].reset_index(drop = True),\n",
    "                           'not_scaled_manhattan': not_scaled_manhattan['distance'].reset_index(drop = True),\n",
    "                           'scaled_euclidean': scaled_euclidean['distance'].reset_index(drop = True),\n",
    "                           'scaled_manhattan': scaled_manhattan['distance'].reset_index(drop = True)})"
   ]
  },
  {
   "cell_type": "code",
   "execution_count": 30,
   "metadata": {},
   "outputs": [
    {
     "data": {
      "text/html": [
       "<div>\n",
       "<style scoped>\n",
       "    .dataframe tbody tr th:only-of-type {\n",
       "        vertical-align: middle;\n",
       "    }\n",
       "\n",
       "    .dataframe tbody tr th {\n",
       "        vertical-align: top;\n",
       "    }\n",
       "\n",
       "    .dataframe thead th {\n",
       "        text-align: right;\n",
       "    }\n",
       "</style>\n",
       "<table border=\"1\" class=\"dataframe\">\n",
       "  <thead>\n",
       "    <tr style=\"text-align: right;\">\n",
       "      <th></th>\n",
       "      <th>not_scaled_euclidean</th>\n",
       "      <th>not_scaled_manhattan</th>\n",
       "      <th>scaled_euclidean</th>\n",
       "      <th>scaled_manhattan</th>\n",
       "    </tr>\n",
       "  </thead>\n",
       "  <tbody>\n",
       "    <tr>\n",
       "      <th>0</th>\n",
       "      <td>0.000000</td>\n",
       "      <td>0.0</td>\n",
       "      <td>0.000000</td>\n",
       "      <td>0.000000</td>\n",
       "    </tr>\n",
       "    <tr>\n",
       "      <th>1</th>\n",
       "      <td>1.000000</td>\n",
       "      <td>1.0</td>\n",
       "      <td>0.017857</td>\n",
       "      <td>0.017857</td>\n",
       "    </tr>\n",
       "    <tr>\n",
       "      <th>2</th>\n",
       "      <td>1.000000</td>\n",
       "      <td>1.0</td>\n",
       "      <td>0.019608</td>\n",
       "      <td>0.019608</td>\n",
       "    </tr>\n",
       "    <tr>\n",
       "      <th>3</th>\n",
       "      <td>1.732051</td>\n",
       "      <td>3.0</td>\n",
       "      <td>0.026521</td>\n",
       "      <td>0.028658</td>\n",
       "    </tr>\n",
       "    <tr>\n",
       "      <th>4</th>\n",
       "      <td>2.236068</td>\n",
       "      <td>3.0</td>\n",
       "      <td>0.028658</td>\n",
       "      <td>0.037465</td>\n",
       "    </tr>\n",
       "    <tr>\n",
       "      <th>5</th>\n",
       "      <td>3.316625</td>\n",
       "      <td>5.0</td>\n",
       "      <td>0.030021</td>\n",
       "      <td>0.041747</td>\n",
       "    </tr>\n",
       "    <tr>\n",
       "      <th>6</th>\n",
       "      <td>5.477226</td>\n",
       "      <td>7.0</td>\n",
       "      <td>0.033766</td>\n",
       "      <td>0.041990</td>\n",
       "    </tr>\n",
       "    <tr>\n",
       "      <th>7</th>\n",
       "      <td>6.324555</td>\n",
       "      <td>8.0</td>\n",
       "      <td>0.036220</td>\n",
       "      <td>0.046515</td>\n",
       "    </tr>\n",
       "    <tr>\n",
       "      <th>8</th>\n",
       "      <td>7.000000</td>\n",
       "      <td>8.0</td>\n",
       "      <td>0.038769</td>\n",
       "      <td>0.050797</td>\n",
       "    </tr>\n",
       "    <tr>\n",
       "      <th>9</th>\n",
       "      <td>8.062258</td>\n",
       "      <td>9.0</td>\n",
       "      <td>0.040364</td>\n",
       "      <td>0.054056</td>\n",
       "    </tr>\n",
       "    <tr>\n",
       "      <th>10</th>\n",
       "      <td>8.124038</td>\n",
       "      <td>10.0</td>\n",
       "      <td>0.041490</td>\n",
       "      <td>0.055080</td>\n",
       "    </tr>\n",
       "    <tr>\n",
       "      <th>11</th>\n",
       "      <td>10.198039</td>\n",
       "      <td>12.0</td>\n",
       "      <td>0.050852</td>\n",
       "      <td>0.056830</td>\n",
       "    </tr>\n",
       "    <tr>\n",
       "      <th>12</th>\n",
       "      <td>13.190906</td>\n",
       "      <td>16.0</td>\n",
       "      <td>0.053041</td>\n",
       "      <td>0.058096</td>\n",
       "    </tr>\n",
       "    <tr>\n",
       "      <th>13</th>\n",
       "      <td>100.010000</td>\n",
       "      <td>102.0</td>\n",
       "      <td>0.053593</td>\n",
       "      <td>0.058824</td>\n",
       "    </tr>\n",
       "    <tr>\n",
       "      <th>14</th>\n",
       "      <td>100.024997</td>\n",
       "      <td>103.0</td>\n",
       "      <td>0.053762</td>\n",
       "      <td>0.067146</td>\n",
       "    </tr>\n",
       "  </tbody>\n",
       "</table>\n",
       "</div>"
      ],
      "text/plain": [
       "    not_scaled_euclidean  not_scaled_manhattan  scaled_euclidean  \\\n",
       "0               0.000000                   0.0          0.000000   \n",
       "1               1.000000                   1.0          0.017857   \n",
       "2               1.000000                   1.0          0.019608   \n",
       "3               1.732051                   3.0          0.026521   \n",
       "4               2.236068                   3.0          0.028658   \n",
       "5               3.316625                   5.0          0.030021   \n",
       "6               5.477226                   7.0          0.033766   \n",
       "7               6.324555                   8.0          0.036220   \n",
       "8               7.000000                   8.0          0.038769   \n",
       "9               8.062258                   9.0          0.040364   \n",
       "10              8.124038                  10.0          0.041490   \n",
       "11             10.198039                  12.0          0.050852   \n",
       "12             13.190906                  16.0          0.053041   \n",
       "13            100.010000                 102.0          0.053593   \n",
       "14            100.024997                 103.0          0.053762   \n",
       "\n",
       "    scaled_manhattan  \n",
       "0           0.000000  \n",
       "1           0.017857  \n",
       "2           0.019608  \n",
       "3           0.028658  \n",
       "4           0.037465  \n",
       "5           0.041747  \n",
       "6           0.041990  \n",
       "7           0.046515  \n",
       "8           0.050797  \n",
       "9           0.054056  \n",
       "10          0.055080  \n",
       "11          0.056830  \n",
       "12          0.058096  \n",
       "13          0.058824  \n",
       "14          0.067146  "
      ]
     },
     "execution_count": 30,
     "metadata": {},
     "output_type": "execute_result"
    }
   ],
   "source": [
    "distance_df"
   ]
  },
  {
   "cell_type": "code",
   "execution_count": 31,
   "metadata": {},
   "outputs": [
    {
     "data": {
      "image/png": "[encoded data removed]",
      "text/plain": [
       "<Figure size 1080x432 with 1 Axes>"
      ]
     },
     "metadata": {
      "needs_background": "light"
     },
     "output_type": "display_data"
    }
   ],
   "source": [
    "# Building a plot to compare the euclidean and manhattan metrics in the scaled datasets\n",
    "fig = plt.figure(figsize=(15, 6))\n",
    "fig.suptitle('Distribution Euclidean and Manhattan Distances - Scaled (Density)', fontsize=15, y=1)\n",
    "\n",
    "sns.kdeplot(distance_df['scaled_euclidean'], fill=True, label='Euclidean - Scaled')\n",
    "sns.kdeplot(distance_df['scaled_manhattan'], fill=True, label='Manhattan - Scaled')\n",
    "plt.axvline(x = distance_df['scaled_euclidean'].median(),\n",
    "            color='blue',\n",
    "            ls='--', \n",
    "            lw=1.5,\n",
    "            label= 'Median Euclidean')\n",
    "plt.axvline(x = distance_df['scaled_manhattan'].median(),\n",
    "            color='orange',\n",
    "            ls='--', \n",
    "            lw=1.5,\n",
    "            label= 'Median Manhattan')\n",
    "plt.legend(fontsize=12)\n",
    "plt.xlabel('Distance', fontsize=12, labelpad = 10)\n",
    "plt.ylabel('Density', fontsize=12)\n",
    "    \n",
    "plt.tight_layout()\n",
    "plt.show()"
   ]
  },
  {
   "cell_type": "code",
   "execution_count": 32,
   "metadata": {},
   "outputs": [
    {
     "data": {
      "image/png": "[encoded data removed]",
      "text/plain": [
       "<Figure size 1080x432 with 1 Axes>"
      ]
     },
     "metadata": {
      "needs_background": "light"
     },
     "output_type": "display_data"
    }
   ],
   "source": [
    "# Building a plot to compare the euclidean and manhattan metrics in the not scaled datasets\n",
    "fig = plt.figure(figsize=(15, 6))\n",
    "fig.suptitle('Distribution Euclidean and Manhattan Distances - Not Scaled (Density)', fontsize=15, y=1)\n",
    "\n",
    "sns.kdeplot(distance_df['not_scaled_euclidean'], fill=True, label='Euclidean - Not Scaled')\n",
    "sns.kdeplot(distance_df['not_scaled_manhattan'], fill=True, label='Manhattan - Not Scaled')\n",
    "plt.axvline(x = distance_df['not_scaled_euclidean'].median(),\n",
    "            color='blue',\n",
    "            ls='--', \n",
    "            lw=1.5,\n",
    "            label= 'Median Euclidean')\n",
    "plt.axvline(x = distance_df['not_scaled_manhattan'].median(),\n",
    "            color='orange',\n",
    "            ls='--', \n",
    "            lw=1.5,\n",
    "            label= 'Median Manhattan')\n",
    "plt.legend(fontsize=12)\n",
    "plt.xlabel('Distance', fontsize=12, labelpad = 10)\n",
    "plt.ylabel('Density', fontsize=12)\n",
    "    \n",
    "plt.tight_layout()\n",
    "plt.show()"
   ]
  },
  {
   "cell_type": "markdown",
   "metadata": {},
   "source": [
    "Answers to the questions"
   ]
  },
  {
   "cell_type": "markdown",
   "metadata": {},
   "source": [
    "**Does the data being not scaled affect the kNN algorithm? If so, how does that appear?** \n",
    "\n",
    "The answer is yes. This is because the KNN algorithm is a model that is affected by distance, so not scaled data that have for example numeric a feature with a large number range (for example income), will have a negative effect on the algorithm and may cause it to think that this feature is more important than others. We see that in the non-scaled data, the distances vary, and their range can be from zero to 100, which is a very high and significant difference. We can see in the plot that the non-scaled data has outliers, that implements the big range of the distances.\n",
    "In the scaled dataset, the distances are very small, and they are all between the range of 0 and 1. It means that the distances are gathered around one unit of distance (0-1) - it can be seen clearly in the plot. "
   ]
  },
  {
   "cell_type": "markdown",
   "metadata": {},
   "source": [
    "**How similar are the results using the Manhattan distance metric (regardless of the scaling)?** \n",
    "\n",
    "For the not scaled data, the results for both metrics are the same. This is not the case in the scaled data. For the scaled dataset, the euclidean metric gave better results - it has smaller distances than the manhattan metric. \n",
    "So we can say that for the not scaled dataset, there was no difference using the manhattan or the euclidean metrics, but in the scaled dataset, the manhattan metric resulted in less good results."
   ]
  },
  {
   "cell_type": "markdown",
   "metadata": {},
   "source": [
    "# Task 2. Is Customer Likely to Receive Insurance Benefit?"
   ]
  },
  {
   "cell_type": "markdown",
   "metadata": {},
   "source": [
    "In terms of machine learning we can look at this like a binary classification task."
   ]
  },
  {
   "cell_type": "markdown",
   "metadata": {},
   "source": [
    "With `insurance_benefits` being more than zero as the target, evaluate whether the kNN classification approach can do better than a dummy model.\n",
    "\n",
    "Instructions:\n",
    "- Build a KNN-based classifier and measure its quality with the F1 metric for k=1..10 for both the original data and the scaled one. That'd be interesting to see how k may influece the evaluation metric, and whether scaling the data makes any difference. You can use a ready implemention of the kNN classification algorithm from scikit-learn (check [the link](https://scikit-learn.org/stable/modules/generated/sklearn.neighbors.KNeighborsClassifier.html)) or use your own.\n",
    "- Build the dummy model which is just random for this case. It should return \"1\" with some probability. Let's test the model with four probability values: 0, the probability of paying any insurance benefit, 0.5, 1.\n",
    "\n",
    "The probability of paying any insurance benefit can be defined as\n",
    "\n",
    "$$\n",
    "P\\{\\text{insurance benefit received}\\}=\\frac{\\text{number of clients received any insurance benefit}}{\\text{total number of clients}}.\n",
    "$$\n",
    "\n",
    "Split the whole data in the 70:30 proportion for the training/testing parts."
   ]
  },
  {
   "cell_type": "code",
   "execution_count": 33,
   "metadata": {},
   "outputs": [],
   "source": [
    "# calculate the target\n",
    "df['insurance_benefits_received'] = np.where(df['insurance_benefits'] > 0, 1, 0)\n",
    "df_scaled['insurance_benefits_received'] = np.where(df_scaled['insurance_benefits'] > 0, 1, 0)"
   ]
  },
  {
   "cell_type": "code",
   "execution_count": 34,
   "metadata": {},
   "outputs": [
    {
     "data": {
      "text/plain": [
       "0    0.885965\n",
       "1    0.114035\n",
       "Name: insurance_benefits_received, dtype: float64"
      ]
     },
     "execution_count": 34,
     "metadata": {},
     "output_type": "execute_result"
    }
   ],
   "source": [
    "# check for the class imbalance with value_counts()\n",
    "\n",
    "df['insurance_benefits_received'].value_counts() / len(df)"
   ]
  },
  {
   "cell_type": "markdown",
   "metadata": {},
   "source": [
    "<div class=\"alert alert-info\">\n",
    "    \n",
    "Splitting the data to train test set\n",
    "</div>"
   ]
  },
  {
   "cell_type": "code",
   "execution_count": 35,
   "metadata": {},
   "outputs": [],
   "source": [
    "# Splitting the data to train test sets\n",
    "train_df_dummy, test_df_dummy = train_test_split(df, test_size = 0.3)\n",
    "train_df_dummy_scaled, test_df_dummy_scaled = train_test_split(df_scaled, test_size = 0.3)"
   ]
  },
  {
   "cell_type": "code",
   "execution_count": 36,
   "metadata": {},
   "outputs": [],
   "source": [
    "# Setting the features and the target varaibles for the non-scaled dataset\n",
    "# train\n",
    "features_train_duumy_ns = train_df_dummy.drop(['insurance_benefits', 'insurance_benefits_received'], axis = 1)\n",
    "target_train_dummy_ns = train_df_dummy['insurance_benefits_received']\n",
    "# test\n",
    "features_test_duumy_ns = test_df_dummy.drop(['insurance_benefits', 'insurance_benefits_received'], axis = 1)\n",
    "target_test_dummy_ns = test_df_dummy['insurance_benefits_received']\n",
    "\n",
    "# Setting the features and the target varaibles for the scaled dataset\n",
    "# train\n",
    "features_train_duumy_s = train_df_dummy_scaled.drop(['insurance_benefits', 'insurance_benefits_received'], axis = 1)\n",
    "target_train_dummy_s = train_df_dummy_scaled['insurance_benefits_received']\n",
    "# test\n",
    "features_test_duumy_s = test_df_dummy_scaled.drop(['insurance_benefits', 'insurance_benefits_received'], axis = 1)\n",
    "target_test_dummy_s = test_df_dummy_scaled['insurance_benefits_received']"
   ]
  },
  {
   "cell_type": "code",
   "execution_count": 37,
   "metadata": {},
   "outputs": [],
   "source": [
    "# Building an upsample() fucntion \n",
    "def upsample (features, target):\n",
    "    \n",
    "    features_zero = features[target == 0]\n",
    "    features_one = features[target == 1]\n",
    "    target_zero = target[target == 0]\n",
    "    target_one = target[target==1]\n",
    "    \n",
    "    repeat = int(len(target_zero) / len(target_one) )\n",
    "    \n",
    "    features_upsampled = pd.concat([features_zero] + [features_one]*repeat)\n",
    "    target_upsampled = pd.concat([target_zero] + [target_one]*repeat)\n",
    "    \n",
    "    features_upsampled, target_upsampled = shuffle(features_upsampled, target_upsampled, random_state = 12345)\n",
    "    \n",
    "    return features_upsampled, target_upsampled\n",
    "\n",
    "# Calling the function for the not-scaled and scaled datasets\n",
    "features_train_duumy_ns, target_train_dummy_ns = upsample(features_train_duumy_ns, target_train_dummy_ns)\n",
    "features_train_duumy_s, target_train_dummy_s = upsample(features_train_duumy_s, target_train_dummy_s)"
   ]
  },
  {
   "cell_type": "code",
   "execution_count": 38,
   "metadata": {},
   "outputs": [],
   "source": [
    "# Setting lists for f1_scores and probabilities\n",
    "f1 = []\n",
    "proba = []"
   ]
  },
  {
   "cell_type": "code",
   "execution_count": 39,
   "metadata": {},
   "outputs": [],
   "source": [
    "def eval_classifier(y_true, y_pred):\n",
    "    \n",
    "    f1_score = sklearn.metrics.f1_score(y_true, y_pred)\n",
    "    f1.append(f1_score)\n",
    "    print(f'F1: {f1_score:.2f}')\n",
    "    \n",
    "# if you have an issue with the following line, restart the kernel and run the notebook again\n",
    "    cm = sklearn.metrics.confusion_matrix(y_true, y_pred, normalize='all')\n",
    "    print('Confusion Matrix')\n",
    "    print(cm)\n",
    "    print('==========================')\n",
    "    print()"
   ]
  },
  {
   "cell_type": "code",
   "execution_count": 40,
   "metadata": {},
   "outputs": [],
   "source": [
    "# generating output of a random model\n",
    "\n",
    "def rnd_model_predict(P, size, seed=42):\n",
    "    proba.append(P)\n",
    "\n",
    "    rng = np.random.default_rng(seed=seed)\n",
    "    return rng.binomial(n=1, p=P, size=size)"
   ]
  },
  {
   "cell_type": "code",
   "execution_count": 41,
   "metadata": {},
   "outputs": [
    {
     "name": "stdout",
     "output_type": "stream",
     "text": [
      "The probability: 0.00\n",
      "F1: 0.00\n",
      "Confusion Matrix\n",
      "[[0.88239388 0.        ]\n",
      " [0.11760612 0.        ]]\n",
      "==========================\n",
      "\n",
      "\n",
      "The probability: 0.47\n",
      "F1: 0.21\n",
      "Confusion Matrix\n",
      "[[0.47529576 0.40709812]\n",
      " [0.05636743 0.06123869]]\n",
      "==========================\n",
      "\n",
      "\n",
      "The probability: 0.50\n",
      "F1: 0.21\n",
      "Confusion Matrix\n",
      "[[0.45163535 0.43075852]\n",
      " [0.05427975 0.06332637]]\n",
      "==========================\n",
      "\n",
      "\n",
      "The probability: 1.00\n",
      "F1: 0.21\n",
      "Confusion Matrix\n",
      "[[0.         0.88239388]\n",
      " [0.         0.11760612]]\n",
      "==========================\n",
      "\n",
      "\n"
     ]
    }
   ],
   "source": [
    "for P in [0, target_train_dummy_ns.sum() / len(target_train_dummy_ns), 0.5, 1]:\n",
    "\n",
    "    print(f'The probability: {P:.2f}')\n",
    "    y_pred_rnd = rnd_model_predict(P, size = len(target_test_dummy_ns)) \n",
    "        \n",
    "    eval_classifier(target_test_dummy_ns, y_pred_rnd)\n",
    "    \n",
    "    print()"
   ]
  },
  {
   "cell_type": "code",
   "execution_count": 42,
   "metadata": {},
   "outputs": [
    {
     "data": {
      "text/html": [
       "<div>\n",
       "<style scoped>\n",
       "    .dataframe tbody tr th:only-of-type {\n",
       "        vertical-align: middle;\n",
       "    }\n",
       "\n",
       "    .dataframe tbody tr th {\n",
       "        vertical-align: top;\n",
       "    }\n",
       "\n",
       "    .dataframe thead th {\n",
       "        text-align: right;\n",
       "    }\n",
       "</style>\n",
       "<table border=\"1\" class=\"dataframe\">\n",
       "  <thead>\n",
       "    <tr style=\"text-align: right;\">\n",
       "      <th></th>\n",
       "      <th>f1_score</th>\n",
       "    </tr>\n",
       "  </thead>\n",
       "  <tbody>\n",
       "    <tr>\n",
       "      <th>0.00</th>\n",
       "      <td>0.000000</td>\n",
       "    </tr>\n",
       "    <tr>\n",
       "      <th>0.47</th>\n",
       "      <td>0.209026</td>\n",
       "    </tr>\n",
       "    <tr>\n",
       "      <th>0.50</th>\n",
       "      <td>0.207053</td>\n",
       "    </tr>\n",
       "    <tr>\n",
       "      <th>1.00</th>\n",
       "      <td>0.210461</td>\n",
       "    </tr>\n",
       "  </tbody>\n",
       "</table>\n",
       "</div>"
      ],
      "text/plain": [
       "      f1_score\n",
       "0.00  0.000000\n",
       "0.47  0.209026\n",
       "0.50  0.207053\n",
       "1.00  0.210461"
      ]
     },
     "execution_count": 42,
     "metadata": {},
     "output_type": "execute_result"
    }
   ],
   "source": [
    "f1_proba = pd.DataFrame(f1, index = np.round(proba,2), columns = ['f1_score'])\n",
    "f1_proba"
   ]
  },
  {
   "cell_type": "code",
   "execution_count": 43,
   "metadata": {},
   "outputs": [],
   "source": [
    "# Building KNN algorithm\n",
    "def knn (k, features, target):\n",
    "    neigh = KNeighborsClassifier(n_neighbors=k)\n",
    "    neigh.fit(features, target)\n",
    "    return neigh"
   ]
  },
  {
   "cell_type": "code",
   "execution_count": 44,
   "metadata": {
    "scrolled": false
   },
   "outputs": [
    {
     "name": "stdout",
     "output_type": "stream",
     "text": [
      "K= 1\n",
      "F1: 0.68\n",
      "Confusion Matrix\n",
      "[[0.8670842  0.01530967]\n",
      " [0.04940849 0.06819763]]\n",
      "==========================\n",
      "\n",
      "K= 2\n",
      "F1: 0.68\n",
      "Confusion Matrix\n",
      "[[0.8670842  0.01530967]\n",
      " [0.04940849 0.06819763]]\n",
      "==========================\n",
      "\n",
      "K= 3\n",
      "F1: 0.63\n",
      "Confusion Matrix\n",
      "[[0.84203201 0.04036186]\n",
      " [0.04453723 0.07306889]]\n",
      "==========================\n",
      "\n",
      "K= 4\n",
      "F1: 0.63\n",
      "Confusion Matrix\n",
      "[[0.84272791 0.03966597]\n",
      " [0.04523312 0.072373  ]]\n",
      "==========================\n",
      "\n",
      "K= 5\n",
      "F1: 0.56\n",
      "Confusion Matrix\n",
      "[[0.80375783 0.07863605]\n",
      " [0.04036186 0.07724426]]\n",
      "==========================\n",
      "\n",
      "K= 6\n",
      "F1: 0.57\n",
      "Confusion Matrix\n",
      "[[0.80445372 0.07794015]\n",
      " [0.04036186 0.07724426]]\n",
      "==========================\n",
      "\n",
      "K= 7\n",
      "F1: 0.50\n",
      "Confusion Matrix\n",
      "[[0.76339596 0.11899791]\n",
      " [0.03827418 0.07933194]]\n",
      "==========================\n",
      "\n",
      "K= 8\n",
      "F1: 0.50\n",
      "Confusion Matrix\n",
      "[[0.76409186 0.11830202]\n",
      " [0.03827418 0.07933194]]\n",
      "==========================\n",
      "\n",
      "K= 9\n",
      "F1: 0.47\n",
      "Confusion Matrix\n",
      "[[0.73208072 0.15031315]\n",
      " [0.0361865  0.08141962]]\n",
      "==========================\n",
      "\n",
      "K= 10\n",
      "F1: 0.47\n",
      "Confusion Matrix\n",
      "[[0.73347251 0.14892136]\n",
      " [0.0361865  0.08141962]]\n",
      "==========================\n",
      "\n"
     ]
    }
   ],
   "source": [
    "# Setting lists for k neighbors and f1_sscores\n",
    "k = []\n",
    "f1 = []\n",
    "# Testing the algorithm for the not scaled data\n",
    "for i in range(1,11):\n",
    "    k.append(i)\n",
    "    print('K=', i)\n",
    "    knn_trained_model = knn(i, features_train_duumy_ns, target_train_dummy_ns)\n",
    "    knn_test_prediction = knn_trained_model.predict(features_test_duumy_ns)\n",
    "    f1_score = eval_classifier(target_test_dummy_ns, knn_test_prediction)"
   ]
  },
  {
   "cell_type": "code",
   "execution_count": 45,
   "metadata": {},
   "outputs": [],
   "source": [
    "test_k_f1 = pd.DataFrame(f1, index=k, columns=['f1_score_not_scaled'])"
   ]
  },
  {
   "cell_type": "code",
   "execution_count": 46,
   "metadata": {},
   "outputs": [
    {
     "name": "stdout",
     "output_type": "stream",
     "text": [
      "K= 1\n",
      "F1: 0.94\n",
      "Confusion Matrix\n",
      "[[0.88378566 0.00417537]\n",
      " [0.00835073 0.10368824]]\n",
      "==========================\n",
      "\n",
      "K= 2\n",
      "F1: 0.94\n",
      "Confusion Matrix\n",
      "[[0.88378566 0.00417537]\n",
      " [0.00835073 0.10368824]]\n",
      "==========================\n",
      "\n",
      "K= 3\n",
      "F1: 0.94\n",
      "Confusion Matrix\n",
      "[[0.87821851 0.00974252]\n",
      " [0.00417537 0.1078636 ]]\n",
      "==========================\n",
      "\n",
      "K= 4\n",
      "F1: 0.94\n",
      "Confusion Matrix\n",
      "[[0.87821851 0.00974252]\n",
      " [0.00417537 0.1078636 ]]\n",
      "==========================\n",
      "\n",
      "K= 5\n",
      "F1: 0.92\n",
      "Confusion Matrix\n",
      "[[0.86917189 0.01878914]\n",
      " [0.00139179 0.11064718]]\n",
      "==========================\n",
      "\n",
      "K= 6\n",
      "F1: 0.92\n",
      "Confusion Matrix\n",
      "[[0.86917189 0.01878914]\n",
      " [0.00139179 0.11064718]]\n",
      "==========================\n",
      "\n",
      "K= 7\n",
      "F1: 0.89\n",
      "Confusion Matrix\n",
      "[[8.62212944e-01 2.57480863e-02]\n",
      " [6.95894224e-04 1.11343076e-01]]\n",
      "==========================\n",
      "\n",
      "K= 8\n",
      "F1: 0.89\n",
      "Confusion Matrix\n",
      "[[8.62212944e-01 2.57480863e-02]\n",
      " [6.95894224e-04 1.11343076e-01]]\n",
      "==========================\n",
      "\n",
      "K= 9\n",
      "F1: 0.88\n",
      "Confusion Matrix\n",
      "[[8.57341684e-01 3.06193459e-02]\n",
      " [6.95894224e-04 1.11343076e-01]]\n",
      "==========================\n",
      "\n",
      "K= 10\n",
      "F1: 0.88\n",
      "Confusion Matrix\n",
      "[[8.57341684e-01 3.06193459e-02]\n",
      " [6.95894224e-04 1.11343076e-01]]\n",
      "==========================\n",
      "\n"
     ]
    }
   ],
   "source": [
    "# Setting lists for k neighbors and f1_sscores\n",
    "k = []\n",
    "f1 = []\n",
    "# Testing the algorithm for the scaled data\n",
    "for i in range(1,11):\n",
    "    k.append(i)\n",
    "    print('K=', i)\n",
    "    knn_trained_model = knn(i, features_train_duumy_s, target_train_dummy_s)\n",
    "    knn_test_prediction = knn_trained_model.predict(features_test_duumy_s)\n",
    "    f1_score = eval_classifier(target_test_dummy_s, knn_test_prediction)"
   ]
  },
  {
   "cell_type": "code",
   "execution_count": 47,
   "metadata": {},
   "outputs": [],
   "source": [
    "test_k_f1_scaled = pd.DataFrame(f1, index=k, columns=['f1_score_scaled'])"
   ]
  },
  {
   "cell_type": "code",
   "execution_count": 48,
   "metadata": {},
   "outputs": [
    {
     "data": {
      "text/html": [
       "<div>\n",
       "<style scoped>\n",
       "    .dataframe tbody tr th:only-of-type {\n",
       "        vertical-align: middle;\n",
       "    }\n",
       "\n",
       "    .dataframe tbody tr th {\n",
       "        vertical-align: top;\n",
       "    }\n",
       "\n",
       "    .dataframe thead th {\n",
       "        text-align: right;\n",
       "    }\n",
       "</style>\n",
       "<table border=\"1\" class=\"dataframe\">\n",
       "  <thead>\n",
       "    <tr style=\"text-align: right;\">\n",
       "      <th></th>\n",
       "      <th>f1_score_test_not_scaled</th>\n",
       "      <th>f1_score_test_scaled</th>\n",
       "    </tr>\n",
       "  </thead>\n",
       "  <tbody>\n",
       "    <tr>\n",
       "      <th>1</th>\n",
       "      <td>0.678201</td>\n",
       "      <td>0.943038</td>\n",
       "    </tr>\n",
       "    <tr>\n",
       "      <th>2</th>\n",
       "      <td>0.678201</td>\n",
       "      <td>0.943038</td>\n",
       "    </tr>\n",
       "    <tr>\n",
       "      <th>3</th>\n",
       "      <td>0.632530</td>\n",
       "      <td>0.939394</td>\n",
       "    </tr>\n",
       "    <tr>\n",
       "      <th>4</th>\n",
       "      <td>0.630303</td>\n",
       "      <td>0.939394</td>\n",
       "    </tr>\n",
       "    <tr>\n",
       "      <th>5</th>\n",
       "      <td>0.564885</td>\n",
       "      <td>0.916427</td>\n",
       "    </tr>\n",
       "    <tr>\n",
       "      <th>6</th>\n",
       "      <td>0.566327</td>\n",
       "      <td>0.916427</td>\n",
       "    </tr>\n",
       "    <tr>\n",
       "      <th>7</th>\n",
       "      <td>0.502203</td>\n",
       "      <td>0.893855</td>\n",
       "    </tr>\n",
       "    <tr>\n",
       "      <th>8</th>\n",
       "      <td>0.503311</td>\n",
       "      <td>0.893855</td>\n",
       "    </tr>\n",
       "    <tr>\n",
       "      <th>9</th>\n",
       "      <td>0.466135</td>\n",
       "      <td>0.876712</td>\n",
       "    </tr>\n",
       "    <tr>\n",
       "      <th>10</th>\n",
       "      <td>0.468000</td>\n",
       "      <td>0.876712</td>\n",
       "    </tr>\n",
       "  </tbody>\n",
       "</table>\n",
       "</div>"
      ],
      "text/plain": [
       "    f1_score_test_not_scaled  f1_score_test_scaled\n",
       "1                   0.678201              0.943038\n",
       "2                   0.678201              0.943038\n",
       "3                   0.632530              0.939394\n",
       "4                   0.630303              0.939394\n",
       "5                   0.564885              0.916427\n",
       "6                   0.566327              0.916427\n",
       "7                   0.502203              0.893855\n",
       "8                   0.503311              0.893855\n",
       "9                   0.466135              0.876712\n",
       "10                  0.468000              0.876712"
      ]
     },
     "execution_count": 48,
     "metadata": {},
     "output_type": "execute_result"
    }
   ],
   "source": [
    "# Building dictionary combining all the f1_scores for creating a DataFrame\n",
    "f1_scores = { 'f1_score_test_not_scaled': test_k_f1['f1_score_not_scaled'], 'f1_score_test_scaled':test_k_f1_scaled['f1_score_scaled']}\n",
    "\n",
    "# Building DataFrame that compares all the the results\n",
    "scores_df = pd.DataFrame(f1_scores, index = k)\n",
    "scores_df"
   ]
  },
  {
   "cell_type": "code",
   "execution_count": 49,
   "metadata": {},
   "outputs": [
    {
     "data": {
      "text/html": [
       "<div>\n",
       "<style scoped>\n",
       "    .dataframe tbody tr th:only-of-type {\n",
       "        vertical-align: middle;\n",
       "    }\n",
       "\n",
       "    .dataframe tbody tr th {\n",
       "        vertical-align: top;\n",
       "    }\n",
       "\n",
       "    .dataframe thead th {\n",
       "        text-align: right;\n",
       "    }\n",
       "</style>\n",
       "<table border=\"1\" class=\"dataframe\">\n",
       "  <thead>\n",
       "    <tr style=\"text-align: right;\">\n",
       "      <th></th>\n",
       "      <th>f1_score</th>\n",
       "    </tr>\n",
       "  </thead>\n",
       "  <tbody>\n",
       "    <tr>\n",
       "      <th>0.00</th>\n",
       "      <td>0.000000</td>\n",
       "    </tr>\n",
       "    <tr>\n",
       "      <th>0.47</th>\n",
       "      <td>0.209026</td>\n",
       "    </tr>\n",
       "    <tr>\n",
       "      <th>0.50</th>\n",
       "      <td>0.207053</td>\n",
       "    </tr>\n",
       "    <tr>\n",
       "      <th>1.00</th>\n",
       "      <td>0.210461</td>\n",
       "    </tr>\n",
       "  </tbody>\n",
       "</table>\n",
       "</div>"
      ],
      "text/plain": [
       "      f1_score\n",
       "0.00  0.000000\n",
       "0.47  0.209026\n",
       "0.50  0.207053\n",
       "1.00  0.210461"
      ]
     },
     "execution_count": 49,
     "metadata": {},
     "output_type": "execute_result"
    }
   ],
   "source": [
    "f1_proba"
   ]
  },
  {
   "cell_type": "markdown",
   "metadata": {},
   "source": [
    "As we can see in the 2 tables above summarize our experiments. We see that:\n",
    "1. The KNN algorithm gives much better scores than the dummy model. \n",
    "\n",
    "2. The F1 score for the scaled dataset is much better than for the non-scaled dataset."
   ]
  },
  {
   "cell_type": "markdown",
   "metadata": {},
   "source": [
    "# Task 3. Regression (with Linear Regression)"
   ]
  },
  {
   "cell_type": "markdown",
   "metadata": {},
   "source": [
    "With `insurance_benefits` as the target, evaluate what RMSE would be for a Linear Regression model."
   ]
  },
  {
   "cell_type": "markdown",
   "metadata": {},
   "source": [
    "Build your own implementation of LR. For that, recall how the linear regression task's solution is formulated in terms of LA. Check RMSE for both the original data and the scaled one. Can you see any difference in RMSE between these two cases?\n",
    "\n",
    "Let's denote\n",
    "- $X$ — feature matrix, each row is a case, each column is a feature, the first column consists of unities\n",
    "- $y$ — target (a vector)\n",
    "- $\\hat{y}$ — estimated tagret (a vector)\n",
    "- $w$ — weight vector\n",
    "\n",
    "The task of linear regression in the language of matrices can be formulated as\n",
    "\n",
    "$$\n",
    "y = Xw\n",
    "$$\n",
    "\n",
    "The training objective then is to find such $w$ that it would minimize the L2-distance (MSE) between $Xw$ and $y$:\n",
    "\n",
    "$$\n",
    "\\min_w d_2(Xw, y) \\quad \\text{or} \\quad \\min_w \\text{MSE}(Xw, y)\n",
    "$$\n",
    "\n",
    "It appears that there is analytical solution for the above:\n",
    "\n",
    "$$\n",
    "w = (X^T X)^{-1} X^T y\n",
    "$$\n",
    "\n",
    "The formula above can be used to find the weights $w$ and the latter can be used to calculate predicted values\n",
    "\n",
    "$$\n",
    "\\hat{y} = X_{val}w\n",
    "$$"
   ]
  },
  {
   "cell_type": "markdown",
   "metadata": {},
   "source": [
    "Split the whole data in the 70:30 proportion for the training/validation parts. Use the RMSE metric for the model evaluation."
   ]
  },
  {
   "cell_type": "code",
   "execution_count": 50,
   "metadata": {},
   "outputs": [],
   "source": [
    "class MyLinearRegression:\n",
    "    \n",
    "    def __init__(self):\n",
    "        \n",
    "        self.weights = None\n",
    "    \n",
    "    def fit(self, X, y):\n",
    "        \n",
    "        # adding the unities\n",
    "        X2 = np.append(np.ones([len(X), 1]), X, axis=1)\n",
    "        weights = np.linalg.inv(X2.T.dot(X2)).dot(X2.T).dot(y)\n",
    "        self.weights = weights[1:]\n",
    "        self.w0 = weights[0]\n",
    "\n",
    "    def predict(self, X):\n",
    "        \n",
    "        # adding the unities\n",
    "        X2 = X\n",
    "        y_pred = X2.dot(self.weights) + self.w0\n",
    "        \n",
    "        return y_pred"
   ]
  },
  {
   "cell_type": "code",
   "execution_count": 51,
   "metadata": {},
   "outputs": [],
   "source": [
    "def eval_regressor(y_true, y_pred):\n",
    "    \n",
    "    rmse = math.sqrt(sklearn.metrics.mean_squared_error(y_true, y_pred))\n",
    "    print(f'RMSE: {rmse:.2f}')\n",
    "    \n",
    "    r2_score = math.sqrt(sklearn.metrics.r2_score(y_true, y_pred))\n",
    "    print(f'R2: {r2_score:.2f}')    "
   ]
  },
  {
   "cell_type": "code",
   "execution_count": 52,
   "metadata": {},
   "outputs": [
    {
     "name": "stdout",
     "output_type": "stream",
     "text": [
      "[ 3.22643521e-02  1.15938772e-02 -1.36697114e-07 -1.41138076e-02]\n",
      "RMSE: 0.34\n",
      "R2: 0.67\n"
     ]
    }
   ],
   "source": [
    "X = df[['age', 'gender', 'income', 'family_members']].to_numpy()\n",
    "y = df['insurance_benefits'].to_numpy()\n",
    "\n",
    "X_train, X_test, y_train, y_test = train_test_split(X, y, test_size=0.3, random_state=12345)\n",
    "\n",
    "lr = MyLinearRegression()\n",
    "\n",
    "lr.fit(X_train, y_train)\n",
    "print(lr.weights)\n",
    "\n",
    "y_test_pred = lr.predict(X_test)\n",
    "eval_regressor(y_test, y_test_pred)"
   ]
  },
  {
   "cell_type": "code",
   "execution_count": 53,
   "metadata": {},
   "outputs": [
    {
     "name": "stdout",
     "output_type": "stream",
     "text": [
      "[ 1.80680372  0.01159388 -0.00906302 -0.07056904]\n",
      "RMSE: 0.34\n",
      "R2: 0.67\n"
     ]
    }
   ],
   "source": [
    "# Checking the RMSE for the scaled dataset\n",
    "X = df_scaled[['age', 'gender', 'income', 'family_members']].to_numpy()\n",
    "y = df_scaled['insurance_benefits'].to_numpy()\n",
    "\n",
    "X_train, X_test, y_train, y_test = train_test_split(X, y, test_size=0.3, random_state=12345)\n",
    "\n",
    "lr = MyLinearRegression()\n",
    "\n",
    "lr.fit(X_train, y_train)\n",
    "print(lr.weights)\n",
    "\n",
    "y_test_pred = lr.predict(X_test)\n",
    "eval_regressor(y_test, y_test_pred)"
   ]
  },
  {
   "cell_type": "markdown",
   "metadata": {},
   "source": [
    "We can see that there is no difference in the RMSE score for the 2 cases of scaled and not scaled datasets."
   ]
  },
  {
   "cell_type": "markdown",
   "metadata": {},
   "source": [
    "# Task 4. Obfuscating Data"
   ]
  },
  {
   "cell_type": "markdown",
   "metadata": {},
   "source": [
    "It best to obfuscate data by multiplying the numerical features (remember, they can be seen as the matrix $X$) by an invertible matrix $P$. \n",
    "\n",
    "$$\n",
    "X' = X \\times P\n",
    "$$\n",
    "\n",
    "Try to do that and check how the features' values will look like after the transformation. By the way, the intertible property is important here so make sure that $P$ is indeed invertible."
   ]
  },
  {
   "cell_type": "code",
   "execution_count": 54,
   "metadata": {},
   "outputs": [],
   "source": [
    "personal_info_column_list = ['gender', 'age', 'income', 'family_members']\n",
    "df_pn = df[personal_info_column_list]"
   ]
  },
  {
   "cell_type": "code",
   "execution_count": 55,
   "metadata": {},
   "outputs": [],
   "source": [
    "X = df_pn.to_numpy()"
   ]
  },
  {
   "cell_type": "markdown",
   "metadata": {},
   "source": [
    "Generating a random matrix $P$."
   ]
  },
  {
   "cell_type": "code",
   "execution_count": 56,
   "metadata": {},
   "outputs": [],
   "source": [
    "rng = np.random.default_rng(seed=42)\n",
    "P = rng.random(size=(X.shape[1], X.shape[1]))"
   ]
  },
  {
   "cell_type": "markdown",
   "metadata": {},
   "source": [
    "Checking the matrix $P$ is invertible"
   ]
  },
  {
   "cell_type": "code",
   "execution_count": 57,
   "metadata": {},
   "outputs": [
    {
     "data": {
      "text/plain": [
       "array([[ 0.41467992, -1.43783972,  0.62798546,  1.14001268],\n",
       "       [-1.06101789,  0.44219337,  0.1329549 ,  1.18425933],\n",
       "       [ 1.42362442,  1.60461607, -2.0553823 , -1.53699695],\n",
       "       [-0.11128575, -0.65813802,  1.74995517, -0.11816316]])"
      ]
     },
     "execution_count": 57,
     "metadata": {},
     "output_type": "execute_result"
    }
   ],
   "source": [
    "np.linalg.inv(P)"
   ]
  },
  {
   "cell_type": "markdown",
   "metadata": {},
   "source": [
    "Can you guess the customers' ages or income after the transformation?"
   ]
  },
  {
   "cell_type": "code",
   "execution_count": 58,
   "metadata": {},
   "outputs": [],
   "source": [
    "x_tag = X @ P"
   ]
  },
  {
   "cell_type": "code",
   "execution_count": 59,
   "metadata": {},
   "outputs": [
    {
     "data": {
      "text/html": [
       "<div>\n",
       "<style scoped>\n",
       "    .dataframe tbody tr th:only-of-type {\n",
       "        vertical-align: middle;\n",
       "    }\n",
       "\n",
       "    .dataframe tbody tr th {\n",
       "        vertical-align: top;\n",
       "    }\n",
       "\n",
       "    .dataframe thead th {\n",
       "        text-align: right;\n",
       "    }\n",
       "</style>\n",
       "<table border=\"1\" class=\"dataframe\">\n",
       "  <thead>\n",
       "    <tr style=\"text-align: right;\">\n",
       "      <th></th>\n",
       "      <th>gender</th>\n",
       "      <th>age</th>\n",
       "      <th>income</th>\n",
       "      <th>family_members</th>\n",
       "    </tr>\n",
       "  </thead>\n",
       "  <tbody>\n",
       "    <tr>\n",
       "      <th>0</th>\n",
       "      <td>6359.715273</td>\n",
       "      <td>22380.404676</td>\n",
       "      <td>18424.090742</td>\n",
       "      <td>46000.696690</td>\n",
       "    </tr>\n",
       "    <tr>\n",
       "      <th>1</th>\n",
       "      <td>4873.294065</td>\n",
       "      <td>17160.367030</td>\n",
       "      <td>14125.780761</td>\n",
       "      <td>35253.455773</td>\n",
       "    </tr>\n",
       "    <tr>\n",
       "      <th>2</th>\n",
       "      <td>2693.117429</td>\n",
       "      <td>9486.397744</td>\n",
       "      <td>7808.831560</td>\n",
       "      <td>19484.860631</td>\n",
       "    </tr>\n",
       "    <tr>\n",
       "      <th>3</th>\n",
       "      <td>5345.603937</td>\n",
       "      <td>18803.227203</td>\n",
       "      <td>15479.148373</td>\n",
       "      <td>38663.061863</td>\n",
       "    </tr>\n",
       "    <tr>\n",
       "      <th>4</th>\n",
       "      <td>3347.176735</td>\n",
       "      <td>11782.829283</td>\n",
       "      <td>9699.998942</td>\n",
       "      <td>24211.273378</td>\n",
       "    </tr>\n",
       "  </tbody>\n",
       "</table>\n",
       "</div>"
      ],
      "text/plain": [
       "        gender           age        income  family_members\n",
       "0  6359.715273  22380.404676  18424.090742    46000.696690\n",
       "1  4873.294065  17160.367030  14125.780761    35253.455773\n",
       "2  2693.117429   9486.397744   7808.831560    19484.860631\n",
       "3  5345.603937  18803.227203  15479.148373    38663.061863\n",
       "4  3347.176735  11782.829283   9699.998942    24211.273378"
      ]
     },
     "execution_count": 59,
     "metadata": {},
     "output_type": "execute_result"
    }
   ],
   "source": [
    "df_obfus = pd.DataFrame(x_tag, columns = personal_info_column_list)\n",
    "df_obfus.head()"
   ]
  },
  {
   "cell_type": "markdown",
   "metadata": {},
   "source": [
    "After transformation, it's impossible to guess the customers' age. The age feature has unrealistic values for age (like 22,380 years old). The income feature has realistic values, so maybe someone will think that it's impossible to guess the customer's actual income. But when looking at the whole dataset, it's clear that the dataset is obfuscated, including the income feature, so technically it's also impossible to guess the income variable although its realistic values - the obfuscating method is unknown to outsiders."
   ]
  },
  {
   "cell_type": "markdown",
   "metadata": {},
   "source": [
    "Can you recover the original data from $X'$ if you know $P$? Try to check that with calculations by moving $P$ from the right side of the formula above to the left one. The rules of matrix multiplcation are really helpful here."
   ]
  },
  {
   "cell_type": "code",
   "execution_count": 60,
   "metadata": {},
   "outputs": [],
   "source": [
    "x_revers = np.round(x_tag @ np.linalg.inv(P)).astype(int)"
   ]
  },
  {
   "cell_type": "code",
   "execution_count": 61,
   "metadata": {},
   "outputs": [],
   "source": [
    "df_revers = pd.DataFrame(x_revers, columns = personal_info_column_list)"
   ]
  },
  {
   "cell_type": "code",
   "execution_count": 62,
   "metadata": {},
   "outputs": [
    {
     "data": {
      "text/html": [
       "<div>\n",
       "<style scoped>\n",
       "    .dataframe tbody tr th:only-of-type {\n",
       "        vertical-align: middle;\n",
       "    }\n",
       "\n",
       "    .dataframe tbody tr th {\n",
       "        vertical-align: top;\n",
       "    }\n",
       "\n",
       "    .dataframe thead th {\n",
       "        text-align: right;\n",
       "    }\n",
       "</style>\n",
       "<table border=\"1\" class=\"dataframe\">\n",
       "  <thead>\n",
       "    <tr style=\"text-align: right;\">\n",
       "      <th></th>\n",
       "      <th>gender</th>\n",
       "      <th>age</th>\n",
       "      <th>income</th>\n",
       "      <th>family_members</th>\n",
       "    </tr>\n",
       "  </thead>\n",
       "  <tbody>\n",
       "    <tr>\n",
       "      <th>0</th>\n",
       "      <td>1</td>\n",
       "      <td>41</td>\n",
       "      <td>49600</td>\n",
       "      <td>1</td>\n",
       "    </tr>\n",
       "    <tr>\n",
       "      <th>1</th>\n",
       "      <td>0</td>\n",
       "      <td>46</td>\n",
       "      <td>38000</td>\n",
       "      <td>1</td>\n",
       "    </tr>\n",
       "    <tr>\n",
       "      <th>2</th>\n",
       "      <td>0</td>\n",
       "      <td>29</td>\n",
       "      <td>21000</td>\n",
       "      <td>0</td>\n",
       "    </tr>\n",
       "    <tr>\n",
       "      <th>3</th>\n",
       "      <td>0</td>\n",
       "      <td>21</td>\n",
       "      <td>41700</td>\n",
       "      <td>2</td>\n",
       "    </tr>\n",
       "    <tr>\n",
       "      <th>4</th>\n",
       "      <td>1</td>\n",
       "      <td>28</td>\n",
       "      <td>26100</td>\n",
       "      <td>0</td>\n",
       "    </tr>\n",
       "  </tbody>\n",
       "</table>\n",
       "</div>"
      ],
      "text/plain": [
       "   gender  age  income  family_members\n",
       "0       1   41   49600               1\n",
       "1       0   46   38000               1\n",
       "2       0   29   21000               0\n",
       "3       0   21   41700               2\n",
       "4       1   28   26100               0"
      ]
     },
     "execution_count": 62,
     "metadata": {},
     "output_type": "execute_result"
    }
   ],
   "source": [
    "df_revers.head()"
   ]
  },
  {
   "cell_type": "code",
   "execution_count": 63,
   "metadata": {},
   "outputs": [
    {
     "data": {
      "text/html": [
       "<div>\n",
       "<style scoped>\n",
       "    .dataframe tbody tr th:only-of-type {\n",
       "        vertical-align: middle;\n",
       "    }\n",
       "\n",
       "    .dataframe tbody tr th {\n",
       "        vertical-align: top;\n",
       "    }\n",
       "\n",
       "    .dataframe thead th {\n",
       "        text-align: right;\n",
       "    }\n",
       "</style>\n",
       "<table border=\"1\" class=\"dataframe\">\n",
       "  <thead>\n",
       "    <tr style=\"text-align: right;\">\n",
       "      <th></th>\n",
       "      <th>gender</th>\n",
       "      <th>age</th>\n",
       "      <th>income</th>\n",
       "      <th>family_members</th>\n",
       "    </tr>\n",
       "  </thead>\n",
       "  <tbody>\n",
       "    <tr>\n",
       "      <th>0</th>\n",
       "      <td>1</td>\n",
       "      <td>41</td>\n",
       "      <td>49600.0</td>\n",
       "      <td>1</td>\n",
       "    </tr>\n",
       "    <tr>\n",
       "      <th>1</th>\n",
       "      <td>0</td>\n",
       "      <td>46</td>\n",
       "      <td>38000.0</td>\n",
       "      <td>1</td>\n",
       "    </tr>\n",
       "    <tr>\n",
       "      <th>2</th>\n",
       "      <td>0</td>\n",
       "      <td>29</td>\n",
       "      <td>21000.0</td>\n",
       "      <td>0</td>\n",
       "    </tr>\n",
       "    <tr>\n",
       "      <th>3</th>\n",
       "      <td>0</td>\n",
       "      <td>21</td>\n",
       "      <td>41700.0</td>\n",
       "      <td>2</td>\n",
       "    </tr>\n",
       "    <tr>\n",
       "      <th>4</th>\n",
       "      <td>1</td>\n",
       "      <td>28</td>\n",
       "      <td>26100.0</td>\n",
       "      <td>0</td>\n",
       "    </tr>\n",
       "  </tbody>\n",
       "</table>\n",
       "</div>"
      ],
      "text/plain": [
       "   gender  age   income  family_members\n",
       "0       1   41  49600.0               1\n",
       "1       0   46  38000.0               1\n",
       "2       0   29  21000.0               0\n",
       "3       0   21  41700.0               2\n",
       "4       1   28  26100.0               0"
      ]
     },
     "execution_count": 63,
     "metadata": {},
     "output_type": "execute_result"
    }
   ],
   "source": [
    "df_pn.head()"
   ]
  },
  {
   "cell_type": "markdown",
   "metadata": {},
   "source": [
    "Print all three cases for a few customers\n",
    "- The original data\n",
    "- The transformed one\n",
    "- The reversed (recovered) one"
   ]
  },
  {
   "cell_type": "code",
   "execution_count": 64,
   "metadata": {},
   "outputs": [],
   "source": [
    "# Setting a group of customers\n",
    "customers = range(15,26)"
   ]
  },
  {
   "cell_type": "code",
   "execution_count": 65,
   "metadata": {},
   "outputs": [
    {
     "data": {
      "text/html": [
       "<div>\n",
       "<style scoped>\n",
       "    .dataframe tbody tr th:only-of-type {\n",
       "        vertical-align: middle;\n",
       "    }\n",
       "\n",
       "    .dataframe tbody tr th {\n",
       "        vertical-align: top;\n",
       "    }\n",
       "\n",
       "    .dataframe thead th {\n",
       "        text-align: right;\n",
       "    }\n",
       "</style>\n",
       "<table border=\"1\" class=\"dataframe\">\n",
       "  <thead>\n",
       "    <tr style=\"text-align: right;\">\n",
       "      <th></th>\n",
       "      <th>gender</th>\n",
       "      <th>age</th>\n",
       "      <th>income</th>\n",
       "      <th>family_members</th>\n",
       "    </tr>\n",
       "  </thead>\n",
       "  <tbody>\n",
       "    <tr>\n",
       "      <th>15</th>\n",
       "      <td>1</td>\n",
       "      <td>34</td>\n",
       "      <td>23300.0</td>\n",
       "      <td>0</td>\n",
       "    </tr>\n",
       "    <tr>\n",
       "      <th>16</th>\n",
       "      <td>1</td>\n",
       "      <td>26</td>\n",
       "      <td>48900.0</td>\n",
       "      <td>2</td>\n",
       "    </tr>\n",
       "    <tr>\n",
       "      <th>17</th>\n",
       "      <td>1</td>\n",
       "      <td>41</td>\n",
       "      <td>33200.0</td>\n",
       "      <td>2</td>\n",
       "    </tr>\n",
       "    <tr>\n",
       "      <th>18</th>\n",
       "      <td>1</td>\n",
       "      <td>42</td>\n",
       "      <td>49700.0</td>\n",
       "      <td>0</td>\n",
       "    </tr>\n",
       "    <tr>\n",
       "      <th>19</th>\n",
       "      <td>1</td>\n",
       "      <td>27</td>\n",
       "      <td>36900.0</td>\n",
       "      <td>0</td>\n",
       "    </tr>\n",
       "    <tr>\n",
       "      <th>20</th>\n",
       "      <td>1</td>\n",
       "      <td>38</td>\n",
       "      <td>43500.0</td>\n",
       "      <td>1</td>\n",
       "    </tr>\n",
       "    <tr>\n",
       "      <th>21</th>\n",
       "      <td>1</td>\n",
       "      <td>36</td>\n",
       "      <td>36100.0</td>\n",
       "      <td>1</td>\n",
       "    </tr>\n",
       "    <tr>\n",
       "      <th>22</th>\n",
       "      <td>0</td>\n",
       "      <td>41</td>\n",
       "      <td>26600.0</td>\n",
       "      <td>0</td>\n",
       "    </tr>\n",
       "    <tr>\n",
       "      <th>23</th>\n",
       "      <td>0</td>\n",
       "      <td>33</td>\n",
       "      <td>48700.0</td>\n",
       "      <td>2</td>\n",
       "    </tr>\n",
       "    <tr>\n",
       "      <th>24</th>\n",
       "      <td>0</td>\n",
       "      <td>21</td>\n",
       "      <td>40400.0</td>\n",
       "      <td>3</td>\n",
       "    </tr>\n",
       "    <tr>\n",
       "      <th>25</th>\n",
       "      <td>1</td>\n",
       "      <td>47</td>\n",
       "      <td>38400.0</td>\n",
       "      <td>3</td>\n",
       "    </tr>\n",
       "  </tbody>\n",
       "</table>\n",
       "</div>"
      ],
      "text/plain": [
       "    gender  age   income  family_members\n",
       "15       1   34  23300.0               0\n",
       "16       1   26  48900.0               2\n",
       "17       1   41  33200.0               2\n",
       "18       1   42  49700.0               0\n",
       "19       1   27  36900.0               0\n",
       "20       1   38  43500.0               1\n",
       "21       1   36  36100.0               1\n",
       "22       0   41  26600.0               0\n",
       "23       0   33  48700.0               2\n",
       "24       0   21  40400.0               3\n",
       "25       1   47  38400.0               3"
      ]
     },
     "execution_count": 65,
     "metadata": {},
     "output_type": "execute_result"
    }
   ],
   "source": [
    "df_pn.loc[customers]"
   ]
  },
  {
   "cell_type": "code",
   "execution_count": 66,
   "metadata": {},
   "outputs": [
    {
     "data": {
      "text/html": [
       "<div>\n",
       "<style scoped>\n",
       "    .dataframe tbody tr th:only-of-type {\n",
       "        vertical-align: middle;\n",
       "    }\n",
       "\n",
       "    .dataframe tbody tr th {\n",
       "        vertical-align: top;\n",
       "    }\n",
       "\n",
       "    .dataframe thead th {\n",
       "        text-align: right;\n",
       "    }\n",
       "</style>\n",
       "<table border=\"1\" class=\"dataframe\">\n",
       "  <thead>\n",
       "    <tr style=\"text-align: right;\">\n",
       "      <th></th>\n",
       "      <th>gender</th>\n",
       "      <th>age</th>\n",
       "      <th>income</th>\n",
       "      <th>family_members</th>\n",
       "    </tr>\n",
       "  </thead>\n",
       "  <tbody>\n",
       "    <tr>\n",
       "      <th>15</th>\n",
       "      <td>2989.023627</td>\n",
       "      <td>10527.602391</td>\n",
       "      <td>8666.331312</td>\n",
       "      <td>21621.047795</td>\n",
       "    </tr>\n",
       "    <tr>\n",
       "      <th>16</th>\n",
       "      <td>6269.266935</td>\n",
       "      <td>22051.322946</td>\n",
       "      <td>18153.558444</td>\n",
       "      <td>45340.397472</td>\n",
       "    </tr>\n",
       "    <tr>\n",
       "      <th>17</th>\n",
       "      <td>4259.295562</td>\n",
       "      <td>14994.898056</td>\n",
       "      <td>12343.446559</td>\n",
       "      <td>30801.978112</td>\n",
       "    </tr>\n",
       "    <tr>\n",
       "      <th>18</th>\n",
       "      <td>6371.976949</td>\n",
       "      <td>22425.596131</td>\n",
       "      <td>18461.488270</td>\n",
       "      <td>46093.932015</td>\n",
       "    </tr>\n",
       "    <tr>\n",
       "      <th>19</th>\n",
       "      <td>4730.709790</td>\n",
       "      <td>16646.021790</td>\n",
       "      <td>13703.856464</td>\n",
       "      <td>34219.549193</td>\n",
       "    </tr>\n",
       "    <tr>\n",
       "      <th>20</th>\n",
       "      <td>5577.939582</td>\n",
       "      <td>19630.123588</td>\n",
       "      <td>16159.939375</td>\n",
       "      <td>40345.072065</td>\n",
       "    </tr>\n",
       "    <tr>\n",
       "      <th>21</th>\n",
       "      <td>4629.710345</td>\n",
       "      <td>16295.316403</td>\n",
       "      <td>13414.511716</td>\n",
       "      <td>33485.439019</td>\n",
       "    </tr>\n",
       "    <tr>\n",
       "      <th>22</th>\n",
       "      <td>3411.683900</td>\n",
       "      <td>12020.266464</td>\n",
       "      <td>9894.434172</td>\n",
       "      <td>24684.177340</td>\n",
       "    </tr>\n",
       "    <tr>\n",
       "      <th>23</th>\n",
       "      <td>6243.529494</td>\n",
       "      <td>21967.636236</td>\n",
       "      <td>18083.868219</td>\n",
       "      <td>45159.849556</td>\n",
       "    </tr>\n",
       "    <tr>\n",
       "      <th>24</th>\n",
       "      <td>5179.700080</td>\n",
       "      <td>18218.548245</td>\n",
       "      <td>14997.554355</td>\n",
       "      <td>37458.494616</td>\n",
       "    </tr>\n",
       "    <tr>\n",
       "      <th>25</th>\n",
       "      <td>4926.695382</td>\n",
       "      <td>17343.581429</td>\n",
       "      <td>14276.606537</td>\n",
       "      <td>35626.099678</td>\n",
       "    </tr>\n",
       "  </tbody>\n",
       "</table>\n",
       "</div>"
      ],
      "text/plain": [
       "         gender           age        income  family_members\n",
       "15  2989.023627  10527.602391   8666.331312    21621.047795\n",
       "16  6269.266935  22051.322946  18153.558444    45340.397472\n",
       "17  4259.295562  14994.898056  12343.446559    30801.978112\n",
       "18  6371.976949  22425.596131  18461.488270    46093.932015\n",
       "19  4730.709790  16646.021790  13703.856464    34219.549193\n",
       "20  5577.939582  19630.123588  16159.939375    40345.072065\n",
       "21  4629.710345  16295.316403  13414.511716    33485.439019\n",
       "22  3411.683900  12020.266464   9894.434172    24684.177340\n",
       "23  6243.529494  21967.636236  18083.868219    45159.849556\n",
       "24  5179.700080  18218.548245  14997.554355    37458.494616\n",
       "25  4926.695382  17343.581429  14276.606537    35626.099678"
      ]
     },
     "execution_count": 66,
     "metadata": {},
     "output_type": "execute_result"
    }
   ],
   "source": [
    "df_obfus.loc[customers]"
   ]
  },
  {
   "cell_type": "code",
   "execution_count": 67,
   "metadata": {},
   "outputs": [
    {
     "data": {
      "text/html": [
       "<div>\n",
       "<style scoped>\n",
       "    .dataframe tbody tr th:only-of-type {\n",
       "        vertical-align: middle;\n",
       "    }\n",
       "\n",
       "    .dataframe tbody tr th {\n",
       "        vertical-align: top;\n",
       "    }\n",
       "\n",
       "    .dataframe thead th {\n",
       "        text-align: right;\n",
       "    }\n",
       "</style>\n",
       "<table border=\"1\" class=\"dataframe\">\n",
       "  <thead>\n",
       "    <tr style=\"text-align: right;\">\n",
       "      <th></th>\n",
       "      <th>gender</th>\n",
       "      <th>age</th>\n",
       "      <th>income</th>\n",
       "      <th>family_members</th>\n",
       "    </tr>\n",
       "  </thead>\n",
       "  <tbody>\n",
       "    <tr>\n",
       "      <th>15</th>\n",
       "      <td>1</td>\n",
       "      <td>34</td>\n",
       "      <td>23300</td>\n",
       "      <td>0</td>\n",
       "    </tr>\n",
       "    <tr>\n",
       "      <th>16</th>\n",
       "      <td>1</td>\n",
       "      <td>26</td>\n",
       "      <td>48900</td>\n",
       "      <td>2</td>\n",
       "    </tr>\n",
       "    <tr>\n",
       "      <th>17</th>\n",
       "      <td>1</td>\n",
       "      <td>41</td>\n",
       "      <td>33200</td>\n",
       "      <td>2</td>\n",
       "    </tr>\n",
       "    <tr>\n",
       "      <th>18</th>\n",
       "      <td>1</td>\n",
       "      <td>42</td>\n",
       "      <td>49700</td>\n",
       "      <td>0</td>\n",
       "    </tr>\n",
       "    <tr>\n",
       "      <th>19</th>\n",
       "      <td>1</td>\n",
       "      <td>27</td>\n",
       "      <td>36900</td>\n",
       "      <td>0</td>\n",
       "    </tr>\n",
       "    <tr>\n",
       "      <th>20</th>\n",
       "      <td>1</td>\n",
       "      <td>38</td>\n",
       "      <td>43500</td>\n",
       "      <td>1</td>\n",
       "    </tr>\n",
       "    <tr>\n",
       "      <th>21</th>\n",
       "      <td>1</td>\n",
       "      <td>36</td>\n",
       "      <td>36100</td>\n",
       "      <td>1</td>\n",
       "    </tr>\n",
       "    <tr>\n",
       "      <th>22</th>\n",
       "      <td>0</td>\n",
       "      <td>41</td>\n",
       "      <td>26600</td>\n",
       "      <td>0</td>\n",
       "    </tr>\n",
       "    <tr>\n",
       "      <th>23</th>\n",
       "      <td>0</td>\n",
       "      <td>33</td>\n",
       "      <td>48700</td>\n",
       "      <td>2</td>\n",
       "    </tr>\n",
       "    <tr>\n",
       "      <th>24</th>\n",
       "      <td>0</td>\n",
       "      <td>21</td>\n",
       "      <td>40400</td>\n",
       "      <td>3</td>\n",
       "    </tr>\n",
       "    <tr>\n",
       "      <th>25</th>\n",
       "      <td>1</td>\n",
       "      <td>47</td>\n",
       "      <td>38400</td>\n",
       "      <td>3</td>\n",
       "    </tr>\n",
       "  </tbody>\n",
       "</table>\n",
       "</div>"
      ],
      "text/plain": [
       "    gender  age  income  family_members\n",
       "15       1   34   23300               0\n",
       "16       1   26   48900               2\n",
       "17       1   41   33200               2\n",
       "18       1   42   49700               0\n",
       "19       1   27   36900               0\n",
       "20       1   38   43500               1\n",
       "21       1   36   36100               1\n",
       "22       0   41   26600               0\n",
       "23       0   33   48700               2\n",
       "24       0   21   40400               3\n",
       "25       1   47   38400               3"
      ]
     },
     "execution_count": 67,
     "metadata": {},
     "output_type": "execute_result"
    }
   ],
   "source": [
    "df_revers.loc[customers]"
   ]
  },
  {
   "cell_type": "markdown",
   "metadata": {},
   "source": [
    "You can probably see that some values are not exactly the same as they are in the original data. What might be the reason for that?"
   ]
  },
  {
   "cell_type": "markdown",
   "metadata": {},
   "source": [
    "Well, we see here that the data in the obfuscated dataset is different, and it's because we transformed it by multiplication with an inverse matrix. The other 2 datasets, the original and the reversed are the same."
   ]
  },
  {
   "cell_type": "markdown",
   "metadata": {},
   "source": [
    "## Proof That Data Obfuscation Can Work with LR"
   ]
  },
  {
   "cell_type": "markdown",
   "metadata": {},
   "source": [
    "The regression task has been solved with linear regression in this project. Your next task is to prove _analytically_ that the given obfuscation method won't affect linear regression in terms of predicted values i.e. their values will remain the same. Can you believe that? Well, you don't have to, you should prove it!"
   ]
  },
  {
   "cell_type": "markdown",
   "metadata": {},
   "source": [
    "So, the data is obfuscated and there is $X \\times P$ instead of just $X$ now. Consequently, there are other weights $w_P$ as\n",
    "$$\n",
    "w = (X^T X)^{-1} X^T y \\quad \\Rightarrow \\quad w_P = [(XP)^T XP]^{-1} (XP)^T y\n",
    "$$\n",
    "\n",
    "How would $w$ and $w_P$ be linked if you simplify the formula for $w_P$ above? \n",
    "\n",
    "What would be predicted values with $w_P$? \n",
    "\n",
    "What does that mean for the quality of linear regression if you measure it with RMSE?\n",
    "\n",
    "No code is necessary in this section, only analytical explanation!"
   ]
  },
  {
   "cell_type": "markdown",
   "metadata": {},
   "source": [
    "**Answer**"
   ]
  },
  {
   "cell_type": "markdown",
   "metadata": {},
   "source": [
    "Simplifying the formule of $w_p$ outcomes:\n",
    "$$\n",
    "w_P = P^{-1} (X^TX)^{-1} X^T y\n",
    "$$\n",
    "(The full calculation can be seen in the analytical proof beneath)\n",
    "\n",
    "While the formula of $w$ is:\n",
    "$$\n",
    "w = (X^T X)^{-1} X^T y\n",
    "$$\n",
    "\n",
    "We can see that the 2 weights are linked with the invertive matrix of $P$. Because the values are being obfuscated with matrix $P$, when calculating the prediction $\\hat{y}$, we actually multiplying the matrix $P$ with its inverse matrix $p^{-1}$, which results in the unit matrix $I$. So, basically, we are left with the same values $X{val}$, $(X^T X)^{-1}$, $X^T$ and $y$, just like in the original formula for the original data.\n",
    "\n",
    "Regarding the RMSE metric, the results will not change, because we have the same predictions (and we didn't obfuscate the target variable so they also stayed the same). The variables that the RMSE metric is calculated by them (the predictions and the target variable) didn't change, so the RMSE metric also wouldn't change. This is good because this means that we can obfuscate our data without worrying, because the linear regression algorithm will continue to give accurate predictions, regardless of the obfuscation."
   ]
  },
  {
   "cell_type": "markdown",
   "metadata": {},
   "source": [
    "**Analytical proof**"
   ]
  },
  {
   "cell_type": "markdown",
   "metadata": {},
   "source": [
    "First, let's simplify the wights $w_p$:\n",
    "$$\n",
    "w_P = [(XP)^T XP]^{-1} (XP)^T y\n",
    "$$\n",
    "$$\n",
    "w_P = [(XP)^T XP]^{-1} P^T X^T y\n",
    "$$\n",
    "$$\n",
    "w_P = [(P^T X^T XP]^{-1} P^T X^T y\n",
    "$$\n",
    "$$\n",
    "w_P = P^{-1} (X^TX)^{-1} (P^T)^{-1} P^T X^T y\n",
    "$$\n",
    "$$\n",
    "w_P = P^{-1} (X^TX)^{-1} I X^T y\n",
    "$$\n",
    "$$\n",
    "w_P = P^{-1} (X^TX)^{-1} X^T y\n",
    "$$"
   ]
  },
  {
   "cell_type": "markdown",
   "metadata": {},
   "source": [
    "We know that:\n",
    "$$\n",
    "\\hat{y} = X_{val}w\n",
    "$$\n",
    "\n",
    "So, if we will place in the formula wights $w$ we will get: \n",
    "$$\n",
    "\\hat{y} = X_{val}(X^T X)^{-1} X^T y\n",
    "$$"
   ]
  },
  {
   "cell_type": "markdown",
   "metadata": {},
   "source": [
    "Now we will place in the formula the simplified weights $w_p$ and the obfuscated values, and see what will be the result:\n",
    "$$\n",
    "\\hat{y} = X_{val} P P^{-1} (X^TX)^{-1} X^T y\n",
    "$$\n",
    "$$\n",
    "\\hat{y} = X_{val} I (X^TX)^{-1} X^T y\n",
    "$$\n",
    "$$\n",
    "\\hat{y} = X_{val} (X^TX)^{-1} X^T y\n",
    "$$"
   ]
  },
  {
   "cell_type": "markdown",
   "metadata": {},
   "source": [
    "We got the same predictions for the original data and the obfuscated data."
   ]
  },
  {
   "cell_type": "markdown",
   "metadata": {},
   "source": [
    "## Test Linear Regression With Data Obfuscation"
   ]
  },
  {
   "cell_type": "markdown",
   "metadata": {},
   "source": [
    "Now, let's prove Linear Regression can work computationally with the chosen obfuscation transformation.\n",
    "\n",
    "Build a procedure or a class that runs Linear Regression optionally with the obfuscation. You can use either a ready implementation of Linear Regression from sciki-learn or your own.\n",
    "\n",
    "Run Linear Regression for the original data and the obfuscated one, compare the predicted values and the RMSE, $R^2$ metric values. Is there any difference?"
   ]
  },
  {
   "cell_type": "markdown",
   "metadata": {},
   "source": [
    "**Procedure**\n",
    "\n",
    "- Create a square matrix $P$ of random numbers.\n",
    "- Check that it is invertible. If not, repeat the first point until we get an invertible matrix.\n",
    "- Building a function of Linear Regression Model that check if it can work computationally with the original and the obfuscated data.\n",
    "- Use $XP$ as the new feature matrix"
   ]
  },
  {
   "cell_type": "code",
   "execution_count": 68,
   "metadata": {},
   "outputs": [],
   "source": [
    "def regression(features_train, target_train, features_test, target_test):\n",
    "    lr = LinearRegression()\n",
    "    lr.fit(features_train, target_train)\n",
    "    predictions = lr.predict(features_test)\n",
    "    rmse = math.sqrt(mean_squared_error(target_test, predictions))\n",
    "    r2 = math.sqrt(r2_score(target_test, predictions))\n",
    "    print('RMSE:', rmse)\n",
    "    print()\n",
    "    print('R2:', r2)\n",
    "    return predictions[:10]"
   ]
  },
  {
   "cell_type": "code",
   "execution_count": 69,
   "metadata": {},
   "outputs": [],
   "source": [
    "# Creating square matrix 𝑃 of random numbers\n",
    "rng = np.random.default_rng(seed=42)\n",
    "P = rng.random(size=(X.shape[1], X.shape[1]))"
   ]
  },
  {
   "cell_type": "code",
   "execution_count": 70,
   "metadata": {},
   "outputs": [
    {
     "data": {
      "text/plain": [
       "array([[ 0.41467992, -1.43783972,  0.62798546,  1.14001268],\n",
       "       [-1.06101789,  0.44219337,  0.1329549 ,  1.18425933],\n",
       "       [ 1.42362442,  1.60461607, -2.0553823 , -1.53699695],\n",
       "       [-0.11128575, -0.65813802,  1.74995517, -0.11816316]])"
      ]
     },
     "execution_count": 70,
     "metadata": {},
     "output_type": "execute_result"
    }
   ],
   "source": [
    "#Checking the matrix 𝑃 is invertible\n",
    "np.linalg.inv(P)"
   ]
  },
  {
   "cell_type": "code",
   "execution_count": 71,
   "metadata": {},
   "outputs": [],
   "source": [
    "# Setting the obfuscated dataset\n",
    "x_obfus = X @ P\n",
    "obfus = pd.DataFrame(x_obfus, columns = personal_info_column_list)\n",
    "df_obfus = pd.concat([obfus, df['insurance_benefits']], axis = 1)"
   ]
  },
  {
   "cell_type": "code",
   "execution_count": 72,
   "metadata": {},
   "outputs": [
    {
     "data": {
      "text/html": [
       "<div>\n",
       "<style scoped>\n",
       "    .dataframe tbody tr th:only-of-type {\n",
       "        vertical-align: middle;\n",
       "    }\n",
       "\n",
       "    .dataframe tbody tr th {\n",
       "        vertical-align: top;\n",
       "    }\n",
       "\n",
       "    .dataframe thead th {\n",
       "        text-align: right;\n",
       "    }\n",
       "</style>\n",
       "<table border=\"1\" class=\"dataframe\">\n",
       "  <thead>\n",
       "    <tr style=\"text-align: right;\">\n",
       "      <th></th>\n",
       "      <th>gender</th>\n",
       "      <th>age</th>\n",
       "      <th>income</th>\n",
       "      <th>family_members</th>\n",
       "      <th>insurance_benefits</th>\n",
       "    </tr>\n",
       "  </thead>\n",
       "  <tbody>\n",
       "    <tr>\n",
       "      <th>0</th>\n",
       "      <td>6359.715273</td>\n",
       "      <td>22380.404676</td>\n",
       "      <td>18424.090742</td>\n",
       "      <td>46000.696690</td>\n",
       "      <td>0</td>\n",
       "    </tr>\n",
       "    <tr>\n",
       "      <th>1</th>\n",
       "      <td>4873.294065</td>\n",
       "      <td>17160.367030</td>\n",
       "      <td>14125.780761</td>\n",
       "      <td>35253.455773</td>\n",
       "      <td>1</td>\n",
       "    </tr>\n",
       "    <tr>\n",
       "      <th>2</th>\n",
       "      <td>2693.117429</td>\n",
       "      <td>9486.397744</td>\n",
       "      <td>7808.831560</td>\n",
       "      <td>19484.860631</td>\n",
       "      <td>0</td>\n",
       "    </tr>\n",
       "  </tbody>\n",
       "</table>\n",
       "</div>"
      ],
      "text/plain": [
       "        gender           age        income  family_members  insurance_benefits\n",
       "0  6359.715273  22380.404676  18424.090742    46000.696690                   0\n",
       "1  4873.294065  17160.367030  14125.780761    35253.455773                   1\n",
       "2  2693.117429   9486.397744   7808.831560    19484.860631                   0"
      ]
     },
     "execution_count": 72,
     "metadata": {},
     "output_type": "execute_result"
    }
   ],
   "source": [
    "df_obfus.head(3)"
   ]
  },
  {
   "cell_type": "code",
   "execution_count": 73,
   "metadata": {},
   "outputs": [],
   "source": [
    "# Splitting the original and the obfuscared datasets to train and test sets\n",
    "\n",
    "# original dataset\n",
    "train_df, test_df = train_test_split(df, test_size = 0.3, random_state = 12345)\n",
    "\n",
    "# obfuscated dataset\n",
    "train_df_obfus, test_df_obfus = train_test_split(df_obfus, test_size = 0.3, random_state = 12345)"
   ]
  },
  {
   "cell_type": "code",
   "execution_count": 74,
   "metadata": {},
   "outputs": [],
   "source": [
    "# Setting the features and target variables for the original dataset\n",
    "\n",
    "# train\n",
    "features_train_original = train_df[personal_info_column_list]\n",
    "traget_train_original = train_df['insurance_benefits']\n",
    "# test\n",
    "features_test_original = test_df[personal_info_column_list]\n",
    "traget_test_original = test_df['insurance_benefits']\n",
    "\n",
    "# Setting the features and target variables for the obfuscated dataset\n",
    "\n",
    "# train\n",
    "features_train_obfus = train_df_obfus[personal_info_column_list]\n",
    "traget_train_obfus = train_df_obfus['insurance_benefits']\n",
    "# test\n",
    "features_test_obfus = test_df_obfus[personal_info_column_list]\n",
    "traget_test_obfus = test_df_obfus['insurance_benefits']"
   ]
  },
  {
   "cell_type": "code",
   "execution_count": 75,
   "metadata": {},
   "outputs": [
    {
     "name": "stdout",
     "output_type": "stream",
     "text": [
      "RMSE: 0.34161778344485255\n",
      "\n",
      "R2: 0.6690789238938006\n"
     ]
    },
    {
     "data": {
      "text/plain": [
       "array([-0.1270786 ,  0.21605769, -0.21026363, -0.25350672,  0.61133384,\n",
       "       -0.22840051, -0.19614982,  0.38485457,  0.15259522, -0.11710034])"
      ]
     },
     "execution_count": 75,
     "metadata": {},
     "output_type": "execute_result"
    }
   ],
   "source": [
    "# Using the Linear Regression function on the original data\n",
    "regression(features_train_original, traget_train_original, features_test_original, traget_test_original)"
   ]
  },
  {
   "cell_type": "code",
   "execution_count": 76,
   "metadata": {},
   "outputs": [
    {
     "name": "stdout",
     "output_type": "stream",
     "text": [
      "RMSE: 0.3416177834448624\n",
      "\n",
      "R2: 0.6690789238937768\n"
     ]
    },
    {
     "data": {
      "text/plain": [
       "array([-0.1270786 ,  0.21605769, -0.21026363, -0.25350672,  0.61133384,\n",
       "       -0.22840051, -0.19614982,  0.38485457,  0.15259522, -0.11710034])"
      ]
     },
     "execution_count": 76,
     "metadata": {},
     "output_type": "execute_result"
    }
   ],
   "source": [
    "# Using the Linear Regression function on the obfuscated data\n",
    "regression(features_train_obfus, traget_train_obfus, features_test_obfus, traget_test_obfus)"
   ]
  },
  {
   "cell_type": "markdown",
   "metadata": {},
   "source": [
    "As we can see above, all the values are the same."
   ]
  },
  {
   "cell_type": "markdown",
   "metadata": {},
   "source": [
    "# Conclusions"
   ]
  },
  {
   "cell_type": "markdown",
   "metadata": {},
   "source": [
    "1. At the beginning of this project we checked the quality of data. We looked after missing values, outliers and duplicates. **We didn't find missing values, but we did find outliers and duplicates, so we removed them**, and then reset the dataset's indices, to maintain order, and not to damage further commands that are index dependent.\n",
    "\n",
    "\n",
    "2. **Scaling the data had big influence on the KNN algorithm**. When scaling the data, the distances between the neighbors decreases to one distance unit (meaning between 0 and 1). On the contrary, when not scaling the data, the distance between the neighbors can vary from 23 to 103 for example.\n",
    "\n",
    "\n",
    "3. **The Manhattan and the Euclidean distance metrics had almost the same results for the non-scaled dataset**. On the other hand, **with scaled data, the Euclidean distance metric returned shorter distances than the Manhattan distance metric - about 20% shorter**. \n",
    "\n",
    "\n",
    "4. **The KNN prediction outcomes are influenced by scaled data**. The algorithm performs much better with scaled data than with non-scaled data.\n",
    "\n",
    "\n",
    "5. **Increasing the number of neighbors brings lower prediction performance**. As the number of neighbors rises, the algorithm predictions are getting less accurate. **It is important to mention that here also, scaling the data has a positive influence**. With scaled data, **the decrease of the KNN algorithm performance is about 5%.** While with not-scaled data, **the decrease of the KNN algorithm performance is about 15%**.\n",
    "\n",
    "\n",
    "\n",
    "6. The data's transformation with random invertive matrix $P$, obfuscated the data quey well for outdoor people. **Its impossible for outsider agents that don't know the encryption key, to guess the real data of the customers**. The data of course is recoverable for the ones that know the encryption key - in our case multiplying the original data with a random invertible matrix $P$. \n",
    "\n",
    "\n",
    "7. We proved mathematically and demonstrated, that although transforming the original dataset, Linear Regression model returns almost the same predictions for both the original data and the obfuscated data. This is a really helpful feature because we can obfuscate and secure personal data without worrying that the model's performance will damage."
   ]
  }
 ],
 "metadata": {
  "ExecuteTimeLog": [
   {
    "duration": 534,
    "start_time": "2022-05-14T11:21:33.803Z"
   },
   {
    "duration": 43277,
    "start_time": "2022-05-14T11:21:43.116Z"
   },
   {
    "duration": 163,
    "start_time": "2022-05-14T11:22:26.395Z"
   },
   {
    "duration": 4,
    "start_time": "2022-05-14T11:22:26.559Z"
   },
   {
    "duration": 18,
    "start_time": "2022-05-14T11:22:26.565Z"
   },
   {
    "duration": 9,
    "start_time": "2022-05-14T11:22:26.585Z"
   },
   {
    "duration": 4,
    "start_time": "2022-05-14T11:22:26.596Z"
   },
   {
    "duration": 10,
    "start_time": "2022-05-14T11:22:26.602Z"
   },
   {
    "duration": 2,
    "start_time": "2022-05-14T11:22:26.614Z"
   },
   {
    "duration": 1637,
    "start_time": "2022-05-14T11:22:26.618Z"
   },
   {
    "duration": 595,
    "start_time": "2022-05-14T11:22:28.258Z"
   },
   {
    "duration": 7,
    "start_time": "2022-05-14T11:22:28.855Z"
   },
   {
    "duration": 10,
    "start_time": "2022-05-14T11:22:28.864Z"
   },
   {
    "duration": 9,
    "start_time": "2022-05-14T11:22:28.876Z"
   },
   {
    "duration": 527,
    "start_time": "2022-05-14T11:22:28.886Z"
   },
   {
    "duration": 13,
    "start_time": "2022-05-14T11:22:29.415Z"
   },
   {
    "duration": 9,
    "start_time": "2022-05-14T11:22:29.430Z"
   },
   {
    "duration": 3,
    "start_time": "2022-05-14T11:22:29.441Z"
   },
   {
    "duration": 3,
    "start_time": "2022-05-14T11:22:37.463Z"
   },
   {
    "duration": 4,
    "start_time": "2022-05-14T11:22:38.079Z"
   },
   {
    "duration": 11,
    "start_time": "2022-05-14T11:22:42.005Z"
   },
   {
    "duration": 14,
    "start_time": "2022-05-14T11:22:42.224Z"
   },
   {
    "duration": 21,
    "start_time": "2022-05-14T11:22:43.227Z"
   },
   {
    "duration": 19,
    "start_time": "2022-05-14T11:22:43.657Z"
   },
   {
    "duration": 31,
    "start_time": "2022-05-14T11:22:44.296Z"
   },
   {
    "duration": 28,
    "start_time": "2022-05-14T11:22:44.954Z"
   },
   {
    "duration": 10,
    "start_time": "2022-05-14T11:22:45.432Z"
   },
   {
    "duration": 11,
    "start_time": "2022-05-14T11:22:45.866Z"
   },
   {
    "duration": 395,
    "start_time": "2022-05-14T11:22:46.365Z"
   },
   {
    "duration": 421,
    "start_time": "2022-05-14T11:22:46.825Z"
   },
   {
    "duration": 5,
    "start_time": "2022-05-14T11:22:51.738Z"
   },
   {
    "duration": 7,
    "start_time": "2022-05-14T11:22:52.299Z"
   },
   {
    "duration": 5,
    "start_time": "2022-05-14T11:22:53.978Z"
   },
   {
    "duration": 12,
    "start_time": "2022-05-14T11:22:56.599Z"
   },
   {
    "duration": 5,
    "start_time": "2022-05-14T11:22:59.611Z"
   },
   {
    "duration": 3,
    "start_time": "2022-05-14T11:23:00.132Z"
   },
   {
    "duration": 4,
    "start_time": "2022-05-14T11:23:00.570Z"
   },
   {
    "duration": 3,
    "start_time": "2022-05-14T11:23:01.065Z"
   },
   {
    "duration": 9,
    "start_time": "2022-05-14T11:23:02.116Z"
   },
   {
    "duration": 49,
    "start_time": "2022-05-14T11:23:03.092Z"
   },
   {
    "duration": 4,
    "start_time": "2022-05-14T11:23:05.915Z"
   },
   {
    "duration": 8,
    "start_time": "2022-05-14T11:23:06.704Z"
   },
   {
    "duration": 19,
    "start_time": "2022-05-14T11:23:10.013Z"
   },
   {
    "duration": 17,
    "start_time": "2022-05-14T11:23:13.715Z"
   },
   {
    "duration": 13,
    "start_time": "2022-05-14T11:23:20.494Z"
   },
   {
    "duration": 6,
    "start_time": "2022-05-14T11:23:25.590Z"
   },
   {
    "duration": 4,
    "start_time": "2022-05-14T11:23:27.625Z"
   },
   {
    "duration": 9,
    "start_time": "2022-05-14T11:23:27.986Z"
   },
   {
    "duration": 8,
    "start_time": "2022-05-14T11:23:31.953Z"
   },
   {
    "duration": 13,
    "start_time": "2022-05-14T11:23:37.142Z"
   },
   {
    "duration": 12,
    "start_time": "2022-05-14T11:23:44.581Z"
   },
   {
    "duration": 54,
    "start_time": "2022-05-14T11:23:50.048Z"
   },
   {
    "duration": 10,
    "start_time": "2022-05-14T11:23:52.181Z"
   },
   {
    "duration": 15,
    "start_time": "2022-05-14T11:23:57.743Z"
   },
   {
    "duration": 12,
    "start_time": "2022-05-14T11:24:13.598Z"
   },
   {
    "duration": 4,
    "start_time": "2022-05-14T11:24:55.893Z"
   },
   {
    "duration": 819,
    "start_time": "2022-05-14T11:24:59.377Z"
   },
   {
    "duration": 12,
    "start_time": "2022-05-14T11:25:04.434Z"
   },
   {
    "duration": 510,
    "start_time": "2022-05-14T11:25:07.919Z"
   },
   {
    "duration": 8,
    "start_time": "2022-05-14T11:25:15.138Z"
   },
   {
    "duration": 1196,
    "start_time": "2022-05-14T11:25:16.012Z"
   },
   {
    "duration": 8,
    "start_time": "2022-05-14T11:25:19.962Z"
   },
   {
    "duration": 604,
    "start_time": "2022-05-14T11:25:28.266Z"
   },
   {
    "duration": 133,
    "start_time": "2022-05-14T11:25:59.723Z"
   },
   {
    "duration": 5,
    "start_time": "2022-05-14T11:26:00.195Z"
   },
   {
    "duration": 3,
    "start_time": "2022-05-14T11:26:08.580Z"
   },
   {
    "duration": 4,
    "start_time": "2022-05-14T11:26:08.761Z"
   },
   {
    "duration": 12,
    "start_time": "2022-05-14T11:26:09.495Z"
   },
   {
    "duration": 10,
    "start_time": "2022-05-14T11:26:09.787Z"
   },
   {
    "duration": 19,
    "start_time": "2022-05-14T11:26:10.835Z"
   },
   {
    "duration": 24,
    "start_time": "2022-05-14T11:26:11.224Z"
   },
   {
    "duration": 35,
    "start_time": "2022-05-14T11:26:11.818Z"
   },
   {
    "duration": 36,
    "start_time": "2022-05-14T11:26:12.814Z"
   },
   {
    "duration": 4,
    "start_time": "2022-05-14T11:26:13.316Z"
   },
   {
    "duration": 10,
    "start_time": "2022-05-14T11:26:13.886Z"
   },
   {
    "duration": 477,
    "start_time": "2022-05-14T11:26:14.380Z"
   },
   {
    "duration": 518,
    "start_time": "2022-05-14T11:26:14.859Z"
   },
   {
    "duration": 6,
    "start_time": "2022-05-14T11:26:18.694Z"
   },
   {
    "duration": 7,
    "start_time": "2022-05-14T11:26:18.852Z"
   },
   {
    "duration": 5,
    "start_time": "2022-05-14T11:26:18.992Z"
   },
   {
    "duration": 12,
    "start_time": "2022-05-14T11:26:19.556Z"
   },
   {
    "duration": 5,
    "start_time": "2022-05-14T11:26:20.578Z"
   },
   {
    "duration": 2,
    "start_time": "2022-05-14T11:26:20.740Z"
   },
   {
    "duration": 4,
    "start_time": "2022-05-14T11:26:20.876Z"
   },
   {
    "duration": 4,
    "start_time": "2022-05-14T11:26:21.235Z"
   },
   {
    "duration": 10,
    "start_time": "2022-05-14T11:26:21.917Z"
   },
   {
    "duration": 45,
    "start_time": "2022-05-14T11:26:22.465Z"
   },
   {
    "duration": 4,
    "start_time": "2022-05-14T11:26:23.143Z"
   },
   {
    "duration": 8,
    "start_time": "2022-05-14T11:26:24.939Z"
   },
   {
    "duration": 13,
    "start_time": "2022-05-14T11:26:26.072Z"
   },
   {
    "duration": 8,
    "start_time": "2022-05-14T11:26:31.775Z"
   },
   {
    "duration": 4,
    "start_time": "2022-05-14T11:26:32.052Z"
   },
   {
    "duration": 13,
    "start_time": "2022-05-14T11:26:32.461Z"
   },
   {
    "duration": 10,
    "start_time": "2022-05-14T11:26:32.987Z"
   },
   {
    "duration": 4,
    "start_time": "2022-05-14T11:26:34.601Z"
   },
   {
    "duration": 916,
    "start_time": "2022-05-14T11:26:35.031Z"
   },
   {
    "duration": 7,
    "start_time": "2022-05-14T11:26:39.279Z"
   },
   {
    "duration": 399,
    "start_time": "2022-05-14T11:26:39.461Z"
   },
   {
    "duration": 13,
    "start_time": "2022-05-14T11:28:28.895Z"
   },
   {
    "duration": 712,
    "start_time": "2022-05-14T11:28:52.648Z"
   },
   {
    "duration": 16,
    "start_time": "2022-05-14T11:29:56.418Z"
   },
   {
    "duration": 23,
    "start_time": "2022-05-14T11:29:59.108Z"
   },
   {
    "duration": 14,
    "start_time": "2022-05-14T11:30:02.671Z"
   },
   {
    "duration": 9,
    "start_time": "2022-05-14T11:30:54.691Z"
   },
   {
    "duration": 12,
    "start_time": "2022-05-14T11:31:36.027Z"
   },
   {
    "duration": 6,
    "start_time": "2022-05-14T11:31:46.573Z"
   },
   {
    "duration": 43,
    "start_time": "2022-05-14T11:32:38.164Z"
   },
   {
    "duration": 4,
    "start_time": "2022-05-14T11:33:09.560Z"
   },
   {
    "duration": 93,
    "start_time": "2022-05-14T11:33:20.913Z"
   },
   {
    "duration": 8,
    "start_time": "2022-05-14T11:34:01.986Z"
   },
   {
    "duration": 1204,
    "start_time": "2022-05-14T11:34:11.149Z"
   },
   {
    "duration": 73,
    "start_time": "2022-05-14T11:34:16.399Z"
   },
   {
    "duration": 707,
    "start_time": "2022-05-14T11:34:18.141Z"
   },
   {
    "duration": 4,
    "start_time": "2022-05-14T11:35:42.378Z"
   },
   {
    "duration": 7,
    "start_time": "2022-05-14T11:35:49.003Z"
   },
   {
    "duration": 4,
    "start_time": "2022-05-14T11:36:06.576Z"
   },
   {
    "duration": 116,
    "start_time": "2022-05-14T11:38:02.094Z"
   },
   {
    "duration": 4,
    "start_time": "2022-05-14T11:38:02.361Z"
   },
   {
    "duration": 11,
    "start_time": "2022-05-14T11:38:02.477Z"
   },
   {
    "duration": 11,
    "start_time": "2022-05-14T11:38:02.592Z"
   },
   {
    "duration": 4,
    "start_time": "2022-05-14T11:38:02.682Z"
   },
   {
    "duration": 11,
    "start_time": "2022-05-14T11:38:02.867Z"
   },
   {
    "duration": 2,
    "start_time": "2022-05-14T11:38:03.712Z"
   },
   {
    "duration": 1781,
    "start_time": "2022-05-14T11:38:04.119Z"
   },
   {
    "duration": 573,
    "start_time": "2022-05-14T11:38:05.903Z"
   },
   {
    "duration": 7,
    "start_time": "2022-05-14T11:38:06.478Z"
   },
   {
    "duration": 10,
    "start_time": "2022-05-14T11:38:09.267Z"
   },
   {
    "duration": 5,
    "start_time": "2022-05-14T11:38:10.608Z"
   },
   {
    "duration": 622,
    "start_time": "2022-05-14T11:38:11.557Z"
   },
   {
    "duration": 8,
    "start_time": "2022-05-14T11:38:13.655Z"
   },
   {
    "duration": 12,
    "start_time": "2022-05-14T11:38:14.134Z"
   },
   {
    "duration": 3,
    "start_time": "2022-05-14T11:38:15.762Z"
   },
   {
    "duration": 4,
    "start_time": "2022-05-14T11:38:21.320Z"
   },
   {
    "duration": 16,
    "start_time": "2022-05-14T11:38:21.823Z"
   },
   {
    "duration": 11,
    "start_time": "2022-05-14T11:38:21.891Z"
   },
   {
    "duration": 19,
    "start_time": "2022-05-14T11:38:22.657Z"
   },
   {
    "duration": 20,
    "start_time": "2022-05-14T11:38:22.895Z"
   },
   {
    "duration": 32,
    "start_time": "2022-05-14T11:38:23.526Z"
   },
   {
    "duration": 31,
    "start_time": "2022-05-14T11:38:24.095Z"
   },
   {
    "duration": 6,
    "start_time": "2022-05-14T11:38:24.597Z"
   },
   {
    "duration": 11,
    "start_time": "2022-05-14T11:38:25.167Z"
   },
   {
    "duration": 389,
    "start_time": "2022-05-14T11:38:25.756Z"
   },
   {
    "duration": 588,
    "start_time": "2022-05-14T11:38:26.183Z"
   },
   {
    "duration": 6,
    "start_time": "2022-05-14T11:38:29.550Z"
   },
   {
    "duration": 7,
    "start_time": "2022-05-14T11:38:29.780Z"
   },
   {
    "duration": 5,
    "start_time": "2022-05-14T11:38:30.052Z"
   },
   {
    "duration": 11,
    "start_time": "2022-05-14T11:38:30.510Z"
   },
   {
    "duration": 6,
    "start_time": "2022-05-14T11:38:31.575Z"
   },
   {
    "duration": 3,
    "start_time": "2022-05-14T11:38:32.397Z"
   },
   {
    "duration": 4,
    "start_time": "2022-05-14T11:38:32.738Z"
   },
   {
    "duration": 3,
    "start_time": "2022-05-14T11:38:33.210Z"
   },
   {
    "duration": 8,
    "start_time": "2022-05-14T11:38:33.958Z"
   },
   {
    "duration": 46,
    "start_time": "2022-05-14T11:38:34.409Z"
   },
   {
    "duration": 4,
    "start_time": "2022-05-14T11:38:35.004Z"
   },
   {
    "duration": 8,
    "start_time": "2022-05-14T11:38:36.999Z"
   },
   {
    "duration": 6,
    "start_time": "2022-05-14T11:38:40.696Z"
   },
   {
    "duration": 3,
    "start_time": "2022-05-14T11:38:41.012Z"
   },
   {
    "duration": 9,
    "start_time": "2022-05-14T11:38:41.650Z"
   },
   {
    "duration": 11,
    "start_time": "2022-05-14T11:38:48.884Z"
   },
   {
    "duration": 7,
    "start_time": "2022-05-14T11:38:58.253Z"
   },
   {
    "duration": 842,
    "start_time": "2022-05-14T11:39:01.552Z"
   },
   {
    "duration": 8,
    "start_time": "2022-05-14T11:39:02.397Z"
   },
   {
    "duration": 62,
    "start_time": "2022-05-14T11:39:02.407Z"
   },
   {
    "duration": 444,
    "start_time": "2022-05-14T11:39:06.163Z"
   },
   {
    "duration": 5,
    "start_time": "2022-05-14T11:39:15.701Z"
   },
   {
    "duration": 1008,
    "start_time": "2022-05-14T11:39:17.930Z"
   },
   {
    "duration": 9,
    "start_time": "2022-05-14T11:39:18.941Z"
   },
   {
    "duration": 49,
    "start_time": "2022-05-14T11:39:18.952Z"
   },
   {
    "duration": 419,
    "start_time": "2022-05-14T11:39:19.404Z"
   },
   {
    "duration": 8,
    "start_time": "2022-05-14T11:39:21.765Z"
   },
   {
    "duration": 1217,
    "start_time": "2022-05-14T11:39:21.925Z"
   },
   {
    "duration": 49,
    "start_time": "2022-05-15T13:55:45.276Z"
   },
   {
    "duration": 6,
    "start_time": "2022-05-15T13:55:50.201Z"
   },
   {
    "duration": 1680,
    "start_time": "2022-05-15T13:55:50.214Z"
   },
   {
    "duration": 222,
    "start_time": "2022-05-15T13:55:51.896Z"
   },
   {
    "duration": 3,
    "start_time": "2022-05-15T13:55:52.119Z"
   },
   {
    "duration": 15,
    "start_time": "2022-05-15T13:55:52.124Z"
   },
   {
    "duration": 10,
    "start_time": "2022-05-15T13:55:52.140Z"
   },
   {
    "duration": 7,
    "start_time": "2022-05-15T13:55:52.151Z"
   },
   {
    "duration": 11,
    "start_time": "2022-05-15T13:55:52.159Z"
   },
   {
    "duration": 2,
    "start_time": "2022-05-15T13:55:52.171Z"
   },
   {
    "duration": 1578,
    "start_time": "2022-05-15T13:55:52.175Z"
   },
   {
    "duration": 551,
    "start_time": "2022-05-15T13:55:53.754Z"
   },
   {
    "duration": 9,
    "start_time": "2022-05-15T13:55:54.307Z"
   },
   {
    "duration": 8,
    "start_time": "2022-05-15T13:55:54.317Z"
   },
   {
    "duration": 10,
    "start_time": "2022-05-15T13:55:54.327Z"
   },
   {
    "duration": 464,
    "start_time": "2022-05-15T13:55:54.339Z"
   },
   {
    "duration": 8,
    "start_time": "2022-05-15T13:55:54.805Z"
   },
   {
    "duration": 13,
    "start_time": "2022-05-15T13:55:54.815Z"
   },
   {
    "duration": 84,
    "start_time": "2022-05-15T13:55:54.829Z"
   },
   {
    "duration": 0,
    "start_time": "2022-05-15T13:55:54.917Z"
   },
   {
    "duration": 0,
    "start_time": "2022-05-15T13:55:54.918Z"
   },
   {
    "duration": 0,
    "start_time": "2022-05-15T13:55:54.920Z"
   },
   {
    "duration": 0,
    "start_time": "2022-05-15T13:55:54.921Z"
   },
   {
    "duration": 1,
    "start_time": "2022-05-15T13:55:54.921Z"
   },
   {
    "duration": 0,
    "start_time": "2022-05-15T13:55:54.923Z"
   },
   {
    "duration": 0,
    "start_time": "2022-05-15T13:55:54.924Z"
   },
   {
    "duration": 0,
    "start_time": "2022-05-15T13:55:54.925Z"
   },
   {
    "duration": 0,
    "start_time": "2022-05-15T13:55:54.925Z"
   },
   {
    "duration": 0,
    "start_time": "2022-05-15T13:55:54.927Z"
   },
   {
    "duration": 0,
    "start_time": "2022-05-15T13:55:54.928Z"
   },
   {
    "duration": 0,
    "start_time": "2022-05-15T13:55:54.928Z"
   },
   {
    "duration": 0,
    "start_time": "2022-05-15T13:55:54.929Z"
   },
   {
    "duration": 0,
    "start_time": "2022-05-15T13:55:54.930Z"
   },
   {
    "duration": 0,
    "start_time": "2022-05-15T13:55:54.931Z"
   },
   {
    "duration": 0,
    "start_time": "2022-05-15T13:55:54.932Z"
   },
   {
    "duration": 0,
    "start_time": "2022-05-15T13:55:54.933Z"
   },
   {
    "duration": 0,
    "start_time": "2022-05-15T13:55:54.934Z"
   },
   {
    "duration": 0,
    "start_time": "2022-05-15T13:55:54.935Z"
   },
   {
    "duration": 0,
    "start_time": "2022-05-15T13:55:54.936Z"
   },
   {
    "duration": 0,
    "start_time": "2022-05-15T13:55:54.937Z"
   },
   {
    "duration": 0,
    "start_time": "2022-05-15T13:55:54.937Z"
   },
   {
    "duration": 0,
    "start_time": "2022-05-15T13:55:54.938Z"
   },
   {
    "duration": 0,
    "start_time": "2022-05-15T13:55:54.939Z"
   },
   {
    "duration": 0,
    "start_time": "2022-05-15T13:55:54.940Z"
   },
   {
    "duration": 0,
    "start_time": "2022-05-15T13:55:54.941Z"
   },
   {
    "duration": 0,
    "start_time": "2022-05-15T13:55:54.942Z"
   },
   {
    "duration": 0,
    "start_time": "2022-05-15T13:55:54.943Z"
   },
   {
    "duration": 0,
    "start_time": "2022-05-15T13:55:54.944Z"
   },
   {
    "duration": 0,
    "start_time": "2022-05-15T13:55:54.945Z"
   },
   {
    "duration": 0,
    "start_time": "2022-05-15T13:55:54.946Z"
   },
   {
    "duration": 0,
    "start_time": "2022-05-15T13:55:54.947Z"
   },
   {
    "duration": 0,
    "start_time": "2022-05-15T13:55:55.001Z"
   },
   {
    "duration": 0,
    "start_time": "2022-05-15T13:55:55.005Z"
   },
   {
    "duration": 0,
    "start_time": "2022-05-15T13:55:55.007Z"
   },
   {
    "duration": 0,
    "start_time": "2022-05-15T13:55:55.008Z"
   },
   {
    "duration": 0,
    "start_time": "2022-05-15T13:55:55.009Z"
   },
   {
    "duration": 0,
    "start_time": "2022-05-15T13:55:55.010Z"
   },
   {
    "duration": 0,
    "start_time": "2022-05-15T13:55:55.011Z"
   },
   {
    "duration": 0,
    "start_time": "2022-05-15T13:55:55.013Z"
   },
   {
    "duration": 0,
    "start_time": "2022-05-15T13:55:55.014Z"
   },
   {
    "duration": 0,
    "start_time": "2022-05-15T13:55:55.015Z"
   },
   {
    "duration": 0,
    "start_time": "2022-05-15T13:55:55.016Z"
   },
   {
    "duration": 0,
    "start_time": "2022-05-15T13:55:55.017Z"
   },
   {
    "duration": 0,
    "start_time": "2022-05-15T13:55:55.018Z"
   },
   {
    "duration": 0,
    "start_time": "2022-05-15T13:55:55.019Z"
   },
   {
    "duration": 0,
    "start_time": "2022-05-15T13:55:55.020Z"
   },
   {
    "duration": 0,
    "start_time": "2022-05-15T13:55:55.021Z"
   },
   {
    "duration": 0,
    "start_time": "2022-05-15T13:55:55.023Z"
   },
   {
    "duration": 0,
    "start_time": "2022-05-15T13:55:55.024Z"
   },
   {
    "duration": 0,
    "start_time": "2022-05-15T13:55:55.025Z"
   },
   {
    "duration": 0,
    "start_time": "2022-05-15T13:55:55.026Z"
   },
   {
    "duration": 0,
    "start_time": "2022-05-15T13:55:55.026Z"
   },
   {
    "duration": 0,
    "start_time": "2022-05-15T13:55:55.028Z"
   },
   {
    "duration": 0,
    "start_time": "2022-05-15T13:55:55.029Z"
   },
   {
    "duration": 0,
    "start_time": "2022-05-15T13:55:55.030Z"
   },
   {
    "duration": 0,
    "start_time": "2022-05-15T13:55:55.031Z"
   },
   {
    "duration": 0,
    "start_time": "2022-05-15T13:55:55.032Z"
   },
   {
    "duration": 0,
    "start_time": "2022-05-15T13:55:55.033Z"
   },
   {
    "duration": 0,
    "start_time": "2022-05-15T13:55:55.034Z"
   },
   {
    "duration": 0,
    "start_time": "2022-05-15T13:55:55.035Z"
   },
   {
    "duration": 0,
    "start_time": "2022-05-15T13:55:55.036Z"
   },
   {
    "duration": 0,
    "start_time": "2022-05-15T13:55:55.037Z"
   },
   {
    "duration": 0,
    "start_time": "2022-05-15T13:55:55.038Z"
   },
   {
    "duration": 0,
    "start_time": "2022-05-15T13:55:55.039Z"
   },
   {
    "duration": 0,
    "start_time": "2022-05-15T13:55:55.040Z"
   },
   {
    "duration": 936,
    "start_time": "2022-05-15T13:56:47.682Z"
   },
   {
    "duration": 3217,
    "start_time": "2022-05-15T13:56:59.666Z"
   },
   {
    "duration": 3,
    "start_time": "2022-05-15T13:57:03.042Z"
   },
   {
    "duration": 2398,
    "start_time": "2022-05-15T13:57:03.046Z"
   },
   {
    "duration": 122,
    "start_time": "2022-05-15T13:57:05.447Z"
   },
   {
    "duration": 4,
    "start_time": "2022-05-15T13:57:05.570Z"
   },
   {
    "duration": 16,
    "start_time": "2022-05-15T13:57:05.575Z"
   },
   {
    "duration": 29,
    "start_time": "2022-05-15T13:57:05.592Z"
   },
   {
    "duration": 3,
    "start_time": "2022-05-15T13:57:05.623Z"
   },
   {
    "duration": 26,
    "start_time": "2022-05-15T13:57:05.627Z"
   },
   {
    "duration": 3,
    "start_time": "2022-05-15T13:57:05.654Z"
   },
   {
    "duration": 1574,
    "start_time": "2022-05-15T13:57:05.658Z"
   },
   {
    "duration": 479,
    "start_time": "2022-05-15T13:57:07.235Z"
   },
   {
    "duration": 6,
    "start_time": "2022-05-15T13:57:07.715Z"
   },
   {
    "duration": 9,
    "start_time": "2022-05-15T13:57:07.723Z"
   },
   {
    "duration": 8,
    "start_time": "2022-05-15T13:57:07.733Z"
   },
   {
    "duration": 592,
    "start_time": "2022-05-15T13:57:07.742Z"
   },
   {
    "duration": 6,
    "start_time": "2022-05-15T13:57:08.335Z"
   },
   {
    "duration": 8,
    "start_time": "2022-05-15T13:57:08.342Z"
   },
   {
    "duration": 10,
    "start_time": "2022-05-15T13:57:08.351Z"
   },
   {
    "duration": 0,
    "start_time": "2022-05-15T13:57:08.364Z"
   },
   {
    "duration": 0,
    "start_time": "2022-05-15T13:57:08.365Z"
   },
   {
    "duration": 0,
    "start_time": "2022-05-15T13:57:08.366Z"
   },
   {
    "duration": 0,
    "start_time": "2022-05-15T13:57:08.367Z"
   },
   {
    "duration": 0,
    "start_time": "2022-05-15T13:57:08.401Z"
   },
   {
    "duration": 0,
    "start_time": "2022-05-15T13:57:08.403Z"
   },
   {
    "duration": 0,
    "start_time": "2022-05-15T13:57:08.404Z"
   },
   {
    "duration": 0,
    "start_time": "2022-05-15T13:57:08.405Z"
   },
   {
    "duration": 0,
    "start_time": "2022-05-15T13:57:08.406Z"
   },
   {
    "duration": 0,
    "start_time": "2022-05-15T13:57:08.408Z"
   },
   {
    "duration": 0,
    "start_time": "2022-05-15T13:57:08.409Z"
   },
   {
    "duration": 0,
    "start_time": "2022-05-15T13:57:08.410Z"
   },
   {
    "duration": 0,
    "start_time": "2022-05-15T13:57:08.412Z"
   },
   {
    "duration": 0,
    "start_time": "2022-05-15T13:57:08.413Z"
   },
   {
    "duration": 0,
    "start_time": "2022-05-15T13:57:08.414Z"
   },
   {
    "duration": 0,
    "start_time": "2022-05-15T13:57:08.416Z"
   },
   {
    "duration": 0,
    "start_time": "2022-05-15T13:57:08.417Z"
   },
   {
    "duration": 0,
    "start_time": "2022-05-15T13:57:08.418Z"
   },
   {
    "duration": 0,
    "start_time": "2022-05-15T13:57:08.419Z"
   },
   {
    "duration": 0,
    "start_time": "2022-05-15T13:57:08.420Z"
   },
   {
    "duration": 0,
    "start_time": "2022-05-15T13:57:08.421Z"
   },
   {
    "duration": 0,
    "start_time": "2022-05-15T13:57:08.422Z"
   },
   {
    "duration": 0,
    "start_time": "2022-05-15T13:57:08.423Z"
   },
   {
    "duration": 0,
    "start_time": "2022-05-15T13:57:08.424Z"
   },
   {
    "duration": 0,
    "start_time": "2022-05-15T13:57:08.425Z"
   },
   {
    "duration": 0,
    "start_time": "2022-05-15T13:57:08.426Z"
   },
   {
    "duration": 0,
    "start_time": "2022-05-15T13:57:08.427Z"
   },
   {
    "duration": 0,
    "start_time": "2022-05-15T13:57:08.428Z"
   },
   {
    "duration": 0,
    "start_time": "2022-05-15T13:57:08.428Z"
   },
   {
    "duration": 0,
    "start_time": "2022-05-15T13:57:08.429Z"
   },
   {
    "duration": 0,
    "start_time": "2022-05-15T13:57:08.430Z"
   },
   {
    "duration": 0,
    "start_time": "2022-05-15T13:57:08.431Z"
   },
   {
    "duration": 0,
    "start_time": "2022-05-15T13:57:08.432Z"
   },
   {
    "duration": 0,
    "start_time": "2022-05-15T13:57:08.434Z"
   },
   {
    "duration": 0,
    "start_time": "2022-05-15T13:57:08.434Z"
   },
   {
    "duration": 0,
    "start_time": "2022-05-15T13:57:08.435Z"
   },
   {
    "duration": 0,
    "start_time": "2022-05-15T13:57:08.436Z"
   },
   {
    "duration": 0,
    "start_time": "2022-05-15T13:57:08.437Z"
   },
   {
    "duration": 0,
    "start_time": "2022-05-15T13:57:08.438Z"
   },
   {
    "duration": 0,
    "start_time": "2022-05-15T13:57:08.439Z"
   },
   {
    "duration": 0,
    "start_time": "2022-05-15T13:57:08.440Z"
   },
   {
    "duration": 0,
    "start_time": "2022-05-15T13:57:08.441Z"
   },
   {
    "duration": 0,
    "start_time": "2022-05-15T13:57:08.442Z"
   },
   {
    "duration": 0,
    "start_time": "2022-05-15T13:57:08.443Z"
   },
   {
    "duration": 0,
    "start_time": "2022-05-15T13:57:08.443Z"
   },
   {
    "duration": 0,
    "start_time": "2022-05-15T13:57:08.501Z"
   },
   {
    "duration": 0,
    "start_time": "2022-05-15T13:57:08.502Z"
   },
   {
    "duration": 0,
    "start_time": "2022-05-15T13:57:08.503Z"
   },
   {
    "duration": 0,
    "start_time": "2022-05-15T13:57:08.504Z"
   },
   {
    "duration": 0,
    "start_time": "2022-05-15T13:57:08.506Z"
   },
   {
    "duration": 0,
    "start_time": "2022-05-15T13:57:08.507Z"
   },
   {
    "duration": 0,
    "start_time": "2022-05-15T13:57:08.508Z"
   },
   {
    "duration": 0,
    "start_time": "2022-05-15T13:57:08.508Z"
   },
   {
    "duration": 0,
    "start_time": "2022-05-15T13:57:08.510Z"
   },
   {
    "duration": 0,
    "start_time": "2022-05-15T13:57:08.510Z"
   },
   {
    "duration": 0,
    "start_time": "2022-05-15T13:57:08.511Z"
   },
   {
    "duration": 0,
    "start_time": "2022-05-15T13:57:08.513Z"
   },
   {
    "duration": 0,
    "start_time": "2022-05-15T13:57:08.514Z"
   },
   {
    "duration": 0,
    "start_time": "2022-05-15T13:57:08.515Z"
   },
   {
    "duration": 0,
    "start_time": "2022-05-15T13:57:08.516Z"
   },
   {
    "duration": 0,
    "start_time": "2022-05-15T13:57:08.517Z"
   },
   {
    "duration": 0,
    "start_time": "2022-05-15T13:57:08.519Z"
   },
   {
    "duration": 0,
    "start_time": "2022-05-15T13:57:08.520Z"
   },
   {
    "duration": 0,
    "start_time": "2022-05-15T13:57:08.521Z"
   },
   {
    "duration": 0,
    "start_time": "2022-05-15T13:57:08.522Z"
   },
   {
    "duration": 0,
    "start_time": "2022-05-15T13:57:08.523Z"
   },
   {
    "duration": 2211,
    "start_time": "2022-05-15T13:57:28.987Z"
   },
   {
    "duration": 3,
    "start_time": "2022-05-15T13:57:31.668Z"
   },
   {
    "duration": 2299,
    "start_time": "2022-05-15T13:57:31.673Z"
   },
   {
    "duration": 115,
    "start_time": "2022-05-15T13:57:33.975Z"
   },
   {
    "duration": 4,
    "start_time": "2022-05-15T13:57:34.091Z"
   },
   {
    "duration": 22,
    "start_time": "2022-05-15T13:57:34.097Z"
   },
   {
    "duration": 11,
    "start_time": "2022-05-15T13:57:34.121Z"
   },
   {
    "duration": 3,
    "start_time": "2022-05-15T13:57:34.134Z"
   },
   {
    "duration": 10,
    "start_time": "2022-05-15T13:57:34.138Z"
   },
   {
    "duration": 2,
    "start_time": "2022-05-15T13:57:34.149Z"
   },
   {
    "duration": 1579,
    "start_time": "2022-05-15T13:57:34.152Z"
   },
   {
    "duration": 469,
    "start_time": "2022-05-15T13:57:35.733Z"
   },
   {
    "duration": 6,
    "start_time": "2022-05-15T13:57:36.204Z"
   },
   {
    "duration": 15,
    "start_time": "2022-05-15T13:57:36.212Z"
   },
   {
    "duration": 7,
    "start_time": "2022-05-15T13:57:36.229Z"
   },
   {
    "duration": 455,
    "start_time": "2022-05-15T13:57:36.238Z"
   },
   {
    "duration": 7,
    "start_time": "2022-05-15T13:57:36.700Z"
   },
   {
    "duration": 16,
    "start_time": "2022-05-15T13:57:36.709Z"
   },
   {
    "duration": 159,
    "start_time": "2022-05-15T13:57:36.727Z"
   },
   {
    "duration": 3,
    "start_time": "2022-05-15T13:57:36.887Z"
   },
   {
    "duration": 3045,
    "start_time": "2022-05-15T13:57:36.899Z"
   },
   {
    "duration": 3,
    "start_time": "2022-05-15T13:57:39.946Z"
   },
   {
    "duration": 7,
    "start_time": "2022-05-15T13:57:39.950Z"
   },
   {
    "duration": 14,
    "start_time": "2022-05-15T13:57:39.958Z"
   },
   {
    "duration": 26,
    "start_time": "2022-05-15T13:57:39.974Z"
   },
   {
    "duration": 24,
    "start_time": "2022-05-15T13:57:40.002Z"
   },
   {
    "duration": 17,
    "start_time": "2022-05-15T13:57:40.027Z"
   },
   {
    "duration": 26,
    "start_time": "2022-05-15T13:57:40.046Z"
   },
   {
    "duration": 57,
    "start_time": "2022-05-15T13:57:40.074Z"
   },
   {
    "duration": 4,
    "start_time": "2022-05-15T13:57:40.135Z"
   },
   {
    "duration": 11,
    "start_time": "2022-05-15T13:57:40.140Z"
   },
   {
    "duration": 374,
    "start_time": "2022-05-15T13:57:40.152Z"
   },
   {
    "duration": 399,
    "start_time": "2022-05-15T13:57:40.527Z"
   },
   {
    "duration": 6,
    "start_time": "2022-05-15T13:57:40.927Z"
   },
   {
    "duration": 8,
    "start_time": "2022-05-15T13:57:40.935Z"
   },
   {
    "duration": 15,
    "start_time": "2022-05-15T13:57:40.945Z"
   },
   {
    "duration": 0,
    "start_time": "2022-05-15T13:57:40.961Z"
   },
   {
    "duration": 0,
    "start_time": "2022-05-15T13:57:40.962Z"
   },
   {
    "duration": 0,
    "start_time": "2022-05-15T13:57:40.963Z"
   },
   {
    "duration": 0,
    "start_time": "2022-05-15T13:57:40.964Z"
   },
   {
    "duration": 0,
    "start_time": "2022-05-15T13:57:40.965Z"
   },
   {
    "duration": 0,
    "start_time": "2022-05-15T13:57:40.966Z"
   },
   {
    "duration": 0,
    "start_time": "2022-05-15T13:57:40.967Z"
   },
   {
    "duration": 0,
    "start_time": "2022-05-15T13:57:40.968Z"
   },
   {
    "duration": 0,
    "start_time": "2022-05-15T13:57:40.969Z"
   },
   {
    "duration": 0,
    "start_time": "2022-05-15T13:57:40.969Z"
   },
   {
    "duration": 0,
    "start_time": "2022-05-15T13:57:40.970Z"
   },
   {
    "duration": 0,
    "start_time": "2022-05-15T13:57:40.971Z"
   },
   {
    "duration": 0,
    "start_time": "2022-05-15T13:57:40.972Z"
   },
   {
    "duration": 0,
    "start_time": "2022-05-15T13:57:41.000Z"
   },
   {
    "duration": 0,
    "start_time": "2022-05-15T13:57:41.001Z"
   },
   {
    "duration": 0,
    "start_time": "2022-05-15T13:57:41.004Z"
   },
   {
    "duration": 0,
    "start_time": "2022-05-15T13:57:41.005Z"
   },
   {
    "duration": 0,
    "start_time": "2022-05-15T13:57:41.007Z"
   },
   {
    "duration": 0,
    "start_time": "2022-05-15T13:57:41.008Z"
   },
   {
    "duration": 0,
    "start_time": "2022-05-15T13:57:41.009Z"
   },
   {
    "duration": 0,
    "start_time": "2022-05-15T13:57:41.011Z"
   },
   {
    "duration": 0,
    "start_time": "2022-05-15T13:57:41.012Z"
   },
   {
    "duration": 0,
    "start_time": "2022-05-15T13:57:41.013Z"
   },
   {
    "duration": 0,
    "start_time": "2022-05-15T13:57:41.015Z"
   },
   {
    "duration": 0,
    "start_time": "2022-05-15T13:57:41.016Z"
   },
   {
    "duration": 0,
    "start_time": "2022-05-15T13:57:41.017Z"
   },
   {
    "duration": 0,
    "start_time": "2022-05-15T13:57:41.018Z"
   },
   {
    "duration": 0,
    "start_time": "2022-05-15T13:57:41.020Z"
   },
   {
    "duration": 0,
    "start_time": "2022-05-15T13:57:41.021Z"
   },
   {
    "duration": 0,
    "start_time": "2022-05-15T13:57:41.022Z"
   },
   {
    "duration": 0,
    "start_time": "2022-05-15T13:57:41.023Z"
   },
   {
    "duration": 0,
    "start_time": "2022-05-15T13:57:41.024Z"
   },
   {
    "duration": 0,
    "start_time": "2022-05-15T13:57:41.025Z"
   },
   {
    "duration": 0,
    "start_time": "2022-05-15T13:57:41.026Z"
   },
   {
    "duration": 0,
    "start_time": "2022-05-15T13:57:41.027Z"
   },
   {
    "duration": 0,
    "start_time": "2022-05-15T13:57:41.028Z"
   },
   {
    "duration": 0,
    "start_time": "2022-05-15T13:57:41.029Z"
   },
   {
    "duration": 0,
    "start_time": "2022-05-15T13:57:41.030Z"
   },
   {
    "duration": 0,
    "start_time": "2022-05-15T13:57:41.031Z"
   },
   {
    "duration": 0,
    "start_time": "2022-05-15T13:57:41.032Z"
   },
   {
    "duration": 0,
    "start_time": "2022-05-15T13:57:41.033Z"
   },
   {
    "duration": 0,
    "start_time": "2022-05-15T13:57:41.034Z"
   },
   {
    "duration": 0,
    "start_time": "2022-05-15T13:57:41.035Z"
   },
   {
    "duration": 0,
    "start_time": "2022-05-15T13:57:41.036Z"
   },
   {
    "duration": 0,
    "start_time": "2022-05-15T13:57:41.037Z"
   },
   {
    "duration": 0,
    "start_time": "2022-05-15T13:57:41.038Z"
   },
   {
    "duration": 0,
    "start_time": "2022-05-15T13:57:41.040Z"
   },
   {
    "duration": 0,
    "start_time": "2022-05-15T13:57:41.101Z"
   },
   {
    "duration": 0,
    "start_time": "2022-05-15T13:57:41.104Z"
   },
   {
    "duration": 9,
    "start_time": "2022-05-15T14:11:25.734Z"
   },
   {
    "duration": 4,
    "start_time": "2022-05-15T14:11:34.663Z"
   },
   {
    "duration": 5,
    "start_time": "2022-05-15T14:11:35.584Z"
   },
   {
    "duration": 10,
    "start_time": "2022-05-15T14:12:29.365Z"
   },
   {
    "duration": 2,
    "start_time": "2022-05-15T14:15:24.812Z"
   },
   {
    "duration": 3,
    "start_time": "2022-05-15T14:15:25.812Z"
   },
   {
    "duration": 3,
    "start_time": "2022-05-15T14:15:27.726Z"
   },
   {
    "duration": 9,
    "start_time": "2022-05-15T14:15:57.997Z"
   },
   {
    "duration": 21,
    "start_time": "2022-05-15T14:16:09.887Z"
   },
   {
    "duration": 5,
    "start_time": "2022-05-15T14:17:49.761Z"
   },
   {
    "duration": 19,
    "start_time": "2022-05-15T14:18:32.575Z"
   },
   {
    "duration": 4,
    "start_time": "2022-05-15T14:19:06.742Z"
   },
   {
    "duration": 16,
    "start_time": "2022-05-15T14:19:16.231Z"
   },
   {
    "duration": 3,
    "start_time": "2022-05-15T14:19:46.365Z"
   },
   {
    "duration": 18,
    "start_time": "2022-05-15T14:20:41.686Z"
   },
   {
    "duration": 3,
    "start_time": "2022-05-15T14:20:53.681Z"
   },
   {
    "duration": 2,
    "start_time": "2022-05-15T14:21:01.039Z"
   },
   {
    "duration": 18,
    "start_time": "2022-05-15T14:21:03.965Z"
   },
   {
    "duration": 3,
    "start_time": "2022-05-15T14:21:06.233Z"
   },
   {
    "duration": 3,
    "start_time": "2022-05-15T14:21:07.574Z"
   },
   {
    "duration": 7,
    "start_time": "2022-05-15T14:21:11.349Z"
   },
   {
    "duration": 3,
    "start_time": "2022-05-15T14:23:37.306Z"
   },
   {
    "duration": 5,
    "start_time": "2022-05-15T14:26:31.736Z"
   },
   {
    "duration": 5,
    "start_time": "2022-05-15T14:28:31.694Z"
   },
   {
    "duration": 7,
    "start_time": "2022-05-15T14:30:39.484Z"
   },
   {
    "duration": 10,
    "start_time": "2022-05-15T14:34:40.152Z"
   },
   {
    "duration": 360,
    "start_time": "2022-05-15T14:36:22.579Z"
   },
   {
    "duration": 6,
    "start_time": "2022-05-15T14:36:28.768Z"
   },
   {
    "duration": 431,
    "start_time": "2022-05-15T14:37:18.427Z"
   },
   {
    "duration": 7,
    "start_time": "2022-05-15T14:37:23.874Z"
   },
   {
    "duration": 7,
    "start_time": "2022-05-15T14:37:55.626Z"
   },
   {
    "duration": 7,
    "start_time": "2022-05-15T14:38:02.336Z"
   },
   {
    "duration": 4177,
    "start_time": "2022-05-15T14:40:26.235Z"
   },
   {
    "duration": 3128,
    "start_time": "2022-05-15T14:40:53.609Z"
   },
   {
    "duration": 2981,
    "start_time": "2022-05-15T14:41:20.221Z"
   },
   {
    "duration": 8,
    "start_time": "2022-05-15T14:41:46.577Z"
   },
   {
    "duration": 4,
    "start_time": "2022-05-15T14:42:01.945Z"
   },
   {
    "duration": 3,
    "start_time": "2022-05-15T14:42:05.790Z"
   },
   {
    "duration": 9,
    "start_time": "2022-05-15T14:42:06.863Z"
   },
   {
    "duration": 6,
    "start_time": "2022-05-15T14:42:32.301Z"
   },
   {
    "duration": 11,
    "start_time": "2022-05-15T14:43:53.293Z"
   },
   {
    "duration": 361,
    "start_time": "2022-05-15T14:44:01.629Z"
   },
   {
    "duration": 3,
    "start_time": "2022-05-15T14:44:05.157Z"
   },
   {
    "duration": 415,
    "start_time": "2022-05-15T14:44:06.095Z"
   },
   {
    "duration": 3,
    "start_time": "2022-05-15T14:44:09.316Z"
   },
   {
    "duration": 9,
    "start_time": "2022-05-15T14:44:09.989Z"
   },
   {
    "duration": 12,
    "start_time": "2022-05-15T14:45:52.717Z"
   },
   {
    "duration": 18,
    "start_time": "2022-05-15T14:45:57.760Z"
   },
   {
    "duration": 4,
    "start_time": "2022-05-15T14:45:59.634Z"
   },
   {
    "duration": 4,
    "start_time": "2022-05-15T14:46:01.678Z"
   },
   {
    "duration": 18,
    "start_time": "2022-05-15T14:47:04.402Z"
   },
   {
    "duration": 4,
    "start_time": "2022-05-15T14:47:09.946Z"
   },
   {
    "duration": 4,
    "start_time": "2022-05-15T14:47:10.609Z"
   },
   {
    "duration": 2,
    "start_time": "2022-05-15T14:47:20.626Z"
   },
   {
    "duration": 20,
    "start_time": "2022-05-15T14:47:22.891Z"
   },
   {
    "duration": 4,
    "start_time": "2022-05-15T14:47:25.100Z"
   },
   {
    "duration": 8,
    "start_time": "2022-05-15T14:47:27.212Z"
   },
   {
    "duration": 425,
    "start_time": "2022-05-15T14:47:32.975Z"
   },
   {
    "duration": 3,
    "start_time": "2022-05-15T14:47:36.185Z"
   },
   {
    "duration": 542,
    "start_time": "2022-05-15T14:47:36.999Z"
   },
   {
    "duration": 3,
    "start_time": "2022-05-15T14:47:39.889Z"
   },
   {
    "duration": 8,
    "start_time": "2022-05-15T14:47:40.862Z"
   },
   {
    "duration": 17,
    "start_time": "2022-05-15T14:49:05.102Z"
   },
   {
    "duration": 5,
    "start_time": "2022-05-15T14:49:19.281Z"
   },
   {
    "duration": 6,
    "start_time": "2022-05-15T14:49:29.563Z"
   },
   {
    "duration": 2,
    "start_time": "2022-05-15T14:49:52.168Z"
   },
   {
    "duration": 2100,
    "start_time": "2022-05-15T14:49:52.174Z"
   },
   {
    "duration": 103,
    "start_time": "2022-05-15T14:49:54.276Z"
   },
   {
    "duration": 3,
    "start_time": "2022-05-15T14:49:54.381Z"
   },
   {
    "duration": 14,
    "start_time": "2022-05-15T14:49:54.387Z"
   },
   {
    "duration": 15,
    "start_time": "2022-05-15T14:49:54.403Z"
   },
   {
    "duration": 3,
    "start_time": "2022-05-15T14:49:54.420Z"
   },
   {
    "duration": 14,
    "start_time": "2022-05-15T14:49:54.425Z"
   },
   {
    "duration": 4,
    "start_time": "2022-05-15T14:49:54.440Z"
   },
   {
    "duration": 1653,
    "start_time": "2022-05-15T14:49:54.446Z"
   },
   {
    "duration": 448,
    "start_time": "2022-05-15T14:49:56.102Z"
   },
   {
    "duration": 6,
    "start_time": "2022-05-15T14:49:56.552Z"
   },
   {
    "duration": 9,
    "start_time": "2022-05-15T14:49:56.559Z"
   },
   {
    "duration": 8,
    "start_time": "2022-05-15T14:49:56.569Z"
   },
   {
    "duration": 574,
    "start_time": "2022-05-15T14:49:56.579Z"
   },
   {
    "duration": 5,
    "start_time": "2022-05-15T14:49:57.155Z"
   },
   {
    "duration": 18,
    "start_time": "2022-05-15T14:49:57.162Z"
   },
   {
    "duration": 18,
    "start_time": "2022-05-15T14:49:57.182Z"
   },
   {
    "duration": 3,
    "start_time": "2022-05-15T14:49:57.201Z"
   },
   {
    "duration": 2983,
    "start_time": "2022-05-15T14:49:57.205Z"
   },
   {
    "duration": 11,
    "start_time": "2022-05-15T14:50:00.190Z"
   },
   {
    "duration": 17,
    "start_time": "2022-05-15T14:50:00.203Z"
   },
   {
    "duration": 24,
    "start_time": "2022-05-15T14:50:00.222Z"
   },
   {
    "duration": 16,
    "start_time": "2022-05-15T14:50:00.248Z"
   },
   {
    "duration": 39,
    "start_time": "2022-05-15T14:50:00.266Z"
   },
   {
    "duration": 16,
    "start_time": "2022-05-15T14:50:00.307Z"
   },
   {
    "duration": 28,
    "start_time": "2022-05-15T14:50:00.325Z"
   },
   {
    "duration": 24,
    "start_time": "2022-05-15T14:50:00.355Z"
   },
   {
    "duration": 18,
    "start_time": "2022-05-15T14:50:00.383Z"
   },
   {
    "duration": 26,
    "start_time": "2022-05-15T14:50:00.402Z"
   },
   {
    "duration": 363,
    "start_time": "2022-05-15T14:50:00.429Z"
   },
   {
    "duration": 399,
    "start_time": "2022-05-15T14:50:00.793Z"
   },
   {
    "duration": 4,
    "start_time": "2022-05-15T14:50:01.200Z"
   },
   {
    "duration": 25,
    "start_time": "2022-05-15T14:50:01.205Z"
   },
   {
    "duration": 28,
    "start_time": "2022-05-15T14:50:01.232Z"
   },
   {
    "duration": 50,
    "start_time": "2022-05-15T14:50:01.262Z"
   },
   {
    "duration": 18,
    "start_time": "2022-05-15T14:50:01.313Z"
   },
   {
    "duration": 18,
    "start_time": "2022-05-15T14:50:01.333Z"
   },
   {
    "duration": 25,
    "start_time": "2022-05-15T14:50:01.352Z"
   },
   {
    "duration": 14,
    "start_time": "2022-05-15T14:50:01.379Z"
   },
   {
    "duration": 26,
    "start_time": "2022-05-15T14:50:01.394Z"
   },
   {
    "duration": 0,
    "start_time": "2022-05-15T14:50:01.422Z"
   },
   {
    "duration": 0,
    "start_time": "2022-05-15T14:50:01.422Z"
   },
   {
    "duration": 0,
    "start_time": "2022-05-15T14:50:01.423Z"
   },
   {
    "duration": 0,
    "start_time": "2022-05-15T14:50:01.425Z"
   },
   {
    "duration": 0,
    "start_time": "2022-05-15T14:50:01.425Z"
   },
   {
    "duration": 0,
    "start_time": "2022-05-15T14:50:01.427Z"
   },
   {
    "duration": 0,
    "start_time": "2022-05-15T14:50:01.427Z"
   },
   {
    "duration": 0,
    "start_time": "2022-05-15T14:50:01.429Z"
   },
   {
    "duration": 0,
    "start_time": "2022-05-15T14:50:01.430Z"
   },
   {
    "duration": 0,
    "start_time": "2022-05-15T14:50:01.431Z"
   },
   {
    "duration": 0,
    "start_time": "2022-05-15T14:50:01.432Z"
   },
   {
    "duration": 0,
    "start_time": "2022-05-15T14:50:01.433Z"
   },
   {
    "duration": 0,
    "start_time": "2022-05-15T14:50:01.434Z"
   },
   {
    "duration": 0,
    "start_time": "2022-05-15T14:50:01.436Z"
   },
   {
    "duration": 0,
    "start_time": "2022-05-15T14:50:01.437Z"
   },
   {
    "duration": 0,
    "start_time": "2022-05-15T14:50:01.438Z"
   },
   {
    "duration": 0,
    "start_time": "2022-05-15T14:50:01.439Z"
   },
   {
    "duration": 0,
    "start_time": "2022-05-15T14:50:01.440Z"
   },
   {
    "duration": 0,
    "start_time": "2022-05-15T14:50:01.441Z"
   },
   {
    "duration": 0,
    "start_time": "2022-05-15T14:50:01.442Z"
   },
   {
    "duration": 0,
    "start_time": "2022-05-15T14:50:01.444Z"
   },
   {
    "duration": 0,
    "start_time": "2022-05-15T14:50:01.445Z"
   },
   {
    "duration": 0,
    "start_time": "2022-05-15T14:50:01.446Z"
   },
   {
    "duration": 0,
    "start_time": "2022-05-15T14:50:01.447Z"
   },
   {
    "duration": 0,
    "start_time": "2022-05-15T14:50:01.448Z"
   },
   {
    "duration": 0,
    "start_time": "2022-05-15T14:50:01.449Z"
   },
   {
    "duration": 0,
    "start_time": "2022-05-15T14:50:01.450Z"
   },
   {
    "duration": 0,
    "start_time": "2022-05-15T14:50:01.451Z"
   },
   {
    "duration": 0,
    "start_time": "2022-05-15T14:50:01.452Z"
   },
   {
    "duration": 0,
    "start_time": "2022-05-15T14:50:01.453Z"
   },
   {
    "duration": 0,
    "start_time": "2022-05-15T14:50:01.454Z"
   },
   {
    "duration": 0,
    "start_time": "2022-05-15T14:50:01.455Z"
   },
   {
    "duration": 0,
    "start_time": "2022-05-15T14:50:01.456Z"
   },
   {
    "duration": 0,
    "start_time": "2022-05-15T14:50:01.500Z"
   },
   {
    "duration": 0,
    "start_time": "2022-05-15T14:50:01.501Z"
   },
   {
    "duration": 3,
    "start_time": "2022-05-15T14:50:33.735Z"
   },
   {
    "duration": 2114,
    "start_time": "2022-05-15T14:50:33.739Z"
   },
   {
    "duration": 111,
    "start_time": "2022-05-15T14:50:35.855Z"
   },
   {
    "duration": 4,
    "start_time": "2022-05-15T14:50:35.968Z"
   },
   {
    "duration": 13,
    "start_time": "2022-05-15T14:50:35.973Z"
   },
   {
    "duration": 13,
    "start_time": "2022-05-15T14:50:35.988Z"
   },
   {
    "duration": 4,
    "start_time": "2022-05-15T14:50:36.002Z"
   },
   {
    "duration": 14,
    "start_time": "2022-05-15T14:50:36.007Z"
   },
   {
    "duration": 4,
    "start_time": "2022-05-15T14:50:36.022Z"
   },
   {
    "duration": 1494,
    "start_time": "2022-05-15T14:50:36.029Z"
   },
   {
    "duration": 460,
    "start_time": "2022-05-15T14:50:37.525Z"
   },
   {
    "duration": 16,
    "start_time": "2022-05-15T14:50:37.987Z"
   },
   {
    "duration": 9,
    "start_time": "2022-05-15T14:50:38.005Z"
   },
   {
    "duration": 8,
    "start_time": "2022-05-15T14:50:38.015Z"
   },
   {
    "duration": 431,
    "start_time": "2022-05-15T14:50:38.025Z"
   },
   {
    "duration": 6,
    "start_time": "2022-05-15T14:50:38.458Z"
   },
   {
    "duration": 7,
    "start_time": "2022-05-15T14:50:38.466Z"
   },
   {
    "duration": 31,
    "start_time": "2022-05-15T14:50:38.474Z"
   },
   {
    "duration": 2,
    "start_time": "2022-05-15T14:50:38.507Z"
   },
   {
    "duration": 3070,
    "start_time": "2022-05-15T14:50:38.510Z"
   },
   {
    "duration": 3,
    "start_time": "2022-05-15T14:50:41.581Z"
   },
   {
    "duration": 6,
    "start_time": "2022-05-15T14:50:41.585Z"
   },
   {
    "duration": 10,
    "start_time": "2022-05-15T14:50:41.600Z"
   },
   {
    "duration": 9,
    "start_time": "2022-05-15T14:50:41.612Z"
   },
   {
    "duration": 16,
    "start_time": "2022-05-15T14:50:41.622Z"
   },
   {
    "duration": 16,
    "start_time": "2022-05-15T14:50:41.640Z"
   },
   {
    "duration": 53,
    "start_time": "2022-05-15T14:50:41.658Z"
   },
   {
    "duration": 25,
    "start_time": "2022-05-15T14:50:41.858Z"
   },
   {
    "duration": 4,
    "start_time": "2022-05-15T14:50:41.885Z"
   },
   {
    "duration": 12,
    "start_time": "2022-05-15T14:50:41.890Z"
   },
   {
    "duration": 421,
    "start_time": "2022-05-15T14:50:41.904Z"
   },
   {
    "duration": 440,
    "start_time": "2022-05-15T14:50:42.327Z"
   },
   {
    "duration": 5,
    "start_time": "2022-05-15T14:50:42.769Z"
   },
   {
    "duration": 8,
    "start_time": "2022-05-15T14:50:42.775Z"
   },
   {
    "duration": 16,
    "start_time": "2022-05-15T14:50:42.784Z"
   },
   {
    "duration": 7,
    "start_time": "2022-05-15T14:50:42.801Z"
   },
   {
    "duration": 12,
    "start_time": "2022-05-15T14:50:42.810Z"
   },
   {
    "duration": 2,
    "start_time": "2022-05-15T14:50:42.823Z"
   },
   {
    "duration": 4,
    "start_time": "2022-05-15T14:50:42.827Z"
   },
   {
    "duration": 4,
    "start_time": "2022-05-15T14:50:42.832Z"
   },
   {
    "duration": 19,
    "start_time": "2022-05-15T14:50:42.837Z"
   },
   {
    "duration": 7,
    "start_time": "2022-05-15T14:50:42.857Z"
   },
   {
    "duration": 35,
    "start_time": "2022-05-15T14:50:42.866Z"
   },
   {
    "duration": 374,
    "start_time": "2022-05-15T14:50:42.902Z"
   },
   {
    "duration": 3,
    "start_time": "2022-05-15T14:50:43.277Z"
   },
   {
    "duration": 568,
    "start_time": "2022-05-15T14:50:43.282Z"
   },
   {
    "duration": 3,
    "start_time": "2022-05-15T14:50:43.851Z"
   },
   {
    "duration": 10,
    "start_time": "2022-05-15T14:50:43.856Z"
   },
   {
    "duration": 7,
    "start_time": "2022-05-15T14:50:43.868Z"
   },
   {
    "duration": 5,
    "start_time": "2022-05-15T14:50:43.877Z"
   },
   {
    "duration": 18,
    "start_time": "2022-05-15T14:50:43.883Z"
   },
   {
    "duration": 13,
    "start_time": "2022-05-15T14:50:43.902Z"
   },
   {
    "duration": 84,
    "start_time": "2022-05-15T14:50:43.917Z"
   },
   {
    "duration": 4,
    "start_time": "2022-05-15T14:50:44.003Z"
   },
   {
    "duration": 16,
    "start_time": "2022-05-15T14:50:44.009Z"
   },
   {
    "duration": 3,
    "start_time": "2022-05-15T14:50:44.101Z"
   },
   {
    "duration": 9,
    "start_time": "2022-05-15T14:50:44.105Z"
   },
   {
    "duration": 4,
    "start_time": "2022-05-15T14:50:44.116Z"
   },
   {
    "duration": 84,
    "start_time": "2022-05-15T14:50:44.122Z"
   },
   {
    "duration": 7,
    "start_time": "2022-05-15T14:50:44.208Z"
   },
   {
    "duration": 83,
    "start_time": "2022-05-15T14:50:44.217Z"
   },
   {
    "duration": 12,
    "start_time": "2022-05-15T14:50:44.302Z"
   },
   {
    "duration": 86,
    "start_time": "2022-05-15T14:50:44.316Z"
   },
   {
    "duration": 3,
    "start_time": "2022-05-15T14:50:44.404Z"
   },
   {
    "duration": 12,
    "start_time": "2022-05-15T14:50:44.409Z"
   },
   {
    "duration": 10,
    "start_time": "2022-05-15T14:50:44.422Z"
   },
   {
    "duration": 8,
    "start_time": "2022-05-15T14:50:44.434Z"
   },
   {
    "duration": 5,
    "start_time": "2022-05-15T14:50:44.443Z"
   },
   {
    "duration": 6,
    "start_time": "2022-05-15T14:50:44.449Z"
   },
   {
    "duration": 9,
    "start_time": "2022-05-15T14:50:44.456Z"
   },
   {
    "duration": 4,
    "start_time": "2022-05-15T14:50:44.500Z"
   },
   {
    "duration": 100,
    "start_time": "2022-05-15T14:50:44.505Z"
   },
   {
    "duration": 202,
    "start_time": "2022-05-15T14:50:44.607Z"
   },
   {
    "duration": 4,
    "start_time": "2022-05-15T15:01:51.682Z"
   },
   {
    "duration": 5,
    "start_time": "2022-05-15T15:02:05.344Z"
   },
   {
    "duration": 12,
    "start_time": "2022-05-15T15:02:13.630Z"
   },
   {
    "duration": 8,
    "start_time": "2022-05-15T15:02:27.806Z"
   },
   {
    "duration": 7,
    "start_time": "2022-05-15T15:03:51.305Z"
   },
   {
    "duration": 4,
    "start_time": "2022-05-15T15:04:33.676Z"
   },
   {
    "duration": 4,
    "start_time": "2022-05-15T15:05:10.186Z"
   },
   {
    "duration": 6,
    "start_time": "2022-05-15T15:10:00.967Z"
   },
   {
    "duration": 10,
    "start_time": "2022-05-15T15:10:33.662Z"
   },
   {
    "duration": 9,
    "start_time": "2022-05-15T15:11:11.083Z"
   },
   {
    "duration": 2,
    "start_time": "2022-05-15T15:11:25.146Z"
   },
   {
    "duration": 2131,
    "start_time": "2022-05-15T15:11:25.150Z"
   },
   {
    "duration": 112,
    "start_time": "2022-05-15T15:11:27.284Z"
   },
   {
    "duration": 3,
    "start_time": "2022-05-15T15:11:27.398Z"
   },
   {
    "duration": 12,
    "start_time": "2022-05-15T15:11:27.404Z"
   },
   {
    "duration": 10,
    "start_time": "2022-05-15T15:11:27.418Z"
   },
   {
    "duration": 3,
    "start_time": "2022-05-15T15:11:27.430Z"
   },
   {
    "duration": 10,
    "start_time": "2022-05-15T15:11:27.435Z"
   },
   {
    "duration": 4,
    "start_time": "2022-05-15T15:11:27.447Z"
   },
   {
    "duration": 1462,
    "start_time": "2022-05-15T15:11:27.452Z"
   },
   {
    "duration": 451,
    "start_time": "2022-05-15T15:11:28.916Z"
   },
   {
    "duration": 6,
    "start_time": "2022-05-15T15:11:29.369Z"
   },
   {
    "duration": 9,
    "start_time": "2022-05-15T15:11:29.377Z"
   },
   {
    "duration": 15,
    "start_time": "2022-05-15T15:11:29.387Z"
   },
   {
    "duration": 441,
    "start_time": "2022-05-15T15:11:29.404Z"
   },
   {
    "duration": 6,
    "start_time": "2022-05-15T15:11:29.847Z"
   },
   {
    "duration": 10,
    "start_time": "2022-05-15T15:11:29.854Z"
   },
   {
    "duration": 10,
    "start_time": "2022-05-15T15:11:29.866Z"
   },
   {
    "duration": 2,
    "start_time": "2022-05-15T15:11:29.878Z"
   },
   {
    "duration": 4045,
    "start_time": "2022-05-15T15:11:29.881Z"
   },
   {
    "duration": 2,
    "start_time": "2022-05-15T15:11:33.928Z"
   },
   {
    "duration": 7,
    "start_time": "2022-05-15T15:11:33.931Z"
   },
   {
    "duration": 16,
    "start_time": "2022-05-15T15:11:33.939Z"
   },
   {
    "duration": 8,
    "start_time": "2022-05-15T15:11:33.957Z"
   },
   {
    "duration": 34,
    "start_time": "2022-05-15T15:11:33.967Z"
   },
   {
    "duration": 17,
    "start_time": "2022-05-15T15:11:34.002Z"
   },
   {
    "duration": 25,
    "start_time": "2022-05-15T15:11:34.020Z"
   },
   {
    "duration": 189,
    "start_time": "2022-05-15T15:11:34.046Z"
   },
   {
    "duration": 4,
    "start_time": "2022-05-15T15:11:34.239Z"
   },
   {
    "duration": 16,
    "start_time": "2022-05-15T15:11:34.244Z"
   },
   {
    "duration": 453,
    "start_time": "2022-05-15T15:11:34.262Z"
   },
   {
    "duration": 376,
    "start_time": "2022-05-15T15:11:34.717Z"
   },
   {
    "duration": 5,
    "start_time": "2022-05-15T15:11:35.100Z"
   },
   {
    "duration": 9,
    "start_time": "2022-05-15T15:11:35.106Z"
   },
   {
    "duration": 9,
    "start_time": "2022-05-15T15:11:35.117Z"
   },
   {
    "duration": 6,
    "start_time": "2022-05-15T15:11:35.128Z"
   },
   {
    "duration": 21,
    "start_time": "2022-05-15T15:11:35.136Z"
   },
   {
    "duration": 4,
    "start_time": "2022-05-15T15:11:35.158Z"
   },
   {
    "duration": 6,
    "start_time": "2022-05-15T15:11:35.163Z"
   },
   {
    "duration": 6,
    "start_time": "2022-05-15T15:11:35.171Z"
   },
   {
    "duration": 35,
    "start_time": "2022-05-15T15:11:35.178Z"
   },
   {
    "duration": 8,
    "start_time": "2022-05-15T15:11:35.214Z"
   },
   {
    "duration": 4,
    "start_time": "2022-05-15T15:11:35.224Z"
   },
   {
    "duration": 382,
    "start_time": "2022-05-15T15:11:35.230Z"
   },
   {
    "duration": 3,
    "start_time": "2022-05-15T15:11:35.614Z"
   },
   {
    "duration": 586,
    "start_time": "2022-05-15T15:11:35.619Z"
   },
   {
    "duration": 2,
    "start_time": "2022-05-15T15:11:36.207Z"
   },
   {
    "duration": 10,
    "start_time": "2022-05-15T15:11:36.211Z"
   },
   {
    "duration": 7,
    "start_time": "2022-05-15T15:11:36.223Z"
   },
   {
    "duration": 4,
    "start_time": "2022-05-15T15:11:36.231Z"
   },
   {
    "duration": 4,
    "start_time": "2022-05-15T15:11:36.237Z"
   },
   {
    "duration": 11,
    "start_time": "2022-05-15T15:11:36.243Z"
   },
   {
    "duration": 10,
    "start_time": "2022-05-15T15:11:36.300Z"
   },
   {
    "duration": 89,
    "start_time": "2022-05-15T15:11:36.312Z"
   },
   {
    "duration": 3,
    "start_time": "2022-05-15T15:11:36.403Z"
   },
   {
    "duration": 92,
    "start_time": "2022-05-15T15:11:36.408Z"
   },
   {
    "duration": 9,
    "start_time": "2022-05-15T15:11:36.502Z"
   },
   {
    "duration": 14,
    "start_time": "2022-05-15T15:11:36.513Z"
   },
   {
    "duration": 82,
    "start_time": "2022-05-15T15:11:36.529Z"
   },
   {
    "duration": 7,
    "start_time": "2022-05-15T15:11:36.613Z"
   },
   {
    "duration": 86,
    "start_time": "2022-05-15T15:11:36.621Z"
   },
   {
    "duration": 8,
    "start_time": "2022-05-15T15:11:36.710Z"
   },
   {
    "duration": 87,
    "start_time": "2022-05-15T15:11:36.720Z"
   },
   {
    "duration": 14,
    "start_time": "2022-05-15T15:11:36.809Z"
   },
   {
    "duration": 10,
    "start_time": "2022-05-15T15:11:36.825Z"
   },
   {
    "duration": 10,
    "start_time": "2022-05-15T15:11:36.837Z"
   },
   {
    "duration": 10,
    "start_time": "2022-05-15T15:11:36.849Z"
   },
   {
    "duration": 4,
    "start_time": "2022-05-15T15:11:36.861Z"
   },
   {
    "duration": 6,
    "start_time": "2022-05-15T15:11:36.867Z"
   },
   {
    "duration": 27,
    "start_time": "2022-05-15T15:11:36.874Z"
   },
   {
    "duration": 4,
    "start_time": "2022-05-15T15:11:36.903Z"
   },
   {
    "duration": 11,
    "start_time": "2022-05-15T15:11:36.909Z"
   },
   {
    "duration": 7,
    "start_time": "2022-05-15T15:11:37.001Z"
   },
   {
    "duration": 6,
    "start_time": "2022-05-15T15:11:37.010Z"
   },
   {
    "duration": 84,
    "start_time": "2022-05-15T15:11:37.017Z"
   },
   {
    "duration": 108,
    "start_time": "2022-05-15T15:11:37.103Z"
   },
   {
    "duration": 3,
    "start_time": "2022-05-15T15:45:14.713Z"
   },
   {
    "duration": 2167,
    "start_time": "2022-05-15T15:45:14.718Z"
   },
   {
    "duration": 117,
    "start_time": "2022-05-15T15:45:16.887Z"
   },
   {
    "duration": 4,
    "start_time": "2022-05-15T15:45:17.005Z"
   },
   {
    "duration": 12,
    "start_time": "2022-05-15T15:45:17.010Z"
   },
   {
    "duration": 12,
    "start_time": "2022-05-15T15:45:17.024Z"
   },
   {
    "duration": 3,
    "start_time": "2022-05-15T15:45:17.038Z"
   },
   {
    "duration": 10,
    "start_time": "2022-05-15T15:45:17.043Z"
   },
   {
    "duration": 2,
    "start_time": "2022-05-15T15:45:17.055Z"
   },
   {
    "duration": 1465,
    "start_time": "2022-05-15T15:45:17.058Z"
   },
   {
    "duration": 458,
    "start_time": "2022-05-15T15:45:18.525Z"
   },
   {
    "duration": 6,
    "start_time": "2022-05-15T15:45:18.985Z"
   },
   {
    "duration": 10,
    "start_time": "2022-05-15T15:45:19.001Z"
   },
   {
    "duration": 5,
    "start_time": "2022-05-15T15:45:19.015Z"
   },
   {
    "duration": 445,
    "start_time": "2022-05-15T15:45:19.021Z"
   },
   {
    "duration": 7,
    "start_time": "2022-05-15T15:45:19.468Z"
   },
   {
    "duration": 25,
    "start_time": "2022-05-15T15:45:19.476Z"
   },
   {
    "duration": 10,
    "start_time": "2022-05-15T15:45:19.503Z"
   },
   {
    "duration": 2,
    "start_time": "2022-05-15T15:45:19.515Z"
   },
   {
    "duration": 3068,
    "start_time": "2022-05-15T15:45:19.519Z"
   },
   {
    "duration": 3,
    "start_time": "2022-05-15T15:45:22.589Z"
   },
   {
    "duration": 7,
    "start_time": "2022-05-15T15:45:22.594Z"
   },
   {
    "duration": 13,
    "start_time": "2022-05-15T15:45:22.603Z"
   },
   {
    "duration": 9,
    "start_time": "2022-05-15T15:45:22.618Z"
   },
   {
    "duration": 17,
    "start_time": "2022-05-15T15:45:22.629Z"
   },
   {
    "duration": 15,
    "start_time": "2022-05-15T15:45:22.648Z"
   },
   {
    "duration": 52,
    "start_time": "2022-05-15T15:45:22.664Z"
   },
   {
    "duration": 185,
    "start_time": "2022-05-15T15:45:22.718Z"
   },
   {
    "duration": 5,
    "start_time": "2022-05-15T15:45:22.904Z"
   },
   {
    "duration": 10,
    "start_time": "2022-05-15T15:45:22.911Z"
   },
   {
    "duration": 404,
    "start_time": "2022-05-15T15:45:22.923Z"
   },
   {
    "duration": 429,
    "start_time": "2022-05-15T15:45:23.328Z"
   },
   {
    "duration": 5,
    "start_time": "2022-05-15T15:45:23.759Z"
   },
   {
    "duration": 9,
    "start_time": "2022-05-15T15:45:23.766Z"
   },
   {
    "duration": 8,
    "start_time": "2022-05-15T15:45:23.777Z"
   },
   {
    "duration": 20,
    "start_time": "2022-05-15T15:45:23.787Z"
   },
   {
    "duration": 14,
    "start_time": "2022-05-15T15:45:23.808Z"
   },
   {
    "duration": 3,
    "start_time": "2022-05-15T15:45:23.823Z"
   },
   {
    "duration": 4,
    "start_time": "2022-05-15T15:45:23.828Z"
   },
   {
    "duration": 5,
    "start_time": "2022-05-15T15:45:23.834Z"
   },
   {
    "duration": 19,
    "start_time": "2022-05-15T15:45:23.844Z"
   },
   {
    "duration": 41,
    "start_time": "2022-05-15T15:45:23.865Z"
   },
   {
    "duration": 4,
    "start_time": "2022-05-15T15:45:23.907Z"
   },
   {
    "duration": 388,
    "start_time": "2022-05-15T15:45:23.913Z"
   },
   {
    "duration": 3,
    "start_time": "2022-05-15T15:45:24.303Z"
   },
   {
    "duration": 583,
    "start_time": "2022-05-15T15:45:24.308Z"
   },
   {
    "duration": 4,
    "start_time": "2022-05-15T15:45:24.899Z"
   },
   {
    "duration": 10,
    "start_time": "2022-05-15T15:45:24.904Z"
   },
   {
    "duration": 7,
    "start_time": "2022-05-15T15:45:24.915Z"
   },
   {
    "duration": 5,
    "start_time": "2022-05-15T15:45:24.924Z"
   },
   {
    "duration": 6,
    "start_time": "2022-05-15T15:45:24.930Z"
   },
   {
    "duration": 13,
    "start_time": "2022-05-15T15:45:24.938Z"
   },
   {
    "duration": 11,
    "start_time": "2022-05-15T15:45:25.001Z"
   },
   {
    "duration": 93,
    "start_time": "2022-05-15T15:45:25.014Z"
   },
   {
    "duration": 5,
    "start_time": "2022-05-15T15:45:25.109Z"
   },
   {
    "duration": 3,
    "start_time": "2022-05-15T15:45:25.200Z"
   },
   {
    "duration": 8,
    "start_time": "2022-05-15T15:45:25.205Z"
   },
   {
    "duration": 3,
    "start_time": "2022-05-15T15:45:25.215Z"
   },
   {
    "duration": 84,
    "start_time": "2022-05-15T15:45:25.220Z"
   },
   {
    "duration": 5,
    "start_time": "2022-05-15T15:45:25.306Z"
   },
   {
    "duration": 7,
    "start_time": "2022-05-15T15:45:25.313Z"
   },
   {
    "duration": 7,
    "start_time": "2022-05-15T15:45:25.400Z"
   },
   {
    "duration": 10,
    "start_time": "2022-05-15T15:45:25.409Z"
   },
   {
    "duration": 81,
    "start_time": "2022-05-15T15:45:25.420Z"
   },
   {
    "duration": 10,
    "start_time": "2022-05-15T15:45:25.503Z"
   },
   {
    "duration": 10,
    "start_time": "2022-05-15T15:45:25.515Z"
   },
   {
    "duration": 8,
    "start_time": "2022-05-15T15:45:25.526Z"
   },
   {
    "duration": 4,
    "start_time": "2022-05-15T15:45:25.536Z"
   },
   {
    "duration": 8,
    "start_time": "2022-05-15T15:45:25.541Z"
   },
   {
    "duration": 7,
    "start_time": "2022-05-15T15:45:25.550Z"
   },
   {
    "duration": 45,
    "start_time": "2022-05-15T15:45:25.559Z"
   },
   {
    "duration": 95,
    "start_time": "2022-05-15T15:45:25.606Z"
   },
   {
    "duration": 5,
    "start_time": "2022-05-15T15:45:25.703Z"
   },
   {
    "duration": 7,
    "start_time": "2022-05-15T15:45:25.709Z"
   },
   {
    "duration": 12,
    "start_time": "2022-05-15T15:45:25.718Z"
   },
   {
    "duration": 106,
    "start_time": "2022-05-15T15:45:25.802Z"
   },
   {
    "duration": 3,
    "start_time": "2022-05-15T19:32:54.417Z"
   },
   {
    "duration": 4407,
    "start_time": "2022-05-15T19:32:54.422Z"
   },
   {
    "duration": 73,
    "start_time": "2022-05-15T19:32:58.831Z"
   },
   {
    "duration": 4,
    "start_time": "2022-05-15T19:32:58.906Z"
   },
   {
    "duration": 15,
    "start_time": "2022-05-15T19:32:58.912Z"
   },
   {
    "duration": 10,
    "start_time": "2022-05-15T19:32:58.929Z"
   },
   {
    "duration": 4,
    "start_time": "2022-05-15T19:32:58.940Z"
   },
   {
    "duration": 11,
    "start_time": "2022-05-15T19:32:58.945Z"
   },
   {
    "duration": 2,
    "start_time": "2022-05-15T19:32:58.958Z"
   },
   {
    "duration": 1523,
    "start_time": "2022-05-15T19:32:58.961Z"
   },
   {
    "duration": 558,
    "start_time": "2022-05-15T19:33:00.487Z"
   },
   {
    "duration": 8,
    "start_time": "2022-05-15T19:33:01.046Z"
   },
   {
    "duration": 10,
    "start_time": "2022-05-15T19:33:01.055Z"
   },
   {
    "duration": 22,
    "start_time": "2022-05-15T19:33:01.067Z"
   },
   {
    "duration": 473,
    "start_time": "2022-05-15T19:33:01.091Z"
   },
   {
    "duration": 6,
    "start_time": "2022-05-15T19:33:01.566Z"
   },
   {
    "duration": 20,
    "start_time": "2022-05-15T19:33:01.573Z"
   },
   {
    "duration": 46,
    "start_time": "2022-05-15T19:33:01.595Z"
   },
   {
    "duration": 3,
    "start_time": "2022-05-15T19:33:01.643Z"
   },
   {
    "duration": 3176,
    "start_time": "2022-05-15T19:33:01.647Z"
   },
   {
    "duration": 3,
    "start_time": "2022-05-15T19:33:04.825Z"
   },
   {
    "duration": 8,
    "start_time": "2022-05-15T19:33:04.829Z"
   },
   {
    "duration": 15,
    "start_time": "2022-05-15T19:33:04.838Z"
   },
   {
    "duration": 10,
    "start_time": "2022-05-15T19:33:04.854Z"
   },
   {
    "duration": 32,
    "start_time": "2022-05-15T19:33:04.865Z"
   },
   {
    "duration": 17,
    "start_time": "2022-05-15T19:33:04.898Z"
   },
   {
    "duration": 26,
    "start_time": "2022-05-15T19:33:04.916Z"
   },
   {
    "duration": 52,
    "start_time": "2022-05-15T19:33:04.943Z"
   },
   {
    "duration": 4,
    "start_time": "2022-05-15T19:33:05.000Z"
   },
   {
    "duration": 18,
    "start_time": "2022-05-15T19:33:05.005Z"
   },
   {
    "duration": 368,
    "start_time": "2022-05-15T19:33:05.025Z"
   },
   {
    "duration": 404,
    "start_time": "2022-05-15T19:33:05.394Z"
   },
   {
    "duration": 5,
    "start_time": "2022-05-15T19:33:05.799Z"
   },
   {
    "duration": 9,
    "start_time": "2022-05-15T19:33:05.806Z"
   },
   {
    "duration": 8,
    "start_time": "2022-05-15T19:33:05.816Z"
   },
   {
    "duration": 7,
    "start_time": "2022-05-15T19:33:05.825Z"
   },
   {
    "duration": 24,
    "start_time": "2022-05-15T19:33:05.833Z"
   },
   {
    "duration": 3,
    "start_time": "2022-05-15T19:33:05.859Z"
   },
   {
    "duration": 6,
    "start_time": "2022-05-15T19:33:05.864Z"
   },
   {
    "duration": 5,
    "start_time": "2022-05-15T19:33:05.889Z"
   },
   {
    "duration": 20,
    "start_time": "2022-05-15T19:33:05.896Z"
   },
   {
    "duration": 8,
    "start_time": "2022-05-15T19:33:05.918Z"
   },
   {
    "duration": 6,
    "start_time": "2022-05-15T19:33:05.927Z"
   },
   {
    "duration": 404,
    "start_time": "2022-05-15T19:33:05.934Z"
   },
   {
    "duration": 3,
    "start_time": "2022-05-15T19:33:06.340Z"
   },
   {
    "duration": 568,
    "start_time": "2022-05-15T19:33:06.344Z"
   },
   {
    "duration": 4,
    "start_time": "2022-05-15T19:33:06.913Z"
   },
   {
    "duration": 13,
    "start_time": "2022-05-15T19:33:06.918Z"
   },
   {
    "duration": 8,
    "start_time": "2022-05-15T19:33:06.933Z"
   },
   {
    "duration": 5,
    "start_time": "2022-05-15T19:33:06.942Z"
   },
   {
    "duration": 5,
    "start_time": "2022-05-15T19:33:06.949Z"
   },
   {
    "duration": 39,
    "start_time": "2022-05-15T19:33:06.956Z"
   },
   {
    "duration": 99,
    "start_time": "2022-05-15T19:33:07.001Z"
   },
   {
    "duration": 6,
    "start_time": "2022-05-15T19:33:07.187Z"
   },
   {
    "duration": 93,
    "start_time": "2022-05-15T19:33:07.196Z"
   },
   {
    "duration": 6,
    "start_time": "2022-05-15T19:33:07.290Z"
   },
   {
    "duration": 8,
    "start_time": "2022-05-15T19:33:07.297Z"
   },
   {
    "duration": 11,
    "start_time": "2022-05-15T19:33:07.307Z"
   },
   {
    "duration": 79,
    "start_time": "2022-05-15T19:33:07.320Z"
   },
   {
    "duration": 6,
    "start_time": "2022-05-15T19:33:07.401Z"
   },
   {
    "duration": 8,
    "start_time": "2022-05-15T19:33:07.488Z"
   },
   {
    "duration": 90,
    "start_time": "2022-05-15T19:33:07.498Z"
   },
   {
    "duration": 7,
    "start_time": "2022-05-15T19:33:07.590Z"
   },
   {
    "duration": 7,
    "start_time": "2022-05-15T19:33:07.599Z"
   },
   {
    "duration": 12,
    "start_time": "2022-05-15T19:33:07.607Z"
   },
   {
    "duration": 11,
    "start_time": "2022-05-15T19:33:07.621Z"
   },
   {
    "duration": 8,
    "start_time": "2022-05-15T19:33:07.633Z"
   },
   {
    "duration": 4,
    "start_time": "2022-05-15T19:33:07.643Z"
   },
   {
    "duration": 7,
    "start_time": "2022-05-15T19:33:07.649Z"
   },
   {
    "duration": 32,
    "start_time": "2022-05-15T19:33:07.658Z"
   },
   {
    "duration": 19,
    "start_time": "2022-05-15T19:33:07.691Z"
   },
   {
    "duration": 13,
    "start_time": "2022-05-15T19:33:07.787Z"
   },
   {
    "duration": 8,
    "start_time": "2022-05-15T19:33:07.802Z"
   },
   {
    "duration": 7,
    "start_time": "2022-05-15T19:33:07.811Z"
   },
   {
    "duration": 72,
    "start_time": "2022-05-15T19:33:07.820Z"
   },
   {
    "duration": 122,
    "start_time": "2022-05-15T19:33:07.894Z"
   }
  ],
  "kernelspec": {
   "display_name": "Python 3 (ipykernel)",
   "language": "python",
   "name": "python3"
  },
  "language_info": {
   "codemirror_mode": {
    "name": "ipython",
    "version": 3
   },
   "file_extension": ".py",
   "mimetype": "text/x-python",
   "name": "python",
   "nbconvert_exporter": "python",
   "pygments_lexer": "ipython3",
   "version": "3.9.7"
  },
  "toc": {
   "base_numbering": 1,
   "nav_menu": {},
   "number_sections": true,
   "sideBar": true,
   "skip_h1_title": true,
   "title_cell": "Table of Contents",
   "title_sidebar": "Contents",
   "toc_cell": false,
   "toc_position": {},
   "toc_section_display": true,
   "toc_window_display": false
  }
 },
 "nbformat": 4,
 "nbformat_minor": 4
}
